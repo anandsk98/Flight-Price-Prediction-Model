{
  "nbformat": 4,
  "nbformat_minor": 0,
  "metadata": {
    "colab": {
      "name": "flightprice1.ipynb",
      "provenance": [],
      "collapsed_sections": [],
      "authorship_tag": "ABX9TyNWyohAbiK6qP2eBgzNDi/A",
      "include_colab_link": true
    },
    "kernelspec": {
      "name": "python3",
      "display_name": "Python 3"
    }
  },
  "cells": [
    {
      "cell_type": "markdown",
      "metadata": {
        "id": "view-in-github",
        "colab_type": "text"
      },
      "source": [
        "<a href=\"https://colab.research.google.com/github/anandsk98/Flight-Price-Prediction-Model/blob/main/flightprice1.ipynb\" target=\"_parent\"><img src=\"https://colab.research.google.com/assets/colab-badge.svg\" alt=\"Open In Colab\"/></a>"
      ]
    },
    {
      "cell_type": "code",
      "metadata": {
        "id": "9QRE4F2zu7Ml"
      },
      "source": [
        "import numpy as np\n",
        "import pandas as pd\n",
        "import matplotlib.pyplot as plt\n",
        "import seaborn as sns"
      ],
      "execution_count": null,
      "outputs": []
    },
    {
      "cell_type": "code",
      "metadata": {
        "id": "l3PKA8vXvBkS",
        "outputId": "b7cd5d78-56d0-4467-cc56-224d4ce9b375",
        "colab": {
          "resources": {
            "http://localhost:8080/nbextensions/google.colab/files.js": {
              "data": "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",
              "ok": true,
              "headers": [
                [
                  "content-type",
                  "application/javascript"
                ]
              ],
              "status": 200,
              "status_text": ""
            }
          },
          "base_uri": "https://localhost:8080/",
          "height": 73
        }
      },
      "source": [
        "from google.colab import files\n",
        "uploaded=files.upload()"
      ],
      "execution_count": null,
      "outputs": [
        {
          "output_type": "display_data",
          "data": {
            "text/html": [
              "\n",
              "     <input type=\"file\" id=\"files-89a046a4-c06e-47cd-a3ed-b456813bba9a\" name=\"files[]\" multiple disabled\n",
              "        style=\"border:none\" />\n",
              "     <output id=\"result-89a046a4-c06e-47cd-a3ed-b456813bba9a\">\n",
              "      Upload widget is only available when the cell has been executed in the\n",
              "      current browser session. Please rerun this cell to enable.\n",
              "      </output>\n",
              "      <script src=\"/nbextensions/google.colab/files.js\"></script> "
            ],
            "text/plain": [
              "<IPython.core.display.HTML object>"
            ]
          },
          "metadata": {
            "tags": []
          }
        },
        {
          "output_type": "stream",
          "text": [
            "Saving Data_Train.xlsx to Data_Train.xlsx\n"
          ],
          "name": "stdout"
        }
      ]
    },
    {
      "cell_type": "code",
      "metadata": {
        "id": "NcEAwyGUvUM4"
      },
      "source": [
        "train_data = pd.read_excel(r\"Data_Train.xlsx\")"
      ],
      "execution_count": null,
      "outputs": []
    },
    {
      "cell_type": "code",
      "metadata": {
        "id": "86mL9NJgvYnd",
        "outputId": "1b2aa8df-7531-4c9b-b966-9d8872b56527",
        "colab": {
          "base_uri": "https://localhost:8080/",
          "height": 402
        }
      },
      "source": [
        "train_data"
      ],
      "execution_count": null,
      "outputs": [
        {
          "output_type": "execute_result",
          "data": {
            "text/html": [
              "<div>\n",
              "<style scoped>\n",
              "    .dataframe tbody tr th:only-of-type {\n",
              "        vertical-align: middle;\n",
              "    }\n",
              "\n",
              "    .dataframe tbody tr th {\n",
              "        vertical-align: top;\n",
              "    }\n",
              "\n",
              "    .dataframe thead th {\n",
              "        text-align: right;\n",
              "    }\n",
              "</style>\n",
              "<table border=\"1\" class=\"dataframe\">\n",
              "  <thead>\n",
              "    <tr style=\"text-align: right;\">\n",
              "      <th></th>\n",
              "      <th>Airline</th>\n",
              "      <th>Date_of_Journey</th>\n",
              "      <th>Source</th>\n",
              "      <th>Destination</th>\n",
              "      <th>Route</th>\n",
              "      <th>Dep_Time</th>\n",
              "      <th>Arrival_Time</th>\n",
              "      <th>Duration</th>\n",
              "      <th>Total_Stops</th>\n",
              "      <th>Additional_Info</th>\n",
              "      <th>Price</th>\n",
              "    </tr>\n",
              "  </thead>\n",
              "  <tbody>\n",
              "    <tr>\n",
              "      <th>0</th>\n",
              "      <td>IndiGo</td>\n",
              "      <td>24/03/2019</td>\n",
              "      <td>Banglore</td>\n",
              "      <td>New Delhi</td>\n",
              "      <td>BLR → DEL</td>\n",
              "      <td>22:20</td>\n",
              "      <td>01:10 22 Mar</td>\n",
              "      <td>2h 50m</td>\n",
              "      <td>non-stop</td>\n",
              "      <td>No info</td>\n",
              "      <td>3897</td>\n",
              "    </tr>\n",
              "    <tr>\n",
              "      <th>1</th>\n",
              "      <td>Air India</td>\n",
              "      <td>1/05/2019</td>\n",
              "      <td>Kolkata</td>\n",
              "      <td>Banglore</td>\n",
              "      <td>CCU → IXR → BBI → BLR</td>\n",
              "      <td>05:50</td>\n",
              "      <td>13:15</td>\n",
              "      <td>7h 25m</td>\n",
              "      <td>2 stops</td>\n",
              "      <td>No info</td>\n",
              "      <td>7662</td>\n",
              "    </tr>\n",
              "    <tr>\n",
              "      <th>2</th>\n",
              "      <td>Jet Airways</td>\n",
              "      <td>9/06/2019</td>\n",
              "      <td>Delhi</td>\n",
              "      <td>Cochin</td>\n",
              "      <td>DEL → LKO → BOM → COK</td>\n",
              "      <td>09:25</td>\n",
              "      <td>04:25 10 Jun</td>\n",
              "      <td>19h</td>\n",
              "      <td>2 stops</td>\n",
              "      <td>No info</td>\n",
              "      <td>13882</td>\n",
              "    </tr>\n",
              "    <tr>\n",
              "      <th>3</th>\n",
              "      <td>IndiGo</td>\n",
              "      <td>12/05/2019</td>\n",
              "      <td>Kolkata</td>\n",
              "      <td>Banglore</td>\n",
              "      <td>CCU → NAG → BLR</td>\n",
              "      <td>18:05</td>\n",
              "      <td>23:30</td>\n",
              "      <td>5h 25m</td>\n",
              "      <td>1 stop</td>\n",
              "      <td>No info</td>\n",
              "      <td>6218</td>\n",
              "    </tr>\n",
              "    <tr>\n",
              "      <th>4</th>\n",
              "      <td>IndiGo</td>\n",
              "      <td>01/03/2019</td>\n",
              "      <td>Banglore</td>\n",
              "      <td>New Delhi</td>\n",
              "      <td>BLR → NAG → DEL</td>\n",
              "      <td>16:50</td>\n",
              "      <td>21:35</td>\n",
              "      <td>4h 45m</td>\n",
              "      <td>1 stop</td>\n",
              "      <td>No info</td>\n",
              "      <td>13302</td>\n",
              "    </tr>\n",
              "    <tr>\n",
              "      <th>...</th>\n",
              "      <td>...</td>\n",
              "      <td>...</td>\n",
              "      <td>...</td>\n",
              "      <td>...</td>\n",
              "      <td>...</td>\n",
              "      <td>...</td>\n",
              "      <td>...</td>\n",
              "      <td>...</td>\n",
              "      <td>...</td>\n",
              "      <td>...</td>\n",
              "      <td>...</td>\n",
              "    </tr>\n",
              "    <tr>\n",
              "      <th>10678</th>\n",
              "      <td>Air Asia</td>\n",
              "      <td>9/04/2019</td>\n",
              "      <td>Kolkata</td>\n",
              "      <td>Banglore</td>\n",
              "      <td>CCU → BLR</td>\n",
              "      <td>19:55</td>\n",
              "      <td>22:25</td>\n",
              "      <td>2h 30m</td>\n",
              "      <td>non-stop</td>\n",
              "      <td>No info</td>\n",
              "      <td>4107</td>\n",
              "    </tr>\n",
              "    <tr>\n",
              "      <th>10679</th>\n",
              "      <td>Air India</td>\n",
              "      <td>27/04/2019</td>\n",
              "      <td>Kolkata</td>\n",
              "      <td>Banglore</td>\n",
              "      <td>CCU → BLR</td>\n",
              "      <td>20:45</td>\n",
              "      <td>23:20</td>\n",
              "      <td>2h 35m</td>\n",
              "      <td>non-stop</td>\n",
              "      <td>No info</td>\n",
              "      <td>4145</td>\n",
              "    </tr>\n",
              "    <tr>\n",
              "      <th>10680</th>\n",
              "      <td>Jet Airways</td>\n",
              "      <td>27/04/2019</td>\n",
              "      <td>Banglore</td>\n",
              "      <td>Delhi</td>\n",
              "      <td>BLR → DEL</td>\n",
              "      <td>08:20</td>\n",
              "      <td>11:20</td>\n",
              "      <td>3h</td>\n",
              "      <td>non-stop</td>\n",
              "      <td>No info</td>\n",
              "      <td>7229</td>\n",
              "    </tr>\n",
              "    <tr>\n",
              "      <th>10681</th>\n",
              "      <td>Vistara</td>\n",
              "      <td>01/03/2019</td>\n",
              "      <td>Banglore</td>\n",
              "      <td>New Delhi</td>\n",
              "      <td>BLR → DEL</td>\n",
              "      <td>11:30</td>\n",
              "      <td>14:10</td>\n",
              "      <td>2h 40m</td>\n",
              "      <td>non-stop</td>\n",
              "      <td>No info</td>\n",
              "      <td>12648</td>\n",
              "    </tr>\n",
              "    <tr>\n",
              "      <th>10682</th>\n",
              "      <td>Air India</td>\n",
              "      <td>9/05/2019</td>\n",
              "      <td>Delhi</td>\n",
              "      <td>Cochin</td>\n",
              "      <td>DEL → GOI → BOM → COK</td>\n",
              "      <td>10:55</td>\n",
              "      <td>19:15</td>\n",
              "      <td>8h 20m</td>\n",
              "      <td>2 stops</td>\n",
              "      <td>No info</td>\n",
              "      <td>11753</td>\n",
              "    </tr>\n",
              "  </tbody>\n",
              "</table>\n",
              "<p>10683 rows × 11 columns</p>\n",
              "</div>"
            ],
            "text/plain": [
              "           Airline Date_of_Journey    Source  ... Total_Stops Additional_Info  Price\n",
              "0           IndiGo      24/03/2019  Banglore  ...    non-stop         No info   3897\n",
              "1        Air India       1/05/2019   Kolkata  ...     2 stops         No info   7662\n",
              "2      Jet Airways       9/06/2019     Delhi  ...     2 stops         No info  13882\n",
              "3           IndiGo      12/05/2019   Kolkata  ...      1 stop         No info   6218\n",
              "4           IndiGo      01/03/2019  Banglore  ...      1 stop         No info  13302\n",
              "...            ...             ...       ...  ...         ...             ...    ...\n",
              "10678     Air Asia       9/04/2019   Kolkata  ...    non-stop         No info   4107\n",
              "10679    Air India      27/04/2019   Kolkata  ...    non-stop         No info   4145\n",
              "10680  Jet Airways      27/04/2019  Banglore  ...    non-stop         No info   7229\n",
              "10681      Vistara      01/03/2019  Banglore  ...    non-stop         No info  12648\n",
              "10682    Air India       9/05/2019     Delhi  ...     2 stops         No info  11753\n",
              "\n",
              "[10683 rows x 11 columns]"
            ]
          },
          "metadata": {
            "tags": []
          },
          "execution_count": 5
        }
      ]
    },
    {
      "cell_type": "code",
      "metadata": {
        "id": "fOCfU4d7vdIX",
        "outputId": "d9974f86-2ec8-4c9a-d94e-104b2a47499c",
        "colab": {
          "base_uri": "https://localhost:8080/"
        }
      },
      "source": [
        "train_data.info()"
      ],
      "execution_count": null,
      "outputs": [
        {
          "output_type": "stream",
          "text": [
            "<class 'pandas.core.frame.DataFrame'>\n",
            "RangeIndex: 10683 entries, 0 to 10682\n",
            "Data columns (total 11 columns):\n",
            " #   Column           Non-Null Count  Dtype \n",
            "---  ------           --------------  ----- \n",
            " 0   Airline          10683 non-null  object\n",
            " 1   Date_of_Journey  10683 non-null  object\n",
            " 2   Source           10683 non-null  object\n",
            " 3   Destination      10683 non-null  object\n",
            " 4   Route            10682 non-null  object\n",
            " 5   Dep_Time         10683 non-null  object\n",
            " 6   Arrival_Time     10683 non-null  object\n",
            " 7   Duration         10683 non-null  object\n",
            " 8   Total_Stops      10682 non-null  object\n",
            " 9   Additional_Info  10683 non-null  object\n",
            " 10  Price            10683 non-null  int64 \n",
            "dtypes: int64(1), object(10)\n",
            "memory usage: 918.2+ KB\n"
          ],
          "name": "stdout"
        }
      ]
    },
    {
      "cell_type": "code",
      "metadata": {
        "id": "I7SeH568vgwK",
        "outputId": "3e9199b3-b739-459c-e441-660980e2d24e",
        "colab": {
          "base_uri": "https://localhost:8080/"
        }
      },
      "source": [
        "train_data.isnull().any()"
      ],
      "execution_count": null,
      "outputs": [
        {
          "output_type": "execute_result",
          "data": {
            "text/plain": [
              "Airline            False\n",
              "Date_of_Journey    False\n",
              "Source             False\n",
              "Destination        False\n",
              "Route               True\n",
              "Dep_Time           False\n",
              "Arrival_Time       False\n",
              "Duration           False\n",
              "Total_Stops         True\n",
              "Additional_Info    False\n",
              "Price              False\n",
              "dtype: bool"
            ]
          },
          "metadata": {
            "tags": []
          },
          "execution_count": 7
        }
      ]
    },
    {
      "cell_type": "code",
      "metadata": {
        "id": "FkXFde4qvjla",
        "outputId": "6295c3f9-3ad7-40f3-a4cd-cb16b0576954",
        "colab": {
          "base_uri": "https://localhost:8080/"
        }
      },
      "source": [
        "train_data.isnull().sum()"
      ],
      "execution_count": null,
      "outputs": [
        {
          "output_type": "execute_result",
          "data": {
            "text/plain": [
              "Airline            0\n",
              "Date_of_Journey    0\n",
              "Source             0\n",
              "Destination        0\n",
              "Route              1\n",
              "Dep_Time           0\n",
              "Arrival_Time       0\n",
              "Duration           0\n",
              "Total_Stops        1\n",
              "Additional_Info    0\n",
              "Price              0\n",
              "dtype: int64"
            ]
          },
          "metadata": {
            "tags": []
          },
          "execution_count": 8
        }
      ]
    },
    {
      "cell_type": "code",
      "metadata": {
        "id": "YGP0fuUMvnaj"
      },
      "source": [
        "train_data.dropna(inplace = True)"
      ],
      "execution_count": null,
      "outputs": []
    },
    {
      "cell_type": "code",
      "metadata": {
        "id": "Q4RvYU0kvsvr",
        "outputId": "c1628dea-8315-448f-fd8b-509bea32127b",
        "colab": {
          "base_uri": "https://localhost:8080/"
        }
      },
      "source": [
        "train_data.isnull().sum()"
      ],
      "execution_count": null,
      "outputs": [
        {
          "output_type": "execute_result",
          "data": {
            "text/plain": [
              "Airline            0\n",
              "Date_of_Journey    0\n",
              "Source             0\n",
              "Destination        0\n",
              "Route              0\n",
              "Dep_Time           0\n",
              "Arrival_Time       0\n",
              "Duration           0\n",
              "Total_Stops        0\n",
              "Additional_Info    0\n",
              "Price              0\n",
              "dtype: int64"
            ]
          },
          "metadata": {
            "tags": []
          },
          "execution_count": 10
        }
      ]
    },
    {
      "cell_type": "code",
      "metadata": {
        "id": "nbNRp0KivuGt",
        "outputId": "7b5de6af-4f28-402a-9e9f-41ea0cd24eb3",
        "colab": {
          "base_uri": "https://localhost:8080/",
          "height": 402
        }
      },
      "source": [
        "train_data"
      ],
      "execution_count": null,
      "outputs": [
        {
          "output_type": "execute_result",
          "data": {
            "text/html": [
              "<div>\n",
              "<style scoped>\n",
              "    .dataframe tbody tr th:only-of-type {\n",
              "        vertical-align: middle;\n",
              "    }\n",
              "\n",
              "    .dataframe tbody tr th {\n",
              "        vertical-align: top;\n",
              "    }\n",
              "\n",
              "    .dataframe thead th {\n",
              "        text-align: right;\n",
              "    }\n",
              "</style>\n",
              "<table border=\"1\" class=\"dataframe\">\n",
              "  <thead>\n",
              "    <tr style=\"text-align: right;\">\n",
              "      <th></th>\n",
              "      <th>Airline</th>\n",
              "      <th>Date_of_Journey</th>\n",
              "      <th>Source</th>\n",
              "      <th>Destination</th>\n",
              "      <th>Route</th>\n",
              "      <th>Dep_Time</th>\n",
              "      <th>Arrival_Time</th>\n",
              "      <th>Duration</th>\n",
              "      <th>Total_Stops</th>\n",
              "      <th>Additional_Info</th>\n",
              "      <th>Price</th>\n",
              "    </tr>\n",
              "  </thead>\n",
              "  <tbody>\n",
              "    <tr>\n",
              "      <th>0</th>\n",
              "      <td>IndiGo</td>\n",
              "      <td>24/03/2019</td>\n",
              "      <td>Banglore</td>\n",
              "      <td>New Delhi</td>\n",
              "      <td>BLR → DEL</td>\n",
              "      <td>22:20</td>\n",
              "      <td>01:10 22 Mar</td>\n",
              "      <td>2h 50m</td>\n",
              "      <td>non-stop</td>\n",
              "      <td>No info</td>\n",
              "      <td>3897</td>\n",
              "    </tr>\n",
              "    <tr>\n",
              "      <th>1</th>\n",
              "      <td>Air India</td>\n",
              "      <td>1/05/2019</td>\n",
              "      <td>Kolkata</td>\n",
              "      <td>Banglore</td>\n",
              "      <td>CCU → IXR → BBI → BLR</td>\n",
              "      <td>05:50</td>\n",
              "      <td>13:15</td>\n",
              "      <td>7h 25m</td>\n",
              "      <td>2 stops</td>\n",
              "      <td>No info</td>\n",
              "      <td>7662</td>\n",
              "    </tr>\n",
              "    <tr>\n",
              "      <th>2</th>\n",
              "      <td>Jet Airways</td>\n",
              "      <td>9/06/2019</td>\n",
              "      <td>Delhi</td>\n",
              "      <td>Cochin</td>\n",
              "      <td>DEL → LKO → BOM → COK</td>\n",
              "      <td>09:25</td>\n",
              "      <td>04:25 10 Jun</td>\n",
              "      <td>19h</td>\n",
              "      <td>2 stops</td>\n",
              "      <td>No info</td>\n",
              "      <td>13882</td>\n",
              "    </tr>\n",
              "    <tr>\n",
              "      <th>3</th>\n",
              "      <td>IndiGo</td>\n",
              "      <td>12/05/2019</td>\n",
              "      <td>Kolkata</td>\n",
              "      <td>Banglore</td>\n",
              "      <td>CCU → NAG → BLR</td>\n",
              "      <td>18:05</td>\n",
              "      <td>23:30</td>\n",
              "      <td>5h 25m</td>\n",
              "      <td>1 stop</td>\n",
              "      <td>No info</td>\n",
              "      <td>6218</td>\n",
              "    </tr>\n",
              "    <tr>\n",
              "      <th>4</th>\n",
              "      <td>IndiGo</td>\n",
              "      <td>01/03/2019</td>\n",
              "      <td>Banglore</td>\n",
              "      <td>New Delhi</td>\n",
              "      <td>BLR → NAG → DEL</td>\n",
              "      <td>16:50</td>\n",
              "      <td>21:35</td>\n",
              "      <td>4h 45m</td>\n",
              "      <td>1 stop</td>\n",
              "      <td>No info</td>\n",
              "      <td>13302</td>\n",
              "    </tr>\n",
              "    <tr>\n",
              "      <th>...</th>\n",
              "      <td>...</td>\n",
              "      <td>...</td>\n",
              "      <td>...</td>\n",
              "      <td>...</td>\n",
              "      <td>...</td>\n",
              "      <td>...</td>\n",
              "      <td>...</td>\n",
              "      <td>...</td>\n",
              "      <td>...</td>\n",
              "      <td>...</td>\n",
              "      <td>...</td>\n",
              "    </tr>\n",
              "    <tr>\n",
              "      <th>10678</th>\n",
              "      <td>Air Asia</td>\n",
              "      <td>9/04/2019</td>\n",
              "      <td>Kolkata</td>\n",
              "      <td>Banglore</td>\n",
              "      <td>CCU → BLR</td>\n",
              "      <td>19:55</td>\n",
              "      <td>22:25</td>\n",
              "      <td>2h 30m</td>\n",
              "      <td>non-stop</td>\n",
              "      <td>No info</td>\n",
              "      <td>4107</td>\n",
              "    </tr>\n",
              "    <tr>\n",
              "      <th>10679</th>\n",
              "      <td>Air India</td>\n",
              "      <td>27/04/2019</td>\n",
              "      <td>Kolkata</td>\n",
              "      <td>Banglore</td>\n",
              "      <td>CCU → BLR</td>\n",
              "      <td>20:45</td>\n",
              "      <td>23:20</td>\n",
              "      <td>2h 35m</td>\n",
              "      <td>non-stop</td>\n",
              "      <td>No info</td>\n",
              "      <td>4145</td>\n",
              "    </tr>\n",
              "    <tr>\n",
              "      <th>10680</th>\n",
              "      <td>Jet Airways</td>\n",
              "      <td>27/04/2019</td>\n",
              "      <td>Banglore</td>\n",
              "      <td>Delhi</td>\n",
              "      <td>BLR → DEL</td>\n",
              "      <td>08:20</td>\n",
              "      <td>11:20</td>\n",
              "      <td>3h</td>\n",
              "      <td>non-stop</td>\n",
              "      <td>No info</td>\n",
              "      <td>7229</td>\n",
              "    </tr>\n",
              "    <tr>\n",
              "      <th>10681</th>\n",
              "      <td>Vistara</td>\n",
              "      <td>01/03/2019</td>\n",
              "      <td>Banglore</td>\n",
              "      <td>New Delhi</td>\n",
              "      <td>BLR → DEL</td>\n",
              "      <td>11:30</td>\n",
              "      <td>14:10</td>\n",
              "      <td>2h 40m</td>\n",
              "      <td>non-stop</td>\n",
              "      <td>No info</td>\n",
              "      <td>12648</td>\n",
              "    </tr>\n",
              "    <tr>\n",
              "      <th>10682</th>\n",
              "      <td>Air India</td>\n",
              "      <td>9/05/2019</td>\n",
              "      <td>Delhi</td>\n",
              "      <td>Cochin</td>\n",
              "      <td>DEL → GOI → BOM → COK</td>\n",
              "      <td>10:55</td>\n",
              "      <td>19:15</td>\n",
              "      <td>8h 20m</td>\n",
              "      <td>2 stops</td>\n",
              "      <td>No info</td>\n",
              "      <td>11753</td>\n",
              "    </tr>\n",
              "  </tbody>\n",
              "</table>\n",
              "<p>10682 rows × 11 columns</p>\n",
              "</div>"
            ],
            "text/plain": [
              "           Airline Date_of_Journey    Source  ... Total_Stops Additional_Info  Price\n",
              "0           IndiGo      24/03/2019  Banglore  ...    non-stop         No info   3897\n",
              "1        Air India       1/05/2019   Kolkata  ...     2 stops         No info   7662\n",
              "2      Jet Airways       9/06/2019     Delhi  ...     2 stops         No info  13882\n",
              "3           IndiGo      12/05/2019   Kolkata  ...      1 stop         No info   6218\n",
              "4           IndiGo      01/03/2019  Banglore  ...      1 stop         No info  13302\n",
              "...            ...             ...       ...  ...         ...             ...    ...\n",
              "10678     Air Asia       9/04/2019   Kolkata  ...    non-stop         No info   4107\n",
              "10679    Air India      27/04/2019   Kolkata  ...    non-stop         No info   4145\n",
              "10680  Jet Airways      27/04/2019  Banglore  ...    non-stop         No info   7229\n",
              "10681      Vistara      01/03/2019  Banglore  ...    non-stop         No info  12648\n",
              "10682    Air India       9/05/2019     Delhi  ...     2 stops         No info  11753\n",
              "\n",
              "[10682 rows x 11 columns]"
            ]
          },
          "metadata": {
            "tags": []
          },
          "execution_count": 11
        }
      ]
    },
    {
      "cell_type": "code",
      "metadata": {
        "id": "ND_SDz8mv1XA"
      },
      "source": [
        "#date of journey\n",
        "train_data[\"Journey_day\"]=pd.to_datetime(train_data[\"Date_of_Journey\"],format=\"%d/%m/%Y\").dt.day"
      ],
      "execution_count": null,
      "outputs": []
    },
    {
      "cell_type": "code",
      "metadata": {
        "id": "LJ-T9dLzwzQw"
      },
      "source": [
        "train_data[\"Journey_month\"] = pd.to_datetime(train_data[\"Date_of_Journey\"], format = \"%d/%m/%Y\").dt.month"
      ],
      "execution_count": null,
      "outputs": []
    },
    {
      "cell_type": "code",
      "metadata": {
        "id": "Ej82eP26w2yY",
        "outputId": "2aa99eb4-a686-4d66-e58d-f6b0540c518e",
        "colab": {
          "base_uri": "https://localhost:8080/",
          "height": 402
        }
      },
      "source": [
        "train_data"
      ],
      "execution_count": null,
      "outputs": [
        {
          "output_type": "execute_result",
          "data": {
            "text/html": [
              "<div>\n",
              "<style scoped>\n",
              "    .dataframe tbody tr th:only-of-type {\n",
              "        vertical-align: middle;\n",
              "    }\n",
              "\n",
              "    .dataframe tbody tr th {\n",
              "        vertical-align: top;\n",
              "    }\n",
              "\n",
              "    .dataframe thead th {\n",
              "        text-align: right;\n",
              "    }\n",
              "</style>\n",
              "<table border=\"1\" class=\"dataframe\">\n",
              "  <thead>\n",
              "    <tr style=\"text-align: right;\">\n",
              "      <th></th>\n",
              "      <th>Airline</th>\n",
              "      <th>Date_of_Journey</th>\n",
              "      <th>Source</th>\n",
              "      <th>Destination</th>\n",
              "      <th>Route</th>\n",
              "      <th>Dep_Time</th>\n",
              "      <th>Arrival_Time</th>\n",
              "      <th>Duration</th>\n",
              "      <th>Total_Stops</th>\n",
              "      <th>Additional_Info</th>\n",
              "      <th>Price</th>\n",
              "      <th>Journey_day</th>\n",
              "      <th>Journey_month</th>\n",
              "    </tr>\n",
              "  </thead>\n",
              "  <tbody>\n",
              "    <tr>\n",
              "      <th>0</th>\n",
              "      <td>IndiGo</td>\n",
              "      <td>24/03/2019</td>\n",
              "      <td>Banglore</td>\n",
              "      <td>New Delhi</td>\n",
              "      <td>BLR → DEL</td>\n",
              "      <td>22:20</td>\n",
              "      <td>01:10 22 Mar</td>\n",
              "      <td>2h 50m</td>\n",
              "      <td>non-stop</td>\n",
              "      <td>No info</td>\n",
              "      <td>3897</td>\n",
              "      <td>24</td>\n",
              "      <td>3</td>\n",
              "    </tr>\n",
              "    <tr>\n",
              "      <th>1</th>\n",
              "      <td>Air India</td>\n",
              "      <td>1/05/2019</td>\n",
              "      <td>Kolkata</td>\n",
              "      <td>Banglore</td>\n",
              "      <td>CCU → IXR → BBI → BLR</td>\n",
              "      <td>05:50</td>\n",
              "      <td>13:15</td>\n",
              "      <td>7h 25m</td>\n",
              "      <td>2 stops</td>\n",
              "      <td>No info</td>\n",
              "      <td>7662</td>\n",
              "      <td>1</td>\n",
              "      <td>5</td>\n",
              "    </tr>\n",
              "    <tr>\n",
              "      <th>2</th>\n",
              "      <td>Jet Airways</td>\n",
              "      <td>9/06/2019</td>\n",
              "      <td>Delhi</td>\n",
              "      <td>Cochin</td>\n",
              "      <td>DEL → LKO → BOM → COK</td>\n",
              "      <td>09:25</td>\n",
              "      <td>04:25 10 Jun</td>\n",
              "      <td>19h</td>\n",
              "      <td>2 stops</td>\n",
              "      <td>No info</td>\n",
              "      <td>13882</td>\n",
              "      <td>9</td>\n",
              "      <td>6</td>\n",
              "    </tr>\n",
              "    <tr>\n",
              "      <th>3</th>\n",
              "      <td>IndiGo</td>\n",
              "      <td>12/05/2019</td>\n",
              "      <td>Kolkata</td>\n",
              "      <td>Banglore</td>\n",
              "      <td>CCU → NAG → BLR</td>\n",
              "      <td>18:05</td>\n",
              "      <td>23:30</td>\n",
              "      <td>5h 25m</td>\n",
              "      <td>1 stop</td>\n",
              "      <td>No info</td>\n",
              "      <td>6218</td>\n",
              "      <td>12</td>\n",
              "      <td>5</td>\n",
              "    </tr>\n",
              "    <tr>\n",
              "      <th>4</th>\n",
              "      <td>IndiGo</td>\n",
              "      <td>01/03/2019</td>\n",
              "      <td>Banglore</td>\n",
              "      <td>New Delhi</td>\n",
              "      <td>BLR → NAG → DEL</td>\n",
              "      <td>16:50</td>\n",
              "      <td>21:35</td>\n",
              "      <td>4h 45m</td>\n",
              "      <td>1 stop</td>\n",
              "      <td>No info</td>\n",
              "      <td>13302</td>\n",
              "      <td>1</td>\n",
              "      <td>3</td>\n",
              "    </tr>\n",
              "    <tr>\n",
              "      <th>...</th>\n",
              "      <td>...</td>\n",
              "      <td>...</td>\n",
              "      <td>...</td>\n",
              "      <td>...</td>\n",
              "      <td>...</td>\n",
              "      <td>...</td>\n",
              "      <td>...</td>\n",
              "      <td>...</td>\n",
              "      <td>...</td>\n",
              "      <td>...</td>\n",
              "      <td>...</td>\n",
              "      <td>...</td>\n",
              "      <td>...</td>\n",
              "    </tr>\n",
              "    <tr>\n",
              "      <th>10678</th>\n",
              "      <td>Air Asia</td>\n",
              "      <td>9/04/2019</td>\n",
              "      <td>Kolkata</td>\n",
              "      <td>Banglore</td>\n",
              "      <td>CCU → BLR</td>\n",
              "      <td>19:55</td>\n",
              "      <td>22:25</td>\n",
              "      <td>2h 30m</td>\n",
              "      <td>non-stop</td>\n",
              "      <td>No info</td>\n",
              "      <td>4107</td>\n",
              "      <td>9</td>\n",
              "      <td>4</td>\n",
              "    </tr>\n",
              "    <tr>\n",
              "      <th>10679</th>\n",
              "      <td>Air India</td>\n",
              "      <td>27/04/2019</td>\n",
              "      <td>Kolkata</td>\n",
              "      <td>Banglore</td>\n",
              "      <td>CCU → BLR</td>\n",
              "      <td>20:45</td>\n",
              "      <td>23:20</td>\n",
              "      <td>2h 35m</td>\n",
              "      <td>non-stop</td>\n",
              "      <td>No info</td>\n",
              "      <td>4145</td>\n",
              "      <td>27</td>\n",
              "      <td>4</td>\n",
              "    </tr>\n",
              "    <tr>\n",
              "      <th>10680</th>\n",
              "      <td>Jet Airways</td>\n",
              "      <td>27/04/2019</td>\n",
              "      <td>Banglore</td>\n",
              "      <td>Delhi</td>\n",
              "      <td>BLR → DEL</td>\n",
              "      <td>08:20</td>\n",
              "      <td>11:20</td>\n",
              "      <td>3h</td>\n",
              "      <td>non-stop</td>\n",
              "      <td>No info</td>\n",
              "      <td>7229</td>\n",
              "      <td>27</td>\n",
              "      <td>4</td>\n",
              "    </tr>\n",
              "    <tr>\n",
              "      <th>10681</th>\n",
              "      <td>Vistara</td>\n",
              "      <td>01/03/2019</td>\n",
              "      <td>Banglore</td>\n",
              "      <td>New Delhi</td>\n",
              "      <td>BLR → DEL</td>\n",
              "      <td>11:30</td>\n",
              "      <td>14:10</td>\n",
              "      <td>2h 40m</td>\n",
              "      <td>non-stop</td>\n",
              "      <td>No info</td>\n",
              "      <td>12648</td>\n",
              "      <td>1</td>\n",
              "      <td>3</td>\n",
              "    </tr>\n",
              "    <tr>\n",
              "      <th>10682</th>\n",
              "      <td>Air India</td>\n",
              "      <td>9/05/2019</td>\n",
              "      <td>Delhi</td>\n",
              "      <td>Cochin</td>\n",
              "      <td>DEL → GOI → BOM → COK</td>\n",
              "      <td>10:55</td>\n",
              "      <td>19:15</td>\n",
              "      <td>8h 20m</td>\n",
              "      <td>2 stops</td>\n",
              "      <td>No info</td>\n",
              "      <td>11753</td>\n",
              "      <td>9</td>\n",
              "      <td>5</td>\n",
              "    </tr>\n",
              "  </tbody>\n",
              "</table>\n",
              "<p>10682 rows × 13 columns</p>\n",
              "</div>"
            ],
            "text/plain": [
              "           Airline Date_of_Journey    Source  ...  Price Journey_day Journey_month\n",
              "0           IndiGo      24/03/2019  Banglore  ...   3897          24             3\n",
              "1        Air India       1/05/2019   Kolkata  ...   7662           1             5\n",
              "2      Jet Airways       9/06/2019     Delhi  ...  13882           9             6\n",
              "3           IndiGo      12/05/2019   Kolkata  ...   6218          12             5\n",
              "4           IndiGo      01/03/2019  Banglore  ...  13302           1             3\n",
              "...            ...             ...       ...  ...    ...         ...           ...\n",
              "10678     Air Asia       9/04/2019   Kolkata  ...   4107           9             4\n",
              "10679    Air India      27/04/2019   Kolkata  ...   4145          27             4\n",
              "10680  Jet Airways      27/04/2019  Banglore  ...   7229          27             4\n",
              "10681      Vistara      01/03/2019  Banglore  ...  12648           1             3\n",
              "10682    Air India       9/05/2019     Delhi  ...  11753           9             5\n",
              "\n",
              "[10682 rows x 13 columns]"
            ]
          },
          "metadata": {
            "tags": []
          },
          "execution_count": 16
        }
      ]
    },
    {
      "cell_type": "code",
      "metadata": {
        "id": "3ngA33Vsw5Hc"
      },
      "source": [
        "train_data.drop([\"Date_of_Journey\"], axis = 1, inplace = True)"
      ],
      "execution_count": null,
      "outputs": []
    },
    {
      "cell_type": "code",
      "metadata": {
        "id": "JU-V76oFw9j3"
      },
      "source": [
        "#departure time\n",
        "\n",
        "train_data[\"Dep_hour\"]=pd.to_datetime(train_data[\"Dep_Time\"]).dt.hour\n",
        "\n",
        "train_data[\"Dep_min\"] = pd.to_datetime(train_data[\"Dep_Time\"]).dt.minute\n",
        "\n",
        "train_data.drop([\"Dep_Time\"], axis = 1, inplace = True)"
      ],
      "execution_count": null,
      "outputs": []
    },
    {
      "cell_type": "code",
      "metadata": {
        "id": "xviGUL0TxjdE",
        "outputId": "80badb67-524e-4f62-f405-edce258c154d",
        "colab": {
          "base_uri": "https://localhost:8080/",
          "height": 402
        }
      },
      "source": [
        "train_data"
      ],
      "execution_count": null,
      "outputs": [
        {
          "output_type": "execute_result",
          "data": {
            "text/html": [
              "<div>\n",
              "<style scoped>\n",
              "    .dataframe tbody tr th:only-of-type {\n",
              "        vertical-align: middle;\n",
              "    }\n",
              "\n",
              "    .dataframe tbody tr th {\n",
              "        vertical-align: top;\n",
              "    }\n",
              "\n",
              "    .dataframe thead th {\n",
              "        text-align: right;\n",
              "    }\n",
              "</style>\n",
              "<table border=\"1\" class=\"dataframe\">\n",
              "  <thead>\n",
              "    <tr style=\"text-align: right;\">\n",
              "      <th></th>\n",
              "      <th>Airline</th>\n",
              "      <th>Source</th>\n",
              "      <th>Destination</th>\n",
              "      <th>Route</th>\n",
              "      <th>Arrival_Time</th>\n",
              "      <th>Duration</th>\n",
              "      <th>Total_Stops</th>\n",
              "      <th>Additional_Info</th>\n",
              "      <th>Price</th>\n",
              "      <th>Journey_day</th>\n",
              "      <th>Journey_month</th>\n",
              "      <th>Dep_hour</th>\n",
              "      <th>Dep_min</th>\n",
              "    </tr>\n",
              "  </thead>\n",
              "  <tbody>\n",
              "    <tr>\n",
              "      <th>0</th>\n",
              "      <td>IndiGo</td>\n",
              "      <td>Banglore</td>\n",
              "      <td>New Delhi</td>\n",
              "      <td>BLR → DEL</td>\n",
              "      <td>01:10 22 Mar</td>\n",
              "      <td>2h 50m</td>\n",
              "      <td>non-stop</td>\n",
              "      <td>No info</td>\n",
              "      <td>3897</td>\n",
              "      <td>24</td>\n",
              "      <td>3</td>\n",
              "      <td>22</td>\n",
              "      <td>20</td>\n",
              "    </tr>\n",
              "    <tr>\n",
              "      <th>1</th>\n",
              "      <td>Air India</td>\n",
              "      <td>Kolkata</td>\n",
              "      <td>Banglore</td>\n",
              "      <td>CCU → IXR → BBI → BLR</td>\n",
              "      <td>13:15</td>\n",
              "      <td>7h 25m</td>\n",
              "      <td>2 stops</td>\n",
              "      <td>No info</td>\n",
              "      <td>7662</td>\n",
              "      <td>1</td>\n",
              "      <td>5</td>\n",
              "      <td>5</td>\n",
              "      <td>50</td>\n",
              "    </tr>\n",
              "    <tr>\n",
              "      <th>2</th>\n",
              "      <td>Jet Airways</td>\n",
              "      <td>Delhi</td>\n",
              "      <td>Cochin</td>\n",
              "      <td>DEL → LKO → BOM → COK</td>\n",
              "      <td>04:25 10 Jun</td>\n",
              "      <td>19h</td>\n",
              "      <td>2 stops</td>\n",
              "      <td>No info</td>\n",
              "      <td>13882</td>\n",
              "      <td>9</td>\n",
              "      <td>6</td>\n",
              "      <td>9</td>\n",
              "      <td>25</td>\n",
              "    </tr>\n",
              "    <tr>\n",
              "      <th>3</th>\n",
              "      <td>IndiGo</td>\n",
              "      <td>Kolkata</td>\n",
              "      <td>Banglore</td>\n",
              "      <td>CCU → NAG → BLR</td>\n",
              "      <td>23:30</td>\n",
              "      <td>5h 25m</td>\n",
              "      <td>1 stop</td>\n",
              "      <td>No info</td>\n",
              "      <td>6218</td>\n",
              "      <td>12</td>\n",
              "      <td>5</td>\n",
              "      <td>18</td>\n",
              "      <td>5</td>\n",
              "    </tr>\n",
              "    <tr>\n",
              "      <th>4</th>\n",
              "      <td>IndiGo</td>\n",
              "      <td>Banglore</td>\n",
              "      <td>New Delhi</td>\n",
              "      <td>BLR → NAG → DEL</td>\n",
              "      <td>21:35</td>\n",
              "      <td>4h 45m</td>\n",
              "      <td>1 stop</td>\n",
              "      <td>No info</td>\n",
              "      <td>13302</td>\n",
              "      <td>1</td>\n",
              "      <td>3</td>\n",
              "      <td>16</td>\n",
              "      <td>50</td>\n",
              "    </tr>\n",
              "    <tr>\n",
              "      <th>...</th>\n",
              "      <td>...</td>\n",
              "      <td>...</td>\n",
              "      <td>...</td>\n",
              "      <td>...</td>\n",
              "      <td>...</td>\n",
              "      <td>...</td>\n",
              "      <td>...</td>\n",
              "      <td>...</td>\n",
              "      <td>...</td>\n",
              "      <td>...</td>\n",
              "      <td>...</td>\n",
              "      <td>...</td>\n",
              "      <td>...</td>\n",
              "    </tr>\n",
              "    <tr>\n",
              "      <th>10678</th>\n",
              "      <td>Air Asia</td>\n",
              "      <td>Kolkata</td>\n",
              "      <td>Banglore</td>\n",
              "      <td>CCU → BLR</td>\n",
              "      <td>22:25</td>\n",
              "      <td>2h 30m</td>\n",
              "      <td>non-stop</td>\n",
              "      <td>No info</td>\n",
              "      <td>4107</td>\n",
              "      <td>9</td>\n",
              "      <td>4</td>\n",
              "      <td>19</td>\n",
              "      <td>55</td>\n",
              "    </tr>\n",
              "    <tr>\n",
              "      <th>10679</th>\n",
              "      <td>Air India</td>\n",
              "      <td>Kolkata</td>\n",
              "      <td>Banglore</td>\n",
              "      <td>CCU → BLR</td>\n",
              "      <td>23:20</td>\n",
              "      <td>2h 35m</td>\n",
              "      <td>non-stop</td>\n",
              "      <td>No info</td>\n",
              "      <td>4145</td>\n",
              "      <td>27</td>\n",
              "      <td>4</td>\n",
              "      <td>20</td>\n",
              "      <td>45</td>\n",
              "    </tr>\n",
              "    <tr>\n",
              "      <th>10680</th>\n",
              "      <td>Jet Airways</td>\n",
              "      <td>Banglore</td>\n",
              "      <td>Delhi</td>\n",
              "      <td>BLR → DEL</td>\n",
              "      <td>11:20</td>\n",
              "      <td>3h</td>\n",
              "      <td>non-stop</td>\n",
              "      <td>No info</td>\n",
              "      <td>7229</td>\n",
              "      <td>27</td>\n",
              "      <td>4</td>\n",
              "      <td>8</td>\n",
              "      <td>20</td>\n",
              "    </tr>\n",
              "    <tr>\n",
              "      <th>10681</th>\n",
              "      <td>Vistara</td>\n",
              "      <td>Banglore</td>\n",
              "      <td>New Delhi</td>\n",
              "      <td>BLR → DEL</td>\n",
              "      <td>14:10</td>\n",
              "      <td>2h 40m</td>\n",
              "      <td>non-stop</td>\n",
              "      <td>No info</td>\n",
              "      <td>12648</td>\n",
              "      <td>1</td>\n",
              "      <td>3</td>\n",
              "      <td>11</td>\n",
              "      <td>30</td>\n",
              "    </tr>\n",
              "    <tr>\n",
              "      <th>10682</th>\n",
              "      <td>Air India</td>\n",
              "      <td>Delhi</td>\n",
              "      <td>Cochin</td>\n",
              "      <td>DEL → GOI → BOM → COK</td>\n",
              "      <td>19:15</td>\n",
              "      <td>8h 20m</td>\n",
              "      <td>2 stops</td>\n",
              "      <td>No info</td>\n",
              "      <td>11753</td>\n",
              "      <td>9</td>\n",
              "      <td>5</td>\n",
              "      <td>10</td>\n",
              "      <td>55</td>\n",
              "    </tr>\n",
              "  </tbody>\n",
              "</table>\n",
              "<p>10682 rows × 13 columns</p>\n",
              "</div>"
            ],
            "text/plain": [
              "           Airline    Source Destination  ... Journey_month Dep_hour Dep_min\n",
              "0           IndiGo  Banglore   New Delhi  ...             3       22      20\n",
              "1        Air India   Kolkata    Banglore  ...             5        5      50\n",
              "2      Jet Airways     Delhi      Cochin  ...             6        9      25\n",
              "3           IndiGo   Kolkata    Banglore  ...             5       18       5\n",
              "4           IndiGo  Banglore   New Delhi  ...             3       16      50\n",
              "...            ...       ...         ...  ...           ...      ...     ...\n",
              "10678     Air Asia   Kolkata    Banglore  ...             4       19      55\n",
              "10679    Air India   Kolkata    Banglore  ...             4       20      45\n",
              "10680  Jet Airways  Banglore       Delhi  ...             4        8      20\n",
              "10681      Vistara  Banglore   New Delhi  ...             3       11      30\n",
              "10682    Air India     Delhi      Cochin  ...             5       10      55\n",
              "\n",
              "[10682 rows x 13 columns]"
            ]
          },
          "metadata": {
            "tags": []
          },
          "execution_count": 20
        }
      ]
    },
    {
      "cell_type": "code",
      "metadata": {
        "id": "K5yJMrkdxlC4"
      },
      "source": [
        "#arrival time\n",
        "train_data[\"Arrival_hour\"] = pd.to_datetime(train_data.Arrival_Time).dt.hour\n",
        "\n",
        "train_data[\"Arrival_min\"] = pd.to_datetime(train_data.Arrival_Time).dt.minute\n",
        "\n",
        "train_data.drop([\"Arrival_Time\"], axis = 1, inplace = True)"
      ],
      "execution_count": null,
      "outputs": []
    },
    {
      "cell_type": "code",
      "metadata": {
        "id": "9Rjh8WUO-GiE",
        "outputId": "740f2c44-de6b-40a9-9b28-1a7dc6925d81",
        "colab": {
          "base_uri": "https://localhost:8080/",
          "height": 452
        }
      },
      "source": [
        "train_data"
      ],
      "execution_count": null,
      "outputs": [
        {
          "output_type": "execute_result",
          "data": {
            "text/html": [
              "<div>\n",
              "<style scoped>\n",
              "    .dataframe tbody tr th:only-of-type {\n",
              "        vertical-align: middle;\n",
              "    }\n",
              "\n",
              "    .dataframe tbody tr th {\n",
              "        vertical-align: top;\n",
              "    }\n",
              "\n",
              "    .dataframe thead th {\n",
              "        text-align: right;\n",
              "    }\n",
              "</style>\n",
              "<table border=\"1\" class=\"dataframe\">\n",
              "  <thead>\n",
              "    <tr style=\"text-align: right;\">\n",
              "      <th></th>\n",
              "      <th>Airline</th>\n",
              "      <th>Source</th>\n",
              "      <th>Destination</th>\n",
              "      <th>Route</th>\n",
              "      <th>Duration</th>\n",
              "      <th>Total_Stops</th>\n",
              "      <th>Additional_Info</th>\n",
              "      <th>Price</th>\n",
              "      <th>Journey_day</th>\n",
              "      <th>Journey_month</th>\n",
              "      <th>Dep_hour</th>\n",
              "      <th>Dep_min</th>\n",
              "      <th>Arrival_hour</th>\n",
              "      <th>Arrival_min</th>\n",
              "    </tr>\n",
              "  </thead>\n",
              "  <tbody>\n",
              "    <tr>\n",
              "      <th>0</th>\n",
              "      <td>IndiGo</td>\n",
              "      <td>Banglore</td>\n",
              "      <td>New Delhi</td>\n",
              "      <td>BLR → DEL</td>\n",
              "      <td>2h 50m</td>\n",
              "      <td>non-stop</td>\n",
              "      <td>No info</td>\n",
              "      <td>3897</td>\n",
              "      <td>24</td>\n",
              "      <td>3</td>\n",
              "      <td>22</td>\n",
              "      <td>20</td>\n",
              "      <td>1</td>\n",
              "      <td>10</td>\n",
              "    </tr>\n",
              "    <tr>\n",
              "      <th>1</th>\n",
              "      <td>Air India</td>\n",
              "      <td>Kolkata</td>\n",
              "      <td>Banglore</td>\n",
              "      <td>CCU → IXR → BBI → BLR</td>\n",
              "      <td>7h 25m</td>\n",
              "      <td>2 stops</td>\n",
              "      <td>No info</td>\n",
              "      <td>7662</td>\n",
              "      <td>1</td>\n",
              "      <td>5</td>\n",
              "      <td>5</td>\n",
              "      <td>50</td>\n",
              "      <td>13</td>\n",
              "      <td>15</td>\n",
              "    </tr>\n",
              "    <tr>\n",
              "      <th>2</th>\n",
              "      <td>Jet Airways</td>\n",
              "      <td>Delhi</td>\n",
              "      <td>Cochin</td>\n",
              "      <td>DEL → LKO → BOM → COK</td>\n",
              "      <td>19h</td>\n",
              "      <td>2 stops</td>\n",
              "      <td>No info</td>\n",
              "      <td>13882</td>\n",
              "      <td>9</td>\n",
              "      <td>6</td>\n",
              "      <td>9</td>\n",
              "      <td>25</td>\n",
              "      <td>4</td>\n",
              "      <td>25</td>\n",
              "    </tr>\n",
              "    <tr>\n",
              "      <th>3</th>\n",
              "      <td>IndiGo</td>\n",
              "      <td>Kolkata</td>\n",
              "      <td>Banglore</td>\n",
              "      <td>CCU → NAG → BLR</td>\n",
              "      <td>5h 25m</td>\n",
              "      <td>1 stop</td>\n",
              "      <td>No info</td>\n",
              "      <td>6218</td>\n",
              "      <td>12</td>\n",
              "      <td>5</td>\n",
              "      <td>18</td>\n",
              "      <td>5</td>\n",
              "      <td>23</td>\n",
              "      <td>30</td>\n",
              "    </tr>\n",
              "    <tr>\n",
              "      <th>4</th>\n",
              "      <td>IndiGo</td>\n",
              "      <td>Banglore</td>\n",
              "      <td>New Delhi</td>\n",
              "      <td>BLR → NAG → DEL</td>\n",
              "      <td>4h 45m</td>\n",
              "      <td>1 stop</td>\n",
              "      <td>No info</td>\n",
              "      <td>13302</td>\n",
              "      <td>1</td>\n",
              "      <td>3</td>\n",
              "      <td>16</td>\n",
              "      <td>50</td>\n",
              "      <td>21</td>\n",
              "      <td>35</td>\n",
              "    </tr>\n",
              "    <tr>\n",
              "      <th>...</th>\n",
              "      <td>...</td>\n",
              "      <td>...</td>\n",
              "      <td>...</td>\n",
              "      <td>...</td>\n",
              "      <td>...</td>\n",
              "      <td>...</td>\n",
              "      <td>...</td>\n",
              "      <td>...</td>\n",
              "      <td>...</td>\n",
              "      <td>...</td>\n",
              "      <td>...</td>\n",
              "      <td>...</td>\n",
              "      <td>...</td>\n",
              "      <td>...</td>\n",
              "    </tr>\n",
              "    <tr>\n",
              "      <th>10678</th>\n",
              "      <td>Air Asia</td>\n",
              "      <td>Kolkata</td>\n",
              "      <td>Banglore</td>\n",
              "      <td>CCU → BLR</td>\n",
              "      <td>2h 30m</td>\n",
              "      <td>non-stop</td>\n",
              "      <td>No info</td>\n",
              "      <td>4107</td>\n",
              "      <td>9</td>\n",
              "      <td>4</td>\n",
              "      <td>19</td>\n",
              "      <td>55</td>\n",
              "      <td>22</td>\n",
              "      <td>25</td>\n",
              "    </tr>\n",
              "    <tr>\n",
              "      <th>10679</th>\n",
              "      <td>Air India</td>\n",
              "      <td>Kolkata</td>\n",
              "      <td>Banglore</td>\n",
              "      <td>CCU → BLR</td>\n",
              "      <td>2h 35m</td>\n",
              "      <td>non-stop</td>\n",
              "      <td>No info</td>\n",
              "      <td>4145</td>\n",
              "      <td>27</td>\n",
              "      <td>4</td>\n",
              "      <td>20</td>\n",
              "      <td>45</td>\n",
              "      <td>23</td>\n",
              "      <td>20</td>\n",
              "    </tr>\n",
              "    <tr>\n",
              "      <th>10680</th>\n",
              "      <td>Jet Airways</td>\n",
              "      <td>Banglore</td>\n",
              "      <td>Delhi</td>\n",
              "      <td>BLR → DEL</td>\n",
              "      <td>3h</td>\n",
              "      <td>non-stop</td>\n",
              "      <td>No info</td>\n",
              "      <td>7229</td>\n",
              "      <td>27</td>\n",
              "      <td>4</td>\n",
              "      <td>8</td>\n",
              "      <td>20</td>\n",
              "      <td>11</td>\n",
              "      <td>20</td>\n",
              "    </tr>\n",
              "    <tr>\n",
              "      <th>10681</th>\n",
              "      <td>Vistara</td>\n",
              "      <td>Banglore</td>\n",
              "      <td>New Delhi</td>\n",
              "      <td>BLR → DEL</td>\n",
              "      <td>2h 40m</td>\n",
              "      <td>non-stop</td>\n",
              "      <td>No info</td>\n",
              "      <td>12648</td>\n",
              "      <td>1</td>\n",
              "      <td>3</td>\n",
              "      <td>11</td>\n",
              "      <td>30</td>\n",
              "      <td>14</td>\n",
              "      <td>10</td>\n",
              "    </tr>\n",
              "    <tr>\n",
              "      <th>10682</th>\n",
              "      <td>Air India</td>\n",
              "      <td>Delhi</td>\n",
              "      <td>Cochin</td>\n",
              "      <td>DEL → GOI → BOM → COK</td>\n",
              "      <td>8h 20m</td>\n",
              "      <td>2 stops</td>\n",
              "      <td>No info</td>\n",
              "      <td>11753</td>\n",
              "      <td>9</td>\n",
              "      <td>5</td>\n",
              "      <td>10</td>\n",
              "      <td>55</td>\n",
              "      <td>19</td>\n",
              "      <td>15</td>\n",
              "    </tr>\n",
              "  </tbody>\n",
              "</table>\n",
              "<p>10682 rows × 14 columns</p>\n",
              "</div>"
            ],
            "text/plain": [
              "           Airline    Source Destination  ... Dep_min Arrival_hour Arrival_min\n",
              "0           IndiGo  Banglore   New Delhi  ...      20            1          10\n",
              "1        Air India   Kolkata    Banglore  ...      50           13          15\n",
              "2      Jet Airways     Delhi      Cochin  ...      25            4          25\n",
              "3           IndiGo   Kolkata    Banglore  ...       5           23          30\n",
              "4           IndiGo  Banglore   New Delhi  ...      50           21          35\n",
              "...            ...       ...         ...  ...     ...          ...         ...\n",
              "10678     Air Asia   Kolkata    Banglore  ...      55           22          25\n",
              "10679    Air India   Kolkata    Banglore  ...      45           23          20\n",
              "10680  Jet Airways  Banglore       Delhi  ...      20           11          20\n",
              "10681      Vistara  Banglore   New Delhi  ...      30           14          10\n",
              "10682    Air India     Delhi      Cochin  ...      55           19          15\n",
              "\n",
              "[10682 rows x 14 columns]"
            ]
          },
          "metadata": {
            "tags": []
          },
          "execution_count": 22
        }
      ]
    },
    {
      "cell_type": "code",
      "metadata": {
        "id": "uf6QPS9K-S-3"
      },
      "source": [
        "#duration\n",
        "\n",
        "duration = list(train_data[\"Duration\"])\n",
        "\n",
        "for i in range(len(duration)):\n",
        "  if(len(duration[i].split())!=2):\n",
        "    if \"h\" in duration[i]:\n",
        "      duration[i]=duration[i].strip()+\" 0m\"\n",
        "    else:\n",
        "      duration[i]=\"0h \"+duration[i]\n",
        "\n",
        "\n",
        "duration_hours=[]\n",
        "duration_mins=[]\n",
        "\n",
        "for i in range(len(duration)):\n",
        "  duration_hours.append(int(duration[i].split(sep=\"h\")[0]))\n",
        "  duration_mins.append(int(duration[i].split(sep=\"m\")[0].split()[-1]))"
      ],
      "execution_count": null,
      "outputs": []
    },
    {
      "cell_type": "code",
      "metadata": {
        "id": "--ZBf2wM__DJ",
        "outputId": "4efae8b4-ee97-4a8f-e456-323810a60e3e",
        "colab": {
          "base_uri": "https://localhost:8080/"
        }
      },
      "source": [
        "print(duration_mins)"
      ],
      "execution_count": null,
      "outputs": [
        {
          "output_type": "stream",
          "text": [
            "[50, 25, 0, 25, 45, 25, 30, 5, 30, 50, 15, 35, 15, 10, 35, 35, 30, 35, 0, 35, 10, 20, 50, 55, 20, 10, 45, 55, 50, 15, 15, 25, 50, 0, 30, 25, 15, 30, 15, 55, 5, 30, 5, 45, 0, 50, 50, 15, 5, 55, 15, 20, 50, 0, 50, 15, 5, 15, 30, 5, 25, 20, 15, 30, 15, 25, 50, 30, 20, 15, 25, 30, 20, 30, 0, 45, 50, 30, 5, 15, 50, 40, 10, 35, 0, 20, 25, 45, 20, 0, 15, 5, 30, 20, 35, 25, 40, 0, 25, 35, 20, 15, 30, 0, 45, 55, 10, 30, 20, 55, 0, 55, 45, 10, 55, 25, 5, 10, 40, 55, 40, 25, 5, 15, 25, 10, 10, 0, 50, 20, 0, 55, 10, 45, 0, 50, 40, 15, 45, 50, 0, 15, 25, 35, 50, 35, 25, 55, 50, 10, 20, 25, 50, 20, 15, 35, 35, 50, 45, 10, 50, 45, 15, 20, 30, 25, 30, 40, 10, 45, 35, 5, 30, 30, 10, 35, 5, 50, 0, 0, 25, 30, 30, 0, 20, 30, 45, 10, 35, 45, 55, 35, 20, 5, 40, 15, 10, 25, 50, 25, 15, 50, 15, 50, 20, 55, 35, 35, 30, 20, 55, 15, 5, 45, 55, 30, 40, 45, 55, 0, 45, 15, 25, 15, 55, 50, 25, 50, 30, 30, 40, 35, 15, 30, 45, 35, 30, 55, 55, 15, 40, 30, 0, 15, 15, 50, 10, 25, 20, 30, 10, 30, 20, 35, 15, 20, 45, 0, 0, 30, 50, 55, 45, 15, 35, 55, 5, 5, 15, 0, 55, 0, 15, 40, 20, 25, 20, 30, 45, 15, 55, 20, 55, 5, 40, 0, 0, 35, 30, 55, 35, 55, 15, 20, 40, 0, 10, 35, 45, 35, 30, 40, 35, 55, 40, 25, 15, 10, 45, 30, 50, 0, 30, 50, 15, 30, 20, 30, 25, 35, 55, 35, 30, 45, 20, 30, 35, 45, 55, 40, 5, 0, 45, 40, 55, 55, 10, 20, 50, 30, 0, 45, 20, 25, 20, 35, 0, 10, 20, 0, 45, 55, 40, 10, 10, 50, 20, 0, 0, 35, 5, 40, 50, 5, 50, 35, 25, 25, 40, 55, 10, 50, 50, 50, 30, 30, 50, 15, 10, 5, 35, 5, 0, 30, 30, 20, 45, 30, 35, 45, 35, 30, 15, 5, 0, 50, 25, 20, 45, 45, 50, 0, 25, 55, 50, 40, 45, 50, 15, 30, 0, 5, 20, 35, 50, 50, 10, 5, 30, 5, 20, 55, 30, 50, 15, 0, 35, 45, 55, 20, 40, 0, 25, 55, 45, 15, 0, 10, 25, 40, 50, 20, 20, 0, 45, 55, 20, 15, 45, 55, 55, 20, 25, 50, 5, 15, 0, 25, 15, 10, 45, 0, 55, 45, 30, 45, 40, 30, 30, 40, 5, 25, 30, 5, 40, 50, 45, 20, 0, 15, 0, 0, 40, 0, 20, 20, 20, 25, 20, 5, 55, 45, 45, 55, 15, 15, 30, 0, 0, 10, 55, 30, 20, 15, 30, 20, 55, 25, 30, 55, 25, 25, 15, 20, 10, 15, 15, 30, 5, 50, 25, 15, 50, 15, 15, 5, 35, 0, 50, 50, 20, 20, 10, 35, 35, 10, 0, 35, 55, 35, 40, 30, 15, 55, 50, 25, 40, 35, 55, 25, 35, 30, 15, 15, 5, 50, 10, 50, 30, 35, 35, 35, 30, 15, 35, 30, 20, 0, 35, 30, 10, 55, 45, 40, 5, 45, 50, 20, 0, 0, 55, 5, 35, 0, 25, 35, 40, 55, 20, 0, 40, 0, 0, 45, 10, 20, 55, 35, 55, 45, 35, 30, 45, 40, 50, 50, 50, 30, 55, 10, 55, 15, 10, 55, 30, 10, 35, 40, 50, 30, 0, 10, 55, 0, 0, 45, 30, 20, 10, 30, 15, 35, 0, 0, 50, 25, 5, 50, 5, 15, 45, 50, 30, 55, 45, 50, 45, 35, 30, 15, 55, 45, 30, 20, 30, 30, 30, 0, 15, 50, 5, 35, 30, 15, 45, 45, 50, 35, 55, 30, 40, 0, 30, 55, 10, 50, 45, 30, 20, 20, 55, 10, 45, 50, 0, 10, 20, 45, 15, 55, 30, 35, 35, 45, 25, 35, 30, 15, 40, 25, 40, 45, 20, 40, 50, 20, 15, 15, 45, 35, 30, 30, 35, 35, 50, 35, 20, 45, 30, 50, 30, 30, 0, 0, 25, 35, 10, 10, 55, 15, 10, 55, 15, 20, 25, 50, 20, 20, 15, 10, 40, 50, 10, 5, 25, 55, 0, 45, 55, 30, 15, 50, 0, 15, 30, 35, 25, 0, 30, 50, 45, 30, 40, 30, 50, 35, 5, 50, 5, 15, 25, 50, 35, 50, 40, 25, 10, 55, 40, 50, 35, 40, 40, 20, 0, 35, 10, 35, 20, 10, 0, 0, 10, 40, 35, 55, 0, 30, 35, 20, 15, 50, 45, 20, 40, 15, 0, 50, 0, 20, 50, 10, 10, 40, 45, 50, 0, 0, 35, 50, 55, 5, 20, 55, 5, 0, 25, 45, 45, 20, 15, 30, 35, 0, 50, 45, 25, 25, 10, 55, 50, 0, 0, 50, 15, 15, 50, 50, 0, 30, 45, 55, 45, 15, 15, 50, 25, 55, 25, 5, 45, 15, 20, 30, 20, 20, 5, 30, 5, 10, 0, 5, 55, 35, 10, 40, 55, 30, 40, 30, 10, 20, 25, 10, 30, 50, 45, 25, 55, 25, 30, 5, 5, 20, 40, 30, 15, 20, 50, 20, 5, 25, 5, 20, 25, 35, 50, 35, 15, 35, 0, 25, 35, 15, 35, 5, 35, 30, 45, 15, 15, 30, 20, 30, 35, 35, 30, 30, 40, 0, 30, 55, 15, 55, 20, 35, 20, 25, 50, 0, 25, 0, 50, 20, 45, 55, 25, 55, 45, 25, 40, 20, 25, 50, 35, 10, 25, 30, 35, 5, 30, 5, 20, 55, 30, 35, 20, 50, 50, 10, 15, 25, 5, 15, 10, 55, 40, 30, 45, 20, 15, 40, 55, 30, 30, 50, 15, 35, 30, 40, 25, 5, 15, 0, 50, 30, 40, 0, 30, 30, 0, 15, 5, 0, 25, 35, 35, 0, 5, 35, 30, 30, 40, 40, 25, 25, 50, 5, 30, 0, 45, 45, 20, 0, 55, 15, 50, 50, 55, 30, 45, 30, 15, 5, 20, 50, 55, 15, 55, 35, 50, 20, 0, 45, 10, 55, 30, 10, 15, 40, 40, 0, 25, 35, 40, 45, 0, 30, 30, 35, 35, 15, 45, 0, 45, 30, 35, 0, 15, 15, 20, 45, 55, 20, 20, 30, 0, 35, 35, 20, 55, 35, 30, 10, 55, 30, 35, 35, 5, 30, 45, 40, 15, 30, 40, 35, 25, 20, 50, 10, 40, 30, 45, 50, 30, 45, 55, 0, 55, 40, 0, 20, 30, 20, 45, 5, 55, 50, 55, 50, 20, 25, 55, 0, 20, 50, 15, 25, 45, 5, 10, 45, 20, 50, 5, 45, 0, 0, 30, 50, 35, 0, 5, 50, 50, 20, 55, 40, 55, 10, 20, 45, 25, 30, 55, 0, 50, 15, 45, 0, 15, 20, 15, 30, 25, 30, 20, 45, 30, 45, 20, 40, 0, 25, 20, 30, 25, 35, 35, 40, 40, 20, 30, 35, 55, 35, 35, 25, 55, 30, 0, 10, 15, 35, 5, 10, 45, 30, 15, 25, 30, 25, 0, 20, 55, 55, 15, 45, 30, 35, 50, 30, 25, 45, 30, 10, 25, 45, 25, 20, 25, 30, 30, 45, 30, 40, 25, 10, 30, 0, 15, 0, 35, 20, 0, 15, 50, 5, 0, 45, 40, 50, 25, 20, 30, 20, 15, 50, 35, 55, 35, 45, 30, 55, 55, 10, 20, 5, 40, 50, 40, 35, 20, 55, 50, 20, 0, 40, 40, 45, 15, 0, 35, 30, 15, 15, 0, 0, 25, 35, 10, 30, 50, 30, 55, 30, 55, 10, 40, 45, 45, 40, 35, 15, 55, 45, 0, 50, 5, 35, 0, 15, 45, 10, 30, 25, 50, 20, 30, 55, 5, 30, 50, 20, 25, 50, 55, 10, 5, 35, 50, 20, 15, 10, 0, 55, 5, 30, 30, 20, 30, 45, 20, 45, 20, 30, 40, 45, 50, 45, 55, 35, 35, 10, 50, 35, 20, 15, 0, 5, 30, 45, 40, 25, 0, 55, 20, 15, 50, 45, 55, 45, 35, 35, 50, 15, 35, 30, 0, 15, 10, 0, 15, 25, 0, 35, 30, 20, 15, 25, 55, 0, 30, 30, 45, 35, 35, 10, 30, 20, 45, 15, 45, 30, 15, 55, 25, 50, 50, 35, 25, 30, 35, 55, 25, 45, 50, 5, 15, 30, 30, 55, 25, 35, 5, 25, 15, 15, 55, 55, 55, 45, 55, 30, 30, 55, 20, 40, 35, 20, 40, 35, 5, 10, 55, 5, 25, 40, 35, 35, 55, 55, 20, 0, 10, 20, 5, 50, 0, 35, 35, 50, 20, 50, 30, 15, 45, 50, 10, 50, 55, 25, 5, 45, 0, 5, 50, 0, 30, 25, 30, 0, 30, 20, 30, 5, 45, 30, 5, 20, 10, 45, 55, 15, 20, 10, 15, 50, 15, 55, 35, 55, 20, 40, 5, 20, 20, 55, 45, 50, 10, 15, 40, 20, 45, 5, 20, 50, 0, 15, 45, 20, 25, 30, 5, 30, 50, 35, 15, 30, 15, 15, 50, 30, 20, 10, 5, 35, 20, 20, 45, 0, 50, 40, 40, 50, 10, 25, 25, 10, 30, 50, 30, 30, 20, 40, 35, 50, 15, 15, 0, 25, 50, 10, 45, 25, 10, 45, 55, 15, 10, 35, 15, 15, 35, 40, 25, 45, 30, 30, 35, 55, 35, 15, 35, 10, 20, 25, 30, 5, 30, 30, 20, 55, 45, 40, 35, 0, 15, 20, 30, 0, 45, 55, 50, 45, 40, 45, 55, 10, 30, 25, 25, 15, 50, 10, 55, 0, 15, 10, 35, 50, 45, 30, 0, 35, 40, 45, 30, 0, 0, 50, 50, 35, 0, 10, 5, 20, 55, 45, 15, 55, 10, 55, 0, 50, 50, 45, 10, 20, 30, 15, 40, 40, 55, 50, 20, 0, 50, 10, 0, 5, 30, 30, 20, 40, 25, 15, 10, 50, 35, 40, 10, 30, 50, 25, 0, 50, 30, 30, 35, 20, 15, 50, 55, 25, 35, 30, 10, 40, 35, 0, 50, 35, 35, 30, 30, 15, 40, 55, 35, 35, 30, 10, 35, 5, 55, 50, 55, 30, 30, 30, 0, 50, 55, 35, 55, 35, 35, 30, 35, 15, 20, 50, 20, 15, 5, 35, 30, 35, 45, 50, 45, 5, 20, 5, 10, 45, 35, 0, 15, 20, 5, 45, 25, 20, 25, 20, 55, 55, 55, 30, 30, 0, 0, 50, 55, 35, 30, 10, 30, 0, 35, 50, 20, 5, 20, 20, 45, 35, 40, 55, 15, 30, 50, 50, 20, 55, 0, 40, 15, 20, 35, 55, 30, 5, 10, 45, 50, 45, 45, 15, 55, 25, 15, 45, 30, 45, 15, 30, 30, 25, 5, 20, 25, 5, 30, 10, 40, 30, 5, 15, 0, 35, 15, 15, 20, 40, 40, 15, 30, 50, 40, 35, 45, 40, 55, 35, 40, 55, 50, 30, 15, 20, 5, 40, 45, 15, 35, 55, 35, 50, 5, 45, 0, 20, 20, 40, 15, 35, 35, 15, 5, 30, 25, 55, 15, 30, 45, 45, 50, 20, 0, 25, 50, 30, 50, 30, 5, 55, 45, 25, 40, 40, 25, 35, 50, 0, 5, 0, 0, 25, 50, 5, 35, 35, 10, 30, 45, 55, 10, 25, 0, 30, 45, 15, 35, 55, 45, 55, 0, 55, 40, 50, 20, 20, 30, 10, 0, 30, 40, 10, 30, 45, 55, 15, 30, 15, 5, 0, 20, 55, 10, 55, 25, 30, 50, 45, 20, 15, 0, 15, 5, 35, 10, 30, 55, 50, 30, 15, 50, 10, 0, 0, 35, 30, 40, 50, 0, 45, 40, 45, 25, 45, 45, 30, 30, 30, 40, 30, 40, 55, 50, 15, 45, 45, 55, 15, 45, 55, 0, 0, 35, 40, 45, 35, 30, 30, 40, 15, 30, 20, 25, 35, 0, 35, 20, 15, 0, 45, 55, 25, 30, 50, 30, 50, 25, 35, 0, 0, 30, 55, 30, 0, 30, 0, 0, 5, 10, 55, 15, 0, 55, 15, 40, 45, 30, 50, 45, 10, 5, 30, 25, 40, 35, 10, 20, 30, 45, 30, 35, 0, 15, 40, 40, 30, 30, 55, 45, 5, 30, 50, 35, 30, 40, 30, 35, 55, 20, 25, 15, 30, 20, 35, 50, 35, 30, 0, 0, 25, 35, 50, 45, 35, 20, 35, 20, 15, 45, 25, 45, 45, 40, 0, 0, 15, 10, 30, 55, 20, 0, 35, 30, 35, 40, 50, 25, 55, 0, 0, 20, 15, 25, 15, 35, 50, 35, 50, 30, 0, 50, 50, 30, 55, 0, 45, 15, 50, 0, 5, 30, 20, 30, 0, 15, 45, 35, 25, 40, 30, 0, 0, 15, 50, 45, 40, 55, 5, 55, 0, 45, 50, 30, 5, 55, 50, 10, 15, 40, 25, 15, 30, 30, 0, 30, 55, 0, 0, 50, 40, 45, 30, 55, 55, 55, 30, 50, 35, 10, 45, 15, 30, 30, 5, 20, 30, 0, 0, 25, 40, 35, 45, 30, 25, 10, 50, 25, 45, 0, 0, 0, 10, 0, 50, 10, 30, 30, 15, 15, 40, 0, 30, 20, 10, 30, 5, 40, 50, 0, 25, 10, 15, 30, 50, 45, 25, 45, 30, 15, 30, 25, 50, 20, 20, 55, 5, 30, 20, 25, 10, 45, 45, 20, 15, 45, 30, 30, 35, 45, 5, 20, 0, 40, 0, 45, 5, 15, 30, 25, 25, 30, 35, 25, 10, 25, 50, 15, 55, 50, 10, 55, 35, 0, 50, 10, 35, 30, 55, 35, 10, 55, 20, 5, 30, 15, 55, 10, 0, 15, 15, 50, 20, 25, 0, 20, 55, 50, 55, 30, 50, 50, 50, 25, 45, 25, 15, 45, 55, 55, 40, 15, 45, 5, 0, 15, 20, 40, 25, 10, 0, 35, 0, 25, 15, 30, 0, 25, 35, 25, 15, 20, 50, 30, 45, 45, 20, 35, 30, 50, 10, 20, 55, 30, 45, 30, 20, 0, 40, 35, 45, 15, 10, 30, 0, 5, 55, 30, 55, 30, 20, 55, 30, 15, 40, 0, 0, 25, 10, 30, 0, 20, 0, 55, 40, 55, 30, 55, 10, 40, 20, 35, 30, 50, 30, 20, 10, 55, 50, 50, 20, 50, 50, 55, 25, 40, 50, 20, 15, 30, 35, 20, 30, 0, 30, 30, 35, 5, 40, 30, 50, 35, 40, 35, 35, 25, 40, 30, 30, 35, 10, 35, 5, 35, 35, 30, 0, 35, 15, 10, 40, 10, 30, 45, 40, 10, 35, 40, 10, 20, 35, 5, 20, 50, 0, 0, 30, 0, 50, 50, 50, 35, 0, 50, 20, 5, 50, 25, 50, 30, 20, 40, 0, 0, 55, 50, 20, 45, 55, 45, 5, 35, 30, 0, 50, 25, 15, 30, 5, 45, 30, 35, 0, 15, 30, 0, 40, 30, 50, 45, 0, 55, 35, 30, 35, 30, 30, 15, 30, 20, 35, 35, 55, 0, 0, 0, 35, 20, 55, 40, 20, 0, 25, 5, 35, 30, 25, 20, 30, 0, 25, 55, 25, 30, 55, 10, 45, 30, 25, 50, 50, 15, 20, 30, 30, 55, 40, 20, 50, 30, 0, 50, 20, 50, 35, 35, 45, 30, 25, 55, 5, 15, 30, 35, 30, 55, 55, 40, 30, 30, 40, 30, 5, 0, 20, 35, 55, 15, 25, 20, 55, 55, 30, 55, 55, 45, 25, 0, 35, 20, 30, 0, 15, 40, 25, 40, 15, 30, 0, 0, 10, 10, 15, 5, 35, 20, 15, 15, 20, 30, 30, 15, 25, 35, 15, 10, 55, 5, 45, 20, 35, 20, 45, 10, 25, 50, 10, 35, 25, 20, 30, 50, 0, 35, 35, 20, 30, 0, 50, 35, 30, 10, 40, 55, 45, 55, 50, 15, 55, 40, 20, 0, 20, 20, 30, 25, 35, 40, 10, 15, 5, 10, 45, 55, 35, 45, 5, 45, 0, 45, 25, 35, 30, 30, 25, 40, 10, 15, 50, 25, 55, 20, 20, 55, 10, 0, 45, 5, 5, 50, 50, 20, 50, 10, 45, 15, 50, 30, 45, 55, 0, 0, 50, 15, 35, 50, 50, 25, 35, 10, 50, 35, 20, 0, 30, 0, 20, 15, 55, 20, 35, 35, 25, 55, 50, 20, 55, 20, 0, 15, 15, 5, 20, 50, 5, 40, 55, 30, 35, 20, 5, 50, 40, 40, 55, 10, 25, 20, 40, 25, 30, 20, 25, 50, 0, 35, 35, 15, 55, 0, 15, 5, 30, 30, 45, 30, 40, 5, 5, 55, 30, 50, 40, 10, 20, 55, 50, 45, 5, 0, 30, 50, 45, 0, 55, 10, 50, 25, 45, 5, 30, 40, 15, 55, 50, 0, 15, 15, 35, 15, 30, 40, 45, 20, 50, 0, 0, 45, 35, 20, 15, 5, 10, 25, 50, 30, 50, 40, 0, 15, 30, 30, 45, 0, 15, 5, 50, 20, 45, 35, 45, 30, 25, 45, 30, 35, 30, 5, 10, 45, 35, 45, 45, 40, 15, 40, 15, 45, 50, 25, 0, 45, 55, 0, 15, 40, 30, 30, 55, 25, 10, 10, 15, 30, 30, 30, 15, 35, 30, 20, 35, 0, 50, 35, 0, 50, 20, 5, 25, 0, 10, 0, 5, 45, 35, 25, 55, 10, 45, 5, 0, 20, 10, 5, 10, 35, 5, 50, 30, 25, 0, 20, 30, 5, 20, 0, 25, 35, 30, 55, 55, 50, 50, 30, 5, 40, 30, 10, 5, 15, 55, 15, 25, 55, 20, 25, 50, 15, 15, 30, 0, 55, 30, 45, 20, 25, 50, 35, 25, 35, 5, 15, 20, 20, 20, 45, 20, 0, 40, 30, 30, 35, 25, 50, 35, 40, 25, 20, 30, 25, 30, 35, 25, 30, 50, 40, 30, 0, 20, 40, 0, 45, 45, 45, 50, 30, 45, 55, 55, 25, 50, 30, 15, 45, 55, 45, 45, 20, 45, 15, 30, 45, 20, 35, 55, 20, 0, 45, 5, 40, 45, 35, 40, 30, 15, 5, 25, 35, 10, 5, 55, 30, 5, 30, 10, 30, 10, 55, 40, 10, 35, 25, 55, 55, 0, 15, 30, 55, 25, 50, 40, 5, 25, 25, 45, 40, 0, 45, 20, 25, 0, 5, 55, 40, 15, 35, 45, 0, 20, 55, 40, 30, 20, 0, 35, 35, 10, 10, 40, 30, 55, 35, 45, 5, 5, 40, 30, 25, 25, 50, 55, 25, 20, 30, 35, 0, 45, 50, 20, 20, 30, 0, 5, 40, 45, 5, 40, 20, 20, 0, 20, 45, 40, 30, 35, 0, 15, 50, 55, 15, 30, 5, 25, 35, 30, 25, 35, 30, 25, 25, 30, 25, 50, 50, 45, 45, 5, 20, 45, 20, 25, 15, 0, 5, 5, 0, 30, 10, 25, 0, 0, 25, 30, 30, 30, 35, 25, 25, 25, 55, 30, 45, 45, 30, 55, 30, 5, 45, 5, 20, 35, 25, 40, 0, 50, 40, 50, 30, 30, 30, 20, 50, 20, 10, 20, 5, 35, 55, 10, 20, 35, 20, 0, 50, 10, 25, 55, 25, 50, 50, 20, 55, 15, 25, 55, 50, 30, 40, 45, 30, 30, 35, 55, 0, 0, 25, 25, 35, 25, 35, 50, 50, 25, 30, 5, 30, 30, 5, 30, 15, 15, 30, 55, 50, 35, 0, 10, 5, 15, 25, 25, 30, 50, 0, 25, 5, 30, 30, 30, 25, 35, 20, 15, 5, 35, 0, 45, 0, 25, 45, 30, 5, 45, 40, 30, 35, 30, 10, 25, 20, 35, 25, 0, 30, 0, 30, 5, 10, 10, 15, 20, 30, 15, 35, 50, 50, 25, 35, 0, 45, 25, 30, 55, 0, 45, 40, 5, 55, 5, 50, 30, 40, 15, 5, 25, 50, 10, 40, 50, 15, 30, 40, 15, 55, 45, 0, 25, 20, 30, 30, 50, 20, 55, 30, 40, 25, 5, 5, 15, 40, 35, 35, 0, 40, 30, 5, 25, 5, 30, 10, 30, 45, 45, 0, 40, 45, 5, 5, 20, 40, 35, 45, 20, 25, 45, 45, 15, 35, 50, 50, 15, 45, 20, 20, 5, 55, 10, 35, 5, 45, 40, 10, 0, 55, 25, 55, 55, 30, 25, 0, 20, 0, 55, 20, 20, 20, 40, 15, 35, 10, 20, 30, 5, 40, 5, 15, 50, 50, 35, 30, 50, 25, 5, 0, 45, 20, 20, 0, 55, 15, 55, 0, 45, 55, 55, 20, 55, 35, 15, 30, 30, 35, 20, 50, 55, 5, 0, 55, 10, 45, 25, 45, 15, 35, 30, 25, 20, 50, 50, 55, 25, 25, 15, 0, 5, 30, 55, 30, 40, 20, 40, 10, 45, 15, 0, 55, 30, 25, 15, 35, 45, 30, 55, 10, 20, 5, 45, 50, 30, 30, 50, 30, 55, 40, 25, 50, 25, 20, 40, 25, 10, 35, 20, 40, 20, 30, 15, 15, 50, 45, 0, 20, 25, 45, 50, 15, 55, 45, 45, 25, 35, 35, 50, 40, 25, 45, 55, 50, 15, 35, 30, 55, 20, 45, 40, 35, 5, 0, 10, 0, 50, 5, 15, 55, 0, 0, 30, 15, 50, 15, 55, 40, 15, 0, 15, 40, 10, 55, 50, 25, 30, 30, 40, 55, 40, 0, 5, 55, 55, 25, 35, 5, 35, 25, 50, 0, 30, 20, 40, 50, 35, 55, 25, 50, 30, 35, 30, 30, 55, 30, 30, 15, 30, 25, 20, 55, 30, 5, 30, 55, 40, 0, 5, 55, 15, 15, 55, 55, 50, 25, 0, 0, 40, 20, 10, 30, 5, 20, 0, 10, 30, 55, 30, 0, 55, 0, 20, 20, 30, 30, 30, 30, 45, 25, 35, 50, 55, 25, 15, 55, 10, 20, 10, 35, 15, 20, 30, 15, 55, 25, 35, 35, 15, 15, 30, 35, 40, 40, 30, 35, 30, 10, 30, 30, 10, 55, 50, 35, 55, 25, 30, 0, 35, 15, 0, 35, 40, 40, 15, 5, 55, 45, 55, 45, 35, 45, 10, 30, 40, 35, 45, 5, 0, 30, 50, 0, 10, 30, 10, 45, 40, 0, 45, 20, 30, 35, 35, 45, 30, 0, 40, 30, 30, 30, 5, 10, 15, 15, 25, 25, 50, 40, 30, 50, 45, 15, 50, 30, 25, 35, 25, 25, 20, 30, 40, 30, 10, 25, 50, 50, 0, 55, 5, 15, 30, 35, 30, 35, 5, 15, 20, 30, 15, 50, 50, 10, 5, 40, 30, 15, 30, 30, 15, 30, 0, 5, 45, 25, 25, 30, 15, 30, 0, 30, 5, 55, 20, 30, 10, 15, 5, 40, 0, 50, 30, 20, 30, 45, 15, 15, 35, 30, 50, 10, 30, 55, 45, 20, 55, 5, 55, 55, 0, 55, 25, 5, 30, 15, 20, 55, 45, 45, 45, 45, 40, 35, 45, 0, 35, 35, 35, 40, 20, 35, 0, 15, 20, 20, 40, 30, 30, 50, 30, 0, 30, 35, 45, 15, 50, 25, 0, 30, 30, 20, 30, 50, 45, 0, 50, 30, 35, 35, 40, 55, 50, 50, 50, 45, 55, 45, 10, 10, 45, 50, 25, 20, 5, 50, 20, 10, 50, 20, 5, 55, 55, 45, 15, 35, 55, 15, 0, 30, 0, 35, 15, 45, 55, 10, 55, 45, 35, 50, 15, 0, 30, 50, 0, 20, 45, 35, 40, 50, 15, 45, 30, 35, 30, 20, 0, 45, 10, 5, 40, 40, 45, 45, 30, 10, 10, 30, 50, 15, 30, 10, 5, 0, 15, 55, 35, 50, 50, 45, 15, 25, 15, 20, 45, 0, 5, 55, 30, 50, 30, 15, 30, 0, 30, 35, 35, 30, 15, 30, 50, 5, 10, 15, 15, 0, 0, 45, 35, 35, 25, 10, 45, 20, 15, 50, 10, 45, 25, 0, 30, 15, 50, 20, 35, 35, 35, 20, 45, 50, 20, 30, 20, 30, 5, 15, 15, 10, 45, 30, 55, 30, 10, 25, 10, 0, 30, 30, 30, 45, 10, 20, 20, 0, 15, 0, 0, 35, 15, 5, 15, 30, 15, 30, 5, 55, 55, 35, 55, 5, 10, 30, 15, 40, 35, 50, 35, 20, 10, 50, 50, 15, 55, 30, 10, 45, 35, 20, 30, 50, 40, 40, 30, 45, 30, 15, 30, 5, 10, 10, 55, 40, 45, 45, 20, 50, 35, 15, 20, 20, 25, 30, 30, 15, 20, 15, 10, 30, 50, 0, 15, 15, 45, 30, 30, 15, 0, 30, 35, 55, 25, 55, 45, 30, 45, 30, 0, 0, 5, 55, 25, 45, 0, 20, 25, 0, 55, 30, 55, 30, 45, 45, 5, 30, 30, 0, 5, 20, 30, 40, 5, 25, 45, 30, 30, 55, 45, 40, 50, 15, 15, 50, 45, 40, 5, 15, 15, 35, 25, 20, 20, 50, 45, 50, 50, 30, 25, 35, 55, 40, 15, 35, 20, 50, 55, 25, 55, 20, 55, 30, 40, 15, 55, 10, 45, 15, 20, 35, 15, 25, 40, 35, 40, 45, 35, 0, 45, 55, 30, 45, 20, 30, 5, 40, 25, 55, 30, 30, 45, 0, 0, 50, 30, 50, 45, 30, 50, 0, 25, 20, 5, 35, 20, 10, 35, 0, 5, 0, 15, 40, 50, 10, 20, 30, 30, 25, 45, 5, 15, 0, 45, 20, 40, 50, 55, 50, 15, 20, 15, 25, 0, 15, 50, 0, 50, 35, 15, 50, 40, 5, 35, 30, 15, 35, 30, 0, 30, 20, 50, 25, 10, 40, 20, 50, 0, 50, 45, 45, 0, 50, 0, 55, 30, 40, 10, 25, 15, 15, 30, 15, 55, 30, 0, 20, 15, 20, 20, 30, 15, 20, 30, 35, 55, 50, 20, 50, 55, 55, 5, 15, 25, 30, 20, 5, 50, 40, 45, 50, 5, 30, 30, 40, 20, 15, 45, 20, 0, 20, 50, 15, 55, 0, 40, 45, 35, 40, 40, 50, 50, 55, 40, 55, 20, 35, 0, 55, 10, 25, 35, 0, 55, 30, 25, 50, 20, 30, 50, 35, 0, 30, 20, 25, 55, 45, 50, 30, 55, 15, 10, 0, 20, 30, 30, 0, 5, 55, 15, 45, 15, 5, 15, 45, 45, 25, 45, 0, 0, 55, 35, 40, 35, 45, 45, 25, 15, 30, 30, 20, 35, 45, 50, 10, 30, 50, 25, 30, 25, 55, 35, 15, 55, 35, 0, 55, 30, 30, 5, 25, 40, 30, 25, 55, 10, 30, 15, 20, 45, 5, 20, 0, 20, 0, 50, 0, 50, 5, 0, 40, 5, 30, 15, 25, 20, 25, 35, 50, 5, 35, 5, 50, 30, 50, 0, 15, 10, 55, 30, 30, 55, 45, 40, 35, 0, 30, 35, 45, 55, 30, 35, 50, 15, 35, 40, 30, 50, 30, 35, 35, 40, 50, 45, 0, 15, 35, 0, 5, 0, 10, 20, 0, 30, 25, 45, 30, 5, 15, 30, 35, 45, 15, 55, 10, 40, 30, 20, 25, 30, 0, 40, 45, 5, 20, 5, 45, 35, 40, 15, 55, 30, 50, 15, 55, 15, 30, 15, 25, 20, 5, 0, 5, 50, 45, 10, 10, 30, 20, 5, 35, 0, 15, 25, 40, 20, 30, 20, 30, 45, 0, 5, 35, 50, 55, 45, 45, 15, 5, 45, 35, 50, 45, 20, 10, 20, 30, 45, 20, 30, 20, 55, 45, 20, 45, 0, 55, 45, 45, 10, 50, 35, 35, 20, 15, 40, 0, 40, 40, 10, 35, 20, 55, 20, 25, 20, 15, 20, 20, 5, 30, 20, 50, 30, 45, 35, 5, 15, 45, 30, 20, 50, 30, 50, 20, 0, 35, 40, 40, 40, 25, 25, 55, 35, 30, 30, 20, 0, 10, 20, 55, 35, 20, 5, 30, 5, 0, 35, 25, 55, 25, 55, 40, 10, 45, 15, 30, 35, 20, 20, 25, 0, 0, 30, 20, 15, 0, 45, 30, 0, 25, 25, 15, 35, 35, 55, 30, 45, 45, 45, 15, 25, 35, 20, 20, 30, 5, 15, 50, 50, 15, 10, 5, 0, 30, 35, 15, 55, 15, 5, 50, 50, 45, 20, 0, 5, 20, 30, 15, 5, 50, 55, 35, 35, 20, 55, 0, 30, 45, 35, 25, 35, 0, 50, 20, 45, 0, 50, 45, 35, 0, 5, 50, 30, 5, 30, 50, 45, 50, 45, 10, 5, 20, 10, 15, 30, 25, 45, 15, 20, 20, 35, 55, 35, 15, 55, 55, 5, 45, 35, 45, 10, 30, 35, 55, 20, 50, 20, 30, 20, 50, 15, 50, 20, 20, 25, 50, 0, 25, 40, 5, 55, 30, 0, 35, 15, 30, 45, 55, 55, 55, 25, 0, 50, 45, 5, 5, 55, 35, 15, 55, 15, 20, 30, 25, 50, 20, 40, 5, 20, 55, 35, 50, 35, 0, 15, 50, 50, 20, 25, 35, 30, 50, 15, 55, 35, 15, 40, 25, 50, 25, 50, 0, 25, 55, 30, 0, 45, 45, 15, 0, 25, 35, 20, 0, 35, 30, 50, 45, 25, 30, 35, 40, 25, 10, 35, 25, 30, 15, 0, 25, 25, 25, 0, 35, 0, 20, 35, 10, 50, 15, 20, 25, 30, 10, 50, 35, 15, 30, 55, 10, 45, 25, 15, 25, 30, 20, 10, 45, 30, 30, 10, 55, 40, 40, 40, 55, 50, 35, 45, 25, 45, 30, 5, 15, 10, 30, 5, 50, 40, 15, 45, 45, 55, 25, 30, 50, 0, 30, 45, 30, 50, 55, 5, 50, 30, 55, 50, 15, 45, 0, 45, 25, 10, 55, 0, 15, 10, 0, 50, 45, 30, 15, 40, 20, 15, 5, 30, 0, 15, 35, 35, 40, 25, 35, 0, 45, 25, 25, 35, 0, 30, 20, 0, 5, 40, 15, 15, 15, 20, 40, 0, 0, 45, 45, 0, 50, 50, 5, 5, 15, 15, 5, 0, 45, 30, 25, 55, 5, 15, 55, 55, 35, 10, 30, 5, 35, 40, 45, 5, 5, 0, 50, 25, 20, 30, 10, 40, 10, 10, 50, 0, 15, 30, 50, 5, 55, 35, 20, 20, 35, 15, 35, 30, 45, 30, 15, 55, 10, 40, 30, 25, 35, 55, 45, 5, 35, 35, 55, 20, 30, 45, 55, 50, 55, 45, 0, 40, 15, 0, 5, 45, 25, 25, 25, 20, 30, 35, 15, 30, 55, 50, 45, 35, 5, 20, 55, 55, 45, 50, 25, 55, 55, 45, 45, 45, 20, 20, 0, 45, 0, 5, 10, 35, 40, 20, 50, 45, 20, 0, 25, 50, 10, 30, 20, 20, 15, 35, 35, 50, 0, 50, 45, 35, 40, 10, 15, 55, 25, 0, 25, 5, 50, 50, 5, 35, 35, 0, 15, 55, 35, 20, 50, 0, 30, 50, 30, 35, 45, 40, 55, 25, 20, 20, 15, 35, 45, 10, 5, 55, 35, 10, 0, 0, 35, 25, 55, 20, 50, 20, 25, 35, 5, 30, 20, 40, 0, 0, 40, 55, 55, 10, 25, 50, 45, 45, 25, 40, 20, 25, 25, 40, 30, 0, 30, 40, 30, 45, 15, 55, 30, 20, 15, 30, 5, 45, 0, 25, 55, 45, 50, 20, 0, 0, 20, 20, 40, 35, 10, 50, 25, 50, 35, 20, 15, 20, 35, 0, 20, 0, 55, 5, 20, 30, 45, 20, 25, 0, 30, 25, 20, 30, 30, 25, 55, 35, 55, 35, 50, 40, 30, 50, 35, 35, 55, 35, 0, 55, 35, 15, 30, 25, 0, 50, 50, 30, 0, 30, 20, 30, 35, 45, 0, 0, 50, 10, 30, 20, 55, 0, 20, 25, 35, 30, 40, 45, 50, 35, 15, 20, 25, 0, 50, 20, 55, 40, 0, 35, 50, 10, 35, 15, 15, 5, 55, 20, 55, 25, 55, 0, 0, 55, 15, 0, 20, 50, 55, 30, 25, 45, 55, 40, 35, 50, 20, 55, 0, 25, 0, 50, 55, 45, 25, 40, 10, 20, 55, 5, 30, 20, 5, 40, 40, 0, 5, 20, 25, 30, 20, 0, 35, 10, 30, 5, 5, 55, 20, 45, 30, 0, 40, 20, 40, 35, 25, 30, 25, 40, 55, 5, 30, 25, 10, 30, 15, 25, 15, 35, 45, 35, 40, 25, 55, 20, 50, 45, 15, 45, 45, 20, 30, 30, 35, 30, 30, 10, 30, 45, 20, 40, 5, 50, 40, 30, 55, 5, 20, 35, 25, 0, 5, 0, 20, 20, 30, 50, 5, 25, 40, 45, 20, 0, 30, 35, 45, 20, 20, 15, 35, 5, 15, 20, 35, 30, 10, 15, 50, 25, 25, 20, 25, 15, 50, 55, 25, 55, 0, 20, 0, 20, 40, 15, 35, 40, 55, 45, 45, 20, 30, 35, 0, 30, 15, 5, 50, 0, 5, 45, 10, 30, 50, 25, 30, 25, 30, 15, 45, 20, 40, 15, 0, 40, 35, 40, 50, 5, 55, 0, 15, 45, 45, 20, 45, 30, 40, 20, 25, 20, 10, 30, 30, 0, 0, 15, 30, 30, 50, 30, 35, 30, 0, 55, 45, 45, 40, 55, 15, 10, 15, 20, 40, 45, 25, 30, 0, 10, 55, 30, 30, 55, 30, 55, 40, 55, 35, 35, 30, 30, 20, 10, 10, 25, 10, 30, 30, 40, 55, 50, 15, 5, 50, 30, 45, 45, 50, 45, 30, 45, 5, 30, 15, 25, 30, 30, 50, 55, 50, 20, 30, 10, 30, 50, 45, 0, 0, 35, 25, 35, 55, 15, 15, 5, 5, 20, 35, 30, 45, 50, 25, 50, 35, 20, 45, 10, 0, 0, 20, 0, 40, 30, 30, 50, 20, 45, 55, 30, 20, 0, 45, 20, 55, 45, 40, 35, 10, 20, 30, 55, 30, 25, 55, 55, 5, 45, 50, 15, 20, 45, 15, 55, 15, 30, 30, 35, 0, 10, 35, 35, 40, 45, 50, 30, 25, 45, 35, 0, 30, 15, 35, 50, 20, 55, 40, 35, 25, 0, 0, 35, 10, 25, 35, 30, 55, 50, 55, 15, 15, 40, 55, 20, 5, 15, 40, 30, 5, 55, 15, 45, 55, 0, 15, 40, 20, 30, 55, 40, 35, 45, 55, 45, 15, 40, 5, 15, 30, 30, 10, 30, 45, 35, 55, 20, 45, 50, 20, 55, 30, 55, 50, 30, 0, 50, 30, 0, 45, 15, 5, 40, 10, 55, 0, 50, 30, 50, 35, 0, 15, 50, 25, 35, 50, 45, 10, 45, 35, 55, 40, 25, 50, 30, 10, 5, 5, 45, 25, 40, 30, 40, 10, 20, 15, 50, 20, 5, 30, 35, 30, 15, 25, 5, 0, 55, 15, 30, 0, 30, 0, 0, 35, 25, 0, 35, 20, 45, 0, 30, 30, 45, 30, 50, 20, 5, 5, 30, 30, 50, 5, 15, 45, 35, 20, 30, 30, 15, 5, 30, 0, 10, 45, 15, 20, 55, 50, 5, 50, 15, 55, 35, 15, 30, 35, 45, 20, 45, 0, 50, 55, 15, 10, 20, 15, 50, 5, 30, 35, 50, 20, 25, 50, 15, 55, 0, 50, 50, 5, 20, 20, 30, 20, 50, 35, 35, 25, 35, 55, 40, 35, 15, 25, 0, 30, 30, 50, 25, 25, 20, 25, 25, 15, 55, 45, 15, 35, 0, 35, 55, 30, 35, 25, 20, 25, 10, 15, 25, 0, 0, 25, 25, 50, 45, 20, 15, 0, 40, 30, 35, 15, 25, 0, 55, 5, 20, 35, 55, 10, 30, 20, 15, 5, 30, 45, 15, 0, 15, 0, 40, 30, 45, 35, 45, 15, 30, 30, 15, 35, 5, 0, 50, 0, 50, 20, 0, 50, 30, 10, 55, 15, 15, 20, 15, 30, 30, 35, 20, 20, 30, 45, 15, 15, 20, 0, 50, 50, 0, 15, 50, 40, 55, 40, 30, 30, 40, 20, 35, 30, 50, 35, 5, 30, 0, 45, 20, 15, 15, 25, 30, 0, 25, 0, 30, 20, 5, 30, 25, 15, 50, 30, 0, 20, 30, 55, 55, 40, 5, 0, 50, 55, 15, 40, 10, 10, 55, 0, 50, 35, 50, 20, 40, 45, 10, 5, 40, 25, 45, 35, 0, 40, 0, 55, 5, 30, 50, 40, 10, 5, 0, 55, 50, 0, 55, 45, 15, 25, 0, 0, 30, 20, 5, 30, 15, 50, 35, 0, 5, 0, 0, 30, 30, 0, 40, 20, 40, 30, 45, 15, 25, 20, 30, 25, 50, 0, 55, 50, 55, 25, 40, 0, 15, 55, 55, 15, 15, 5, 45, 50, 35, 20, 25, 0, 35, 10, 50, 35, 50, 20, 15, 25, 15, 45, 5, 30, 35, 30, 20, 50, 25, 15, 30, 30, 55, 20, 45, 45, 30, 20, 5, 20, 25, 30, 50, 50, 0, 15, 20, 45, 20, 50, 30, 5, 35, 40, 20, 35, 35, 50, 35, 35, 30, 5, 50, 30, 5, 20, 50, 20, 5, 0, 15, 40, 10, 50, 25, 25, 35, 30, 50, 35, 0, 20, 0, 0, 5, 35, 20, 30, 55, 30, 35, 50, 20, 5, 55, 50, 30, 55, 25, 55, 55, 5, 30, 40, 15, 0, 50, 25, 30, 5, 30, 20, 55, 0, 10, 35, 20, 20, 50, 30, 55, 0, 35, 25, 40, 5, 20, 30, 45, 35, 15, 40, 15, 5, 50, 0, 5, 40, 30, 5, 5, 25, 0, 5, 35, 15, 30, 35, 25, 55, 0, 20, 5, 45, 50, 0, 45, 55, 20, 15, 25, 30, 30, 30, 30, 50, 0, 50, 55, 5, 20, 15, 0, 30, 45, 10, 5, 40, 5, 10, 45, 30, 10, 30, 55, 55, 55, 5, 20, 0, 40, 35, 40, 50, 50, 10, 40, 15, 25, 30, 0, 35, 55, 30, 30, 40, 35, 45, 10, 20, 15, 15, 45, 0, 40, 35, 20, 5, 0, 35, 55, 0, 0, 50, 0, 25, 50, 30, 10, 45, 35, 15, 20, 30, 50, 40, 35, 0, 50, 5, 50, 25, 40, 0, 0, 35, 30, 55, 15, 50, 40, 55, 25, 20, 5, 55, 25, 30, 40, 45, 55, 30, 55, 25, 10, 10, 30, 50, 15, 55, 45, 0, 30, 20, 25, 55, 30, 40, 35, 15, 30, 0, 0, 45, 45, 0, 35, 0, 45, 15, 55, 45, 55, 5, 5, 0, 10, 30, 45, 30, 40, 50, 30, 50, 15, 25, 40, 15, 15, 50, 10, 50, 20, 45, 30, 40, 35, 0, 10, 45, 15, 30, 35, 35, 10, 50, 5, 20, 45, 10, 40, 15, 0, 45, 10, 30, 35, 15, 50, 45, 40, 50, 30, 20, 45, 30, 0, 50, 0, 40, 25, 45, 45, 55, 10, 50, 30, 30, 25, 55, 15, 30, 25, 30, 45, 30, 55, 5, 55, 35, 20, 55, 50, 45, 50, 35, 20, 55, 20, 0, 25, 15, 30, 45, 50, 50, 35, 50, 55, 50, 25, 15, 35, 30, 20, 20, 45, 50, 20, 45, 0, 30, 35, 15, 30, 35, 5, 0, 30, 25, 55, 0, 15, 35, 0, 40, 30, 10, 15, 50, 45, 5, 55, 25, 30, 25, 45, 40, 25, 50, 30, 40, 50, 30, 30, 45, 35, 30, 35, 45, 5, 55, 50, 45, 55, 15, 25, 35, 30, 40, 55, 0, 20, 35, 55, 50, 15, 45, 50, 50, 35, 25, 45, 25, 10, 35, 15, 5, 55, 5, 40, 15, 30, 35, 55, 35, 50, 45, 5, 25, 45, 5, 35, 0, 35, 35, 50, 45, 45, 30, 45, 20, 30, 55, 20, 25, 15, 0, 10, 5, 25, 45, 10, 30, 55, 55, 25, 30, 0, 5, 45, 55, 55, 20, 25, 40, 55, 30, 15, 5, 30, 35, 50, 20, 30, 45, 30, 30, 45, 25, 5, 30, 0, 20, 55, 10, 20, 50, 30, 50, 50, 55, 15, 55, 30, 30, 15, 30, 20, 0, 20, 25, 30, 45, 50, 5, 45, 30, 30, 5, 50, 35, 30, 30, 55, 30, 25, 25, 25, 0, 55, 5, 40, 25, 50, 0, 30, 25, 40, 0, 50, 40, 50, 35, 0, 20, 35, 25, 45, 45, 45, 0, 15, 20, 25, 35, 0, 40, 35, 40, 15, 55, 40, 45, 20, 45, 50, 15, 15, 45, 5, 40, 15, 50, 55, 10, 35, 35, 45, 55, 30, 5, 20, 0, 25, 40, 30, 45, 0, 50, 50, 20, 20, 35, 15, 30, 35, 0, 45, 55, 50, 45, 45, 50, 25, 55, 30, 5, 35, 30, 30, 5, 45, 15, 15, 30, 55, 30, 15, 5, 25, 50, 35, 0, 50, 45, 35, 25, 10, 35, 45, 25, 30, 50, 55, 5, 35, 35, 55, 50, 15, 55, 0, 20, 55, 25, 35, 20, 25, 25, 20, 5, 0, 0, 25, 10, 55, 0, 45, 50, 0, 40, 0, 45, 5, 25, 55, 35, 45, 30, 30, 30, 55, 55, 50, 35, 0, 40, 0, 40, 20, 50, 45, 25, 25, 40, 35, 0, 30, 40, 45, 0, 0, 10, 30, 15, 55, 50, 55, 55, 50, 15, 45, 15, 30, 0, 30, 0, 55, 0, 25, 30, 5, 10, 40, 55, 55, 5, 45, 55, 10, 55, 0, 40, 15, 30, 35, 50, 40, 0, 45, 20, 30, 5, 35, 10, 0, 20, 55, 10, 25, 0, 55, 20, 5, 25, 15, 10, 55, 35, 0, 45, 0, 0, 30, 5, 30, 20, 30, 30, 35, 15, 30, 35, 0, 20, 55, 55, 35, 30, 40, 50, 30, 15, 35, 55, 50, 45, 30, 20, 55, 50, 20, 0, 35, 0, 50, 50, 5, 50, 45, 55, 30, 30, 25, 35, 20, 50, 30, 30, 10, 20, 5, 45, 0, 20, 25, 10, 15, 15, 50, 35, 15, 50, 45, 45, 30, 20, 50, 50, 0, 10, 20, 35, 15, 0, 50, 55, 30, 0, 15, 35, 40, 50, 20, 30, 55, 30, 20, 40, 0, 35, 55, 30, 25, 15, 10, 45, 0, 5, 55, 30, 5, 45, 15, 40, 50, 40, 40, 15, 25, 15, 0, 10, 40, 20, 45, 50, 25, 5, 0, 35, 15, 30, 5, 30, 30, 0, 30, 35, 0, 35, 30, 35, 55, 45, 15, 50, 0, 20, 40, 50, 30, 15, 30, 10, 35, 10, 30, 5, 15, 45, 35, 20, 35, 10, 55, 20, 35, 0, 55, 0, 55, 25, 0, 5, 0, 30, 10, 30, 30, 20, 20, 35, 30, 5, 55, 25, 50, 0, 55, 20, 25, 55, 5, 35, 50, 45, 5, 0, 5, 15, 50, 35, 0, 45, 10, 15, 20, 20, 45, 5, 35, 30, 40, 15, 40, 45, 45, 55, 15, 20, 50, 55, 20, 10, 20, 5, 50, 25, 25, 5, 30, 35, 25, 30, 40, 0, 20, 45, 30, 50, 30, 50, 0, 15, 0, 20, 50, 45, 25, 35, 20, 25, 10, 30, 30, 20, 40, 5, 15, 25, 30, 30, 50, 55, 15, 55, 40, 30, 0, 45, 5, 35, 30, 5, 15, 35, 45, 20, 35, 20, 30, 35, 50, 0, 50, 40, 50, 0, 50, 0, 5, 55, 50, 50, 40, 50, 55, 20, 5, 25, 50, 35, 0, 15, 15, 30, 55, 50, 5, 15, 50, 20, 30, 30, 20, 20, 25, 25, 25, 20, 15, 20, 15, 35, 40, 55, 25, 45, 25, 45, 0, 30, 30, 20, 25, 45, 20, 5, 45, 15, 50, 45, 30, 35, 55, 30, 20, 10, 20, 15, 35, 10, 15, 5, 20, 30, 45, 50, 45, 10, 40, 50, 10, 15, 40, 45, 5, 5, 15, 50, 10, 0, 30, 35, 15, 20, 50, 55, 30, 55, 10, 45, 25, 50, 45, 15, 30, 50, 40, 10, 50, 45, 20, 45, 35, 35, 35, 20, 30, 25, 45, 25, 20, 55, 40, 20, 25, 15, 5, 40, 50, 45, 40, 55, 0, 25, 50, 40, 20, 15, 10, 25, 30, 10, 0, 55, 0, 20, 50, 40, 35, 10, 50, 20, 50, 45, 0, 20, 55, 55, 55, 45, 5, 50, 0, 50, 40, 20, 30, 30, 30, 40, 20, 20, 25, 25, 50, 0, 45, 10, 15, 0, 30, 0, 40, 35, 15, 50, 0, 15, 35, 35, 0, 20, 35, 15, 55, 15, 25, 15, 5, 35, 55, 40, 35, 55, 30, 30, 55, 45, 50, 35, 25, 30, 50, 45, 5, 30, 25, 5, 30, 15, 45, 30, 30, 35, 55, 5, 40, 15, 5, 0, 35, 55, 40, 0, 20, 40, 55, 5, 30, 20, 40, 55, 55, 30, 30, 35, 55, 35, 30, 55, 15, 30, 0, 20, 30, 15, 55, 50, 50, 30, 15, 35, 50, 40, 25, 15, 10, 20, 15, 35, 25, 15, 55, 20, 50, 30, 30, 25, 25, 30, 55, 10, 15, 45, 30, 10, 45, 45, 25, 25, 45, 25, 30, 15, 15, 15, 5, 40, 30, 50, 0, 0, 15, 50, 20, 25, 30, 5, 10, 45, 20, 30, 10, 30, 25, 40, 35, 20, 40, 25, 30, 50, 50, 0, 20, 55, 50, 15, 45, 50, 35, 45, 45, 20, 45, 55, 20, 30, 0, 10, 5, 50, 20, 25, 35, 0, 55, 50, 50, 35, 20, 0, 10, 15, 15, 30, 50, 30, 25, 0, 15, 25, 0, 30, 55, 30, 55, 15, 30, 25, 25, 50, 20, 0, 40, 25, 50, 0, 20, 40, 40, 35, 30, 30, 50, 35, 40, 30, 15, 45, 15, 40, 45, 25, 0, 0, 15, 55, 30, 30, 15, 55, 50, 15, 0, 55, 25, 55, 5, 25, 50, 55, 10, 15, 25, 5, 50, 40, 30, 50, 55, 5, 45, 20, 10, 35, 30, 10, 0, 15, 10, 40, 50, 20, 50, 30, 15, 35, 35, 0, 45, 30, 30, 55, 25, 25, 50, 45, 35, 0, 55, 35, 15, 50, 20, 0, 15, 40, 35, 20, 20, 0, 50, 0, 45, 50, 20, 30, 35, 50, 10, 40, 10, 25, 55, 30, 30, 50, 30, 35, 30, 50, 45, 30, 20, 35, 0, 30, 35, 0, 0, 0, 35, 15, 30, 50, 10, 55, 50, 30, 10, 30, 35, 50, 50, 30, 0, 20, 30, 50, 50, 55, 0, 5, 0, 30, 35, 45, 5, 10, 30, 45, 45, 50, 30, 55, 10, 45, 35, 25, 55, 55, 0, 55, 45, 35, 10, 20, 55, 15, 30, 50, 0, 40, 45, 45, 20, 55, 10, 0, 55, 20, 20, 40, 0, 30, 0, 25, 40, 45, 15, 25, 55, 0, 55, 45, 55, 50, 30, 0, 50, 15, 20, 0, 25, 40, 35, 30, 30, 30, 20, 35, 5, 15, 30, 30, 20, 45, 25, 0, 0, 20, 55, 25, 35, 5, 5, 20, 55, 10, 25, 15, 50, 20, 20, 0, 0, 30, 55, 0, 55, 5, 55, 15, 50, 10, 20, 55, 25, 30, 55, 5, 15, 5, 25, 25, 35, 10, 10, 30, 45, 40, 10, 35, 25, 15, 40, 0, 30, 20, 25, 0, 5, 55, 50, 20, 0, 5, 25, 15, 45, 25, 0, 35, 55, 35, 50, 30, 15, 55, 55, 10, 5, 25, 15, 30, 20, 55, 0, 0, 55, 0, 15, 20, 55, 10, 45, 0, 15, 15, 45, 15, 55, 30, 20, 20, 15, 30, 0, 50, 20, 50, 50, 20, 5, 0, 20, 40, 35, 35, 25, 35, 40, 5, 50, 5, 15, 10, 35, 0, 5, 5, 30, 30, 30, 15, 20, 0, 40, 10, 45, 20, 0, 35, 50, 50, 15, 50, 30, 0, 30, 15, 25, 15, 25, 0, 45, 15, 40, 50, 0, 30, 35, 35, 15, 25, 30, 40, 20, 0, 40, 25, 0, 0, 35, 15, 55, 0, 30, 35, 15, 55, 15, 30, 0, 50, 30, 55, 25, 20, 0, 30, 20, 25, 30, 20, 15, 15, 55, 25, 15, 15, 20, 55, 15, 30, 50, 0, 30, 45, 25, 50, 5, 45, 50, 55, 35, 50, 30, 20, 0, 15, 20, 45, 45, 45, 20, 20, 40, 55, 50, 15, 55, 30, 10, 55, 20, 10, 5, 0, 15, 35, 25, 15, 45, 55, 35, 55, 40, 30, 30, 25, 20, 5, 30, 0, 30, 35, 25, 15, 15, 55, 50, 0, 30, 45, 45, 0, 5, 0, 30, 50, 50, 20, 40, 25, 55, 30, 10, 20, 40, 45, 30, 55, 45, 5, 20, 0, 5, 55, 25, 35, 20, 25, 30, 35, 40, 25, 0, 20, 45, 30, 20, 0, 10, 55, 30, 15, 30, 20, 15, 0, 30, 55, 45, 55, 25, 0, 55, 15, 25, 20, 30, 20, 25, 10, 55, 10, 45, 50, 30, 20, 45, 0, 25, 15, 5, 40, 40, 40, 30, 45, 30, 50, 30, 35, 5, 20, 0, 0, 10, 50, 45, 30, 5, 40, 20, 45, 25, 30, 30, 40, 30, 15, 30, 55, 55, 30, 35, 50, 45, 50, 25, 20, 50, 50, 0, 40, 45, 50, 55, 25, 50, 0, 0, 30, 25, 50, 45, 5, 30, 55, 20, 30, 20, 20, 45, 15, 30, 20, 35, 0, 20, 30, 50, 0, 50, 15, 0, 30, 50, 50, 40, 45, 40, 25, 20, 30, 0, 5, 55, 45, 0, 35, 55, 20, 30, 15, 35, 30, 30, 20, 20, 30, 25, 25, 20, 55, 5, 30, 30, 45, 5, 30, 5, 45, 35, 0, 15, 0, 5, 5, 15, 0, 50, 10, 40, 25, 15, 45, 20, 10, 35, 40, 15, 20, 5, 40, 45, 20, 25, 45, 0, 50, 10, 20, 40, 30, 55, 45, 55, 30, 25, 10, 35, 35, 25, 30, 50, 45, 40, 0, 30, 5, 0, 50, 0, 15, 50, 50, 0, 0, 30, 45, 30, 10, 15, 35, 30, 50, 45, 45, 45, 50, 35, 5, 45, 5, 25, 15, 55, 45, 5, 55, 30, 55, 30, 35, 40, 30, 20, 20, 25, 50, 40, 20, 55, 40, 20, 30, 0, 45, 30, 15, 0, 45, 50, 50, 5, 45, 20, 30, 20, 0, 20, 0, 30, 25, 20, 50, 30, 15, 45, 45, 20, 50, 25, 35, 15, 25, 35, 15, 25, 50, 20, 5, 40, 20, 55, 40, 40, 30, 55, 5, 20, 20, 25, 35, 40, 55, 30, 0, 20, 50, 0, 25, 30, 0, 0, 55, 0, 25, 30, 0, 5, 20, 20, 25, 5, 45, 30, 5, 30, 55, 20, 40, 30, 30, 0, 20, 50, 30, 55, 55, 15, 20, 25, 40, 45, 40, 0, 0, 50, 5, 10, 55, 30, 30, 55, 25, 50, 5, 5, 30, 50, 25, 0, 15, 55, 45, 0, 10, 25, 25, 10, 10, 55, 15, 0, 20, 35, 35, 30, 20, 30, 10, 45, 5, 15, 20, 20, 20, 25, 30, 55, 35, 55, 30, 30, 30, 20, 5, 0, 0, 25, 55, 5, 45, 20, 40, 20, 40, 20, 55, 40, 20, 45, 55, 5, 0, 55, 15, 35, 35, 0, 30, 20, 30, 15, 20, 30, 20, 15, 25, 20, 55, 20, 30, 30, 50, 25, 35, 15, 30, 35, 20, 25, 30, 55, 20, 50, 10, 0, 5, 45, 55, 25, 40, 45, 25, 20, 15, 30, 25, 20, 35, 35, 20, 15, 55, 35, 55, 0, 30, 30, 30, 30, 30, 5, 0, 15, 30, 20, 10, 50, 5, 30, 40, 40, 45, 35, 35, 20, 35, 30, 25, 25, 30, 5, 50, 20, 35, 50, 5, 30, 50, 55, 0, 35, 50, 15, 15, 10, 45, 20, 55, 30, 30, 0, 45, 50, 20, 10, 10, 0, 5, 35, 50, 10, 35, 20, 55, 50, 40, 30, 40, 45, 45, 35, 55, 30, 35, 35, 0, 15, 30, 40, 25, 50, 45, 30, 50, 5, 45, 50, 35, 30, 5, 5, 30, 0, 55, 45, 45, 0, 15, 0, 30, 45, 25, 45, 55, 45, 20, 30, 30, 45, 40, 55, 40, 15, 15, 50, 25, 0, 15, 30, 55, 0, 30, 10, 30, 40, 35, 25, 45, 50, 20, 50, 30, 5, 15, 20, 10, 15, 0, 50, 50, 25, 20, 15, 40, 15, 35, 45, 15, 55, 40, 5, 25, 25, 50, 35, 20, 55, 30, 50, 15, 40, 15, 50, 15, 0, 40, 25, 0, 10, 0, 10, 25, 30, 30, 15, 30, 15, 45, 45, 0, 45, 55, 35, 0, 40, 50, 10, 45, 55, 55, 55, 30, 55, 5, 45, 55, 0, 45, 55, 20, 30, 35, 15, 25, 15, 50, 40, 20, 30, 50, 30, 20, 25, 40, 25, 55, 55, 25, 30, 40, 50, 15, 30, 20, 15, 5, 0, 30, 5, 25, 35, 5, 0, 45, 40, 5, 20, 25, 50, 40, 0, 30, 30, 40, 30, 30, 30, 25, 45, 35, 45, 45, 20, 30, 30, 0, 45, 40, 30, 30, 35, 5, 50, 25, 0, 0, 5, 55, 35, 35, 20, 25, 30, 20, 30, 10, 20, 15, 25, 0, 50, 25, 0, 55, 35, 15, 0, 30, 5, 0, 10, 30, 0, 15, 0, 30, 50, 45, 35, 0, 45, 50, 30, 50, 50, 0, 35, 50, 50, 30, 35, 10, 50, 20, 10, 40, 30, 35, 5, 35, 55, 25, 5, 40, 30, 35, 25, 30, 50, 35, 15, 25, 20, 30, 0, 0, 15, 15, 35, 20, 45, 40, 45, 30, 20, 15, 40, 50, 25, 20, 30, 50, 15, 45, 35, 35, 10, 40, 45, 20, 35, 35, 25, 35, 55, 15, 20, 20, 15, 0, 45, 15, 15, 50, 20, 20, 45, 25, 35, 20, 10, 25, 45, 25, 0, 55, 35, 50, 30, 15, 30, 10, 25, 25, 50, 10, 25, 15, 5, 35, 55, 15, 20, 40, 45, 50, 30, 15, 50, 30, 55, 5, 20, 20, 0, 40, 50, 10, 0, 20, 20, 20, 0, 35, 45, 50, 45, 35, 0, 25, 20, 50, 20, 30, 35, 55, 50, 55, 20, 25, 30, 30, 20, 0, 10, 45, 50, 40, 35, 50, 10, 30, 10, 50, 30, 55, 15, 40, 0, 0, 35, 50, 40, 35, 30, 20, 15, 5, 30, 30, 45, 15, 30, 5, 45, 50, 50, 30, 45, 30, 40, 35, 55, 5, 55, 30, 20, 0, 45, 45, 40, 55, 20, 0, 20, 55, 45, 20, 5, 45, 45, 20, 45, 45, 0, 35, 10, 35, 0, 40, 0, 40, 50, 10, 20, 45, 50, 35, 5, 30, 40, 5, 0, 35, 50, 45, 30, 5, 20, 50, 30, 40, 55, 20, 40, 15, 30, 15, 35, 15, 25, 5, 50, 40, 40, 0, 15, 30, 20, 0, 50, 55, 10, 40, 50, 45, 40, 30, 20, 0, 5, 15, 30, 0, 10, 0, 55, 25, 0, 5, 50, 5, 45, 20, 35, 50, 50, 35, 5, 40, 20, 35, 35, 25, 10, 55, 30, 10, 25, 45, 5, 45, 25, 0, 20, 45, 30, 45, 0, 20, 15, 15, 30, 30, 50, 30, 10, 0, 35, 25, 10, 30, 40, 40, 40, 15, 15, 30, 40, 20, 50, 55, 0, 15, 30, 0, 35, 10, 25, 55, 50, 15, 10, 45, 25, 20, 30, 30, 45, 25, 30, 15, 30, 15, 5, 55, 20, 30, 55, 0, 10, 0, 30, 5, 0, 55, 20, 50, 45, 35, 45, 0, 40, 30, 30, 55, 30, 0, 50, 15, 20, 40, 55, 40, 50, 45, 15, 0, 40, 0, 25, 0, 0, 5, 0, 10, 0, 35, 0, 20, 30, 40, 45, 45, 50, 40, 0, 5, 20, 25, 45, 0, 30, 50, 35, 55, 5, 30, 35, 35, 45, 0, 35, 20, 50, 20, 25, 20, 50, 50, 55, 0, 35, 20, 20, 20, 40, 25, 50, 45, 35, 15, 55, 30, 20, 20, 40, 45, 20, 25, 20, 55, 0, 20, 25, 5, 25, 30, 50, 10, 20, 45, 0, 25, 10, 40, 20, 0, 50, 25, 40, 10, 30, 5, 5, 30, 10, 40, 55, 0, 30, 25, 35, 50, 30, 40, 50, 35, 30, 15, 35, 30, 30, 30, 35, 15, 15, 15, 50, 50, 0, 55, 55, 35, 35, 15, 10, 0, 40, 45, 0, 20, 50, 30, 10, 20, 30, 30, 0, 0, 30, 45, 20, 30, 55, 5, 30, 30, 30, 5, 35, 55, 20, 0, 40, 25, 50, 40, 45, 50, 35, 25, 0, 40, 30, 30, 30, 35, 50, 20, 45, 25, 40, 40, 20, 0, 35, 30, 15, 45, 10, 30, 25, 0, 15, 10, 0, 15, 15, 30, 35, 0, 0, 50, 40, 0, 30, 50, 50, 40, 45, 30, 30, 0, 30, 30, 10, 50, 5, 10, 30, 40, 30, 55, 55, 15, 35, 45, 40, 35, 5, 35, 0, 15, 30, 5, 0, 5, 35, 10, 55, 30, 30, 30, 35, 30, 10, 20, 55, 45, 30, 20, 45, 0, 20, 0, 20, 10, 45, 25, 20, 45, 20, 30, 0, 35, 30, 0, 45, 30, 45, 10, 55, 40, 25, 20, 50, 0, 35, 25, 35, 35, 30, 15, 5, 0, 30, 25, 15, 25, 45, 10, 40, 0, 10, 15, 55, 0, 40, 40, 35, 35, 5, 15, 15, 35, 15, 35, 40, 5, 30, 5, 20, 25, 15, 55, 5, 30, 10, 45, 35, 0, 25, 45, 0, 55, 50, 0, 35, 35, 30, 30, 0, 0, 20, 40, 45, 25, 50, 40, 25, 25, 5, 40, 0, 50, 25, 0, 30, 10, 55, 50, 25, 0, 35, 10, 10, 30, 25, 35, 0, 45, 15, 15, 30, 35, 0, 40, 35, 45, 10, 45, 40, 30, 25, 30, 15, 30, 15, 45, 30, 40, 0, 30, 25, 15, 55, 20, 20, 40, 45, 55, 35, 5, 5, 5, 25, 50, 20, 25, 20, 45, 5, 50, 25, 15, 55, 20, 15, 0, 15, 55, 0, 15, 0, 0, 30, 0, 30, 0, 55, 0, 40, 35, 0, 45, 0, 0, 25, 20, 50, 45, 20, 50, 50, 15, 45, 50, 30, 50, 50, 25, 40, 55, 10, 25, 35, 55, 45, 55, 30, 40, 10, 40, 15, 25, 0, 55, 5, 0, 10, 50, 35, 55, 40, 45, 10, 50, 25, 20, 0, 10, 40, 35, 45, 45, 25, 50, 35, 20, 45, 35, 15, 0, 25, 35, 30, 20, 25, 30, 30, 30, 50, 20, 15, 30, 5, 15, 15, 50, 25, 30, 55, 50, 40, 45, 25, 30, 20, 5, 25, 30, 10, 50, 25, 0, 0, 30, 35, 10, 30, 55, 40, 35, 5, 15, 15, 45, 0, 55, 25, 25, 45, 20, 55, 50, 20, 5, 30, 25, 50, 0, 50, 25, 50, 20, 30, 35, 20, 5, 55, 10, 15, 10, 35, 10, 30, 35, 5, 50, 5, 55, 20, 20, 0, 25, 45, 30, 50, 25, 10, 40, 10, 15, 35, 10, 25, 10, 50, 35, 25, 40, 5, 15, 50, 50, 0, 30, 50, 0, 35, 0, 15, 0, 0, 15, 0, 35, 30, 40, 20, 0, 10, 30, 0, 10, 5, 0, 55, 15, 55, 40, 30, 0, 10, 30, 0, 0, 45, 50, 50, 5, 25, 55, 15, 35, 20, 30, 0, 50, 45, 40, 0, 30, 15, 55, 25, 0, 5, 55, 20, 0, 0, 20, 15, 45, 25, 15, 55, 50, 20, 0, 45, 25, 55, 0, 30, 15, 30, 55, 45, 30, 5, 50, 35, 0, 50, 20, 50, 20, 30, 20, 30, 20, 15, 40, 30, 25, 20, 55, 40, 0, 15, 30, 30, 40, 55, 50, 55, 50, 35, 30, 40, 45, 30, 45, 55, 50, 15, 50, 20, 25, 25, 20, 40, 15, 15, 40, 55, 25, 0, 40, 0, 5, 20, 50, 0, 0, 35, 0, 35, 5, 35, 30, 5, 15, 40, 45, 45, 50, 35, 15, 30, 30, 20, 20, 25, 45, 55, 30, 0, 20, 40, 15, 35, 45, 45, 20, 30, 40, 35, 20, 10, 40, 0, 5, 55, 20, 35, 20, 0, 35, 10, 30, 35, 45, 10, 45, 5, 20, 0, 30, 0, 25, 55, 30, 45, 25, 35, 15, 55, 0, 10, 55, 30, 45, 50, 20, 35, 20, 50, 30, 50, 35, 20, 35, 10, 0, 30, 5, 15, 10, 25, 50, 0, 25, 5, 0, 20, 20, 10, 45, 0, 0, 30, 35, 45, 15, 10, 10, 35, 50, 30, 35, 0, 55, 0, 45, 5, 0, 5, 20, 30, 10, 5, 15, 50, 5, 30, 25, 30, 20, 35, 35, 40, 5, 5, 30, 30, 5, 55, 20, 15, 35, 20, 0, 45, 20, 55, 30, 20, 55, 35, 0, 50, 0, 25, 0, 20, 25, 25, 5, 30, 10, 55, 45, 55, 5, 15, 20, 5, 0, 50, 50, 10, 50, 0, 45, 30, 0, 35, 50, 55, 15, 15, 30, 15, 35, 5, 50, 55, 15, 30, 30, 0, 45, 45, 40, 25, 15, 50, 25, 0, 30, 40, 45, 25, 35, 10, 15, 10, 35, 25, 35, 20, 30, 30, 15, 0, 30, 5, 25, 15, 50, 0, 35, 35, 55, 45, 50, 45, 20, 30, 15, 0, 20, 30, 25, 20, 50, 35, 20, 20, 55, 50, 5, 30, 30, 10, 25, 35, 30, 50, 30, 10, 15, 30, 20, 25, 45, 20, 0, 55, 20, 25, 5, 35, 50, 30, 10, 45, 45, 50, 5, 25, 30, 45, 45, 30, 0, 50, 15, 55, 0, 10, 45, 35, 20, 20, 35, 0, 30, 25, 45, 55, 15, 40, 20, 5, 35, 50, 25, 0, 30, 50, 25, 20, 45, 50, 55, 30, 20, 25, 15, 15, 15, 45, 30, 25, 45, 50, 50, 30, 55, 20, 15, 55, 45, 35, 0, 35, 50, 30, 20, 20, 40, 40, 20, 15, 5, 15, 30, 15, 30, 45, 25, 20, 40, 45, 30, 5, 55, 30, 35, 50, 5, 0, 50, 45, 10, 0, 15, 10, 35, 25, 15, 35, 55, 50, 20, 30, 55, 55, 15, 35, 5, 5, 35, 35, 30, 25, 5, 40, 55, 20, 30, 50, 50, 0, 30, 50, 35, 20, 15, 40, 50, 35, 50, 20, 30, 55, 15, 35, 20, 25, 30, 50, 5, 45, 40, 20, 35, 55, 5, 55, 50, 35, 40, 20, 5, 30, 25, 0, 30, 45, 55, 50, 40, 5, 55, 50, 15, 20, 40, 55, 15, 15, 55, 40, 0, 35, 45, 0, 40, 20, 45, 45, 55, 15, 25, 5, 0, 5, 45, 45, 30, 30, 30, 15, 20, 35, 25, 45, 35, 15, 50, 50, 0, 0, 55, 45, 15, 15, 20, 35, 55, 5, 55, 50, 35, 50, 30, 35, 0, 50, 45, 15, 25, 30, 25, 45, 20, 0, 10, 10, 40, 50, 10, 20, 45, 0, 5, 30, 30, 30, 5, 25, 5, 0, 25, 30, 20, 0, 25, 10, 0, 30, 40, 0, 30, 50, 45, 40, 5, 5, 55, 50, 50, 35, 0, 55, 20, 20, 15, 20, 25, 45, 55, 10, 35, 50, 10, 55, 20, 0, 30, 5, 15, 25, 45, 40, 30, 40, 50, 20, 35, 15, 45, 0, 45, 55, 35, 25, 25, 25, 45, 55, 50, 55, 30, 15, 20, 40, 25, 10, 15, 30, 0, 45, 35, 30, 40, 50, 10, 10, 5, 30, 15, 55, 20, 0, 35, 45, 55, 15, 5, 0, 0, 10, 35, 15, 30, 20, 30, 25, 10, 25, 5, 35, 25, 55, 0, 20, 10, 30, 35, 0, 30, 25, 15, 30, 30, 10, 35, 30, 45, 15, 15, 30, 25, 0, 20, 15, 5, 50, 30, 15, 30, 55, 30, 0, 50, 30, 15, 25, 50, 0, 55, 20, 35, 45, 40, 20, 40, 0, 55, 35, 0, 45, 55, 25, 20, 25, 30, 20, 0, 15, 50, 35, 45, 40, 30, 20, 35, 50, 0, 35, 20, 30, 0, 20, 25, 0, 55, 5, 10, 40, 50, 30, 30, 50, 35, 25, 20, 35, 25, 45, 0, 50, 30, 45, 0, 55, 25, 5, 5, 15, 35, 35, 5, 30, 25, 35, 55, 20, 45, 55, 50, 45, 20, 15, 25, 55, 0, 45, 15, 55, 15, 35, 55, 45, 45, 0, 35, 50, 0, 45, 5, 35, 55, 20, 25, 35, 5, 5, 50, 20, 30, 0, 30, 10, 35, 0, 30, 55, 30, 55, 5, 50, 15, 15, 20, 55, 35, 0, 20, 55, 20, 25, 55, 5, 40, 25, 40, 35, 55, 5, 15, 40, 45, 45, 20, 30, 45, 25, 25, 45, 50, 25, 50, 55, 15, 30, 20, 55, 10, 50, 45, 25, 50, 40, 10, 45, 10, 15, 45, 25, 20, 15, 25, 50, 25, 10, 0, 40, 25, 15, 20, 0, 5, 50, 45, 10, 35, 30, 45, 30, 0, 30, 30, 30, 15, 55, 40, 0, 20, 20, 45, 45, 50, 55, 35, 5, 35, 20, 35, 20, 0, 45, 20, 15, 0, 0, 25, 35, 40, 25, 15, 30, 15, 10, 45, 30, 25, 40, 45, 35, 45, 45, 30, 35, 30, 30, 50, 35, 25, 30, 40, 50, 55, 30, 15, 15, 55, 55, 5, 50, 15, 20, 45, 20, 20, 55, 0, 40, 35, 25, 20, 30, 55, 15, 15, 25, 15, 40, 15, 45, 15, 55, 20, 35, 55, 45, 0, 5, 30, 30, 30, 35, 55, 45, 40, 10, 40, 40, 25, 50, 55, 25, 25, 10, 30, 20, 25, 20, 5, 15, 55, 55, 30, 35, 45, 35, 35, 10, 55, 20, 20, 55, 15, 30, 5, 45, 45, 55, 15, 55, 45, 30, 5, 0, 0, 35, 20, 50, 30, 25, 25, 30, 15, 20, 40, 25, 40, 35, 55, 40, 25, 40, 20, 55, 50, 55, 15, 10, 5, 55, 30, 45, 25, 20, 15, 25, 20, 55, 0, 45, 20, 40, 40, 30, 35, 0, 40, 20]\n"
          ],
          "name": "stdout"
        }
      ]
    },
    {
      "cell_type": "code",
      "metadata": {
        "id": "qyca-TALAJrp"
      },
      "source": [
        "train_data[\"Duration_hours\"] = duration_hours\n",
        "train_data[\"Duration_mins\"] = duration_mins\n",
        "\n",
        "train_data.drop([\"Duration\"], axis = 1, inplace = True)"
      ],
      "execution_count": null,
      "outputs": []
    },
    {
      "cell_type": "code",
      "metadata": {
        "id": "nSXTNTbtARrz",
        "outputId": "0ad634a2-adee-470d-8c94-cc0278da8ae0",
        "colab": {
          "base_uri": "https://localhost:8080/",
          "height": 380
        }
      },
      "source": [
        "train_data.head()"
      ],
      "execution_count": null,
      "outputs": [
        {
          "output_type": "execute_result",
          "data": {
            "text/html": [
              "<div>\n",
              "<style scoped>\n",
              "    .dataframe tbody tr th:only-of-type {\n",
              "        vertical-align: middle;\n",
              "    }\n",
              "\n",
              "    .dataframe tbody tr th {\n",
              "        vertical-align: top;\n",
              "    }\n",
              "\n",
              "    .dataframe thead th {\n",
              "        text-align: right;\n",
              "    }\n",
              "</style>\n",
              "<table border=\"1\" class=\"dataframe\">\n",
              "  <thead>\n",
              "    <tr style=\"text-align: right;\">\n",
              "      <th></th>\n",
              "      <th>Airline</th>\n",
              "      <th>Source</th>\n",
              "      <th>Destination</th>\n",
              "      <th>Route</th>\n",
              "      <th>Total_Stops</th>\n",
              "      <th>Additional_Info</th>\n",
              "      <th>Price</th>\n",
              "      <th>Journey_day</th>\n",
              "      <th>Journey_month</th>\n",
              "      <th>Dep_hour</th>\n",
              "      <th>Dep_min</th>\n",
              "      <th>Arrival_hour</th>\n",
              "      <th>Arrival_min</th>\n",
              "      <th>Duration_hours</th>\n",
              "      <th>Duration_mins</th>\n",
              "    </tr>\n",
              "  </thead>\n",
              "  <tbody>\n",
              "    <tr>\n",
              "      <th>0</th>\n",
              "      <td>IndiGo</td>\n",
              "      <td>Banglore</td>\n",
              "      <td>New Delhi</td>\n",
              "      <td>BLR → DEL</td>\n",
              "      <td>non-stop</td>\n",
              "      <td>No info</td>\n",
              "      <td>3897</td>\n",
              "      <td>24</td>\n",
              "      <td>3</td>\n",
              "      <td>22</td>\n",
              "      <td>20</td>\n",
              "      <td>1</td>\n",
              "      <td>10</td>\n",
              "      <td>2</td>\n",
              "      <td>50</td>\n",
              "    </tr>\n",
              "    <tr>\n",
              "      <th>1</th>\n",
              "      <td>Air India</td>\n",
              "      <td>Kolkata</td>\n",
              "      <td>Banglore</td>\n",
              "      <td>CCU → IXR → BBI → BLR</td>\n",
              "      <td>2 stops</td>\n",
              "      <td>No info</td>\n",
              "      <td>7662</td>\n",
              "      <td>1</td>\n",
              "      <td>5</td>\n",
              "      <td>5</td>\n",
              "      <td>50</td>\n",
              "      <td>13</td>\n",
              "      <td>15</td>\n",
              "      <td>7</td>\n",
              "      <td>25</td>\n",
              "    </tr>\n",
              "    <tr>\n",
              "      <th>2</th>\n",
              "      <td>Jet Airways</td>\n",
              "      <td>Delhi</td>\n",
              "      <td>Cochin</td>\n",
              "      <td>DEL → LKO → BOM → COK</td>\n",
              "      <td>2 stops</td>\n",
              "      <td>No info</td>\n",
              "      <td>13882</td>\n",
              "      <td>9</td>\n",
              "      <td>6</td>\n",
              "      <td>9</td>\n",
              "      <td>25</td>\n",
              "      <td>4</td>\n",
              "      <td>25</td>\n",
              "      <td>19</td>\n",
              "      <td>0</td>\n",
              "    </tr>\n",
              "    <tr>\n",
              "      <th>3</th>\n",
              "      <td>IndiGo</td>\n",
              "      <td>Kolkata</td>\n",
              "      <td>Banglore</td>\n",
              "      <td>CCU → NAG → BLR</td>\n",
              "      <td>1 stop</td>\n",
              "      <td>No info</td>\n",
              "      <td>6218</td>\n",
              "      <td>12</td>\n",
              "      <td>5</td>\n",
              "      <td>18</td>\n",
              "      <td>5</td>\n",
              "      <td>23</td>\n",
              "      <td>30</td>\n",
              "      <td>5</td>\n",
              "      <td>25</td>\n",
              "    </tr>\n",
              "    <tr>\n",
              "      <th>4</th>\n",
              "      <td>IndiGo</td>\n",
              "      <td>Banglore</td>\n",
              "      <td>New Delhi</td>\n",
              "      <td>BLR → NAG → DEL</td>\n",
              "      <td>1 stop</td>\n",
              "      <td>No info</td>\n",
              "      <td>13302</td>\n",
              "      <td>1</td>\n",
              "      <td>3</td>\n",
              "      <td>16</td>\n",
              "      <td>50</td>\n",
              "      <td>21</td>\n",
              "      <td>35</td>\n",
              "      <td>4</td>\n",
              "      <td>45</td>\n",
              "    </tr>\n",
              "  </tbody>\n",
              "</table>\n",
              "</div>"
            ],
            "text/plain": [
              "       Airline    Source  ... Duration_hours Duration_mins\n",
              "0       IndiGo  Banglore  ...              2            50\n",
              "1    Air India   Kolkata  ...              7            25\n",
              "2  Jet Airways     Delhi  ...             19             0\n",
              "3       IndiGo   Kolkata  ...              5            25\n",
              "4       IndiGo  Banglore  ...              4            45\n",
              "\n",
              "[5 rows x 15 columns]"
            ]
          },
          "metadata": {
            "tags": []
          },
          "execution_count": 31
        }
      ]
    },
    {
      "cell_type": "code",
      "metadata": {
        "id": "4gKWifCPAT9o",
        "outputId": "742de081-4e93-4238-eb19-fdd76ddba019",
        "colab": {
          "base_uri": "https://localhost:8080/"
        }
      },
      "source": [
        "train_data[\"Airline\"].value_counts()"
      ],
      "execution_count": null,
      "outputs": [
        {
          "output_type": "execute_result",
          "data": {
            "text/plain": [
              "Jet Airways                          3849\n",
              "IndiGo                               2053\n",
              "Air India                            1751\n",
              "Multiple carriers                    1196\n",
              "SpiceJet                              818\n",
              "Vistara                               479\n",
              "Air Asia                              319\n",
              "GoAir                                 194\n",
              "Multiple carriers Premium economy      13\n",
              "Jet Airways Business                    6\n",
              "Vistara Premium economy                 3\n",
              "Trujet                                  1\n",
              "Name: Airline, dtype: int64"
            ]
          },
          "metadata": {
            "tags": []
          },
          "execution_count": 30
        }
      ]
    },
    {
      "cell_type": "code",
      "metadata": {
        "id": "kdznPbuXAxTP",
        "outputId": "27f6f362-03d8-4f8f-cdf5-9839f83924b5",
        "colab": {
          "base_uri": "https://localhost:8080/"
        }
      },
      "source": [
        "train_data[\"Additional_Info\"].value_counts()"
      ],
      "execution_count": null,
      "outputs": [
        {
          "output_type": "execute_result",
          "data": {
            "text/plain": [
              "No info                         8344\n",
              "In-flight meal not included     1982\n",
              "No check-in baggage included     320\n",
              "1 Long layover                    19\n",
              "Change airports                    7\n",
              "Business class                     4\n",
              "No Info                            3\n",
              "Red-eye flight                     1\n",
              "2 Long layover                     1\n",
              "1 Short layover                    1\n",
              "Name: Additional_Info, dtype: int64"
            ]
          },
          "metadata": {
            "tags": []
          },
          "execution_count": 32
        }
      ]
    },
    {
      "cell_type": "code",
      "metadata": {
        "id": "k_x_llO1A4gU",
        "outputId": "a7193b86-6e7f-460d-e002-f55d6aca2ff3",
        "colab": {
          "base_uri": "https://localhost:8080/"
        }
      },
      "source": [
        "train_data[\"Route\"].value_counts()"
      ],
      "execution_count": null,
      "outputs": [
        {
          "output_type": "execute_result",
          "data": {
            "text/plain": [
              "DEL → BOM → COK                      2376\n",
              "BLR → DEL                            1552\n",
              "CCU → BOM → BLR                       979\n",
              "CCU → BLR                             724\n",
              "BOM → HYD                             621\n",
              "                                     ... \n",
              "CCU → IXA → BLR                         1\n",
              "BLR → BOM → IXC → DEL                   1\n",
              "BLR → CCU → BBI → HYD → VGA → DEL       1\n",
              "BOM → DED → DEL → HYD                   1\n",
              "BOM → CCU → HYD                         1\n",
              "Name: Route, Length: 128, dtype: int64"
            ]
          },
          "metadata": {
            "tags": []
          },
          "execution_count": 33
        }
      ]
    },
    {
      "cell_type": "code",
      "metadata": {
        "id": "06-YsEh3A9x_"
      },
      "source": [
        "train_data.drop([\"Route\", \"Additional_Info\"], axis = 1, inplace = True)"
      ],
      "execution_count": null,
      "outputs": []
    },
    {
      "cell_type": "code",
      "metadata": {
        "id": "K7qGgWfvBACv",
        "outputId": "eef1c37a-26a7-4693-f316-4487fd7be56f",
        "colab": {
          "base_uri": "https://localhost:8080/",
          "height": 195
        }
      },
      "source": [
        "train_data.head()"
      ],
      "execution_count": null,
      "outputs": [
        {
          "output_type": "execute_result",
          "data": {
            "text/html": [
              "<div>\n",
              "<style scoped>\n",
              "    .dataframe tbody tr th:only-of-type {\n",
              "        vertical-align: middle;\n",
              "    }\n",
              "\n",
              "    .dataframe tbody tr th {\n",
              "        vertical-align: top;\n",
              "    }\n",
              "\n",
              "    .dataframe thead th {\n",
              "        text-align: right;\n",
              "    }\n",
              "</style>\n",
              "<table border=\"1\" class=\"dataframe\">\n",
              "  <thead>\n",
              "    <tr style=\"text-align: right;\">\n",
              "      <th></th>\n",
              "      <th>Airline</th>\n",
              "      <th>Source</th>\n",
              "      <th>Destination</th>\n",
              "      <th>Total_Stops</th>\n",
              "      <th>Price</th>\n",
              "      <th>Journey_day</th>\n",
              "      <th>Journey_month</th>\n",
              "      <th>Dep_hour</th>\n",
              "      <th>Dep_min</th>\n",
              "      <th>Arrival_hour</th>\n",
              "      <th>Arrival_min</th>\n",
              "      <th>Duration_hours</th>\n",
              "      <th>Duration_mins</th>\n",
              "    </tr>\n",
              "  </thead>\n",
              "  <tbody>\n",
              "    <tr>\n",
              "      <th>0</th>\n",
              "      <td>IndiGo</td>\n",
              "      <td>Banglore</td>\n",
              "      <td>New Delhi</td>\n",
              "      <td>non-stop</td>\n",
              "      <td>3897</td>\n",
              "      <td>24</td>\n",
              "      <td>3</td>\n",
              "      <td>22</td>\n",
              "      <td>20</td>\n",
              "      <td>1</td>\n",
              "      <td>10</td>\n",
              "      <td>2</td>\n",
              "      <td>50</td>\n",
              "    </tr>\n",
              "    <tr>\n",
              "      <th>1</th>\n",
              "      <td>Air India</td>\n",
              "      <td>Kolkata</td>\n",
              "      <td>Banglore</td>\n",
              "      <td>2 stops</td>\n",
              "      <td>7662</td>\n",
              "      <td>1</td>\n",
              "      <td>5</td>\n",
              "      <td>5</td>\n",
              "      <td>50</td>\n",
              "      <td>13</td>\n",
              "      <td>15</td>\n",
              "      <td>7</td>\n",
              "      <td>25</td>\n",
              "    </tr>\n",
              "    <tr>\n",
              "      <th>2</th>\n",
              "      <td>Jet Airways</td>\n",
              "      <td>Delhi</td>\n",
              "      <td>Cochin</td>\n",
              "      <td>2 stops</td>\n",
              "      <td>13882</td>\n",
              "      <td>9</td>\n",
              "      <td>6</td>\n",
              "      <td>9</td>\n",
              "      <td>25</td>\n",
              "      <td>4</td>\n",
              "      <td>25</td>\n",
              "      <td>19</td>\n",
              "      <td>0</td>\n",
              "    </tr>\n",
              "    <tr>\n",
              "      <th>3</th>\n",
              "      <td>IndiGo</td>\n",
              "      <td>Kolkata</td>\n",
              "      <td>Banglore</td>\n",
              "      <td>1 stop</td>\n",
              "      <td>6218</td>\n",
              "      <td>12</td>\n",
              "      <td>5</td>\n",
              "      <td>18</td>\n",
              "      <td>5</td>\n",
              "      <td>23</td>\n",
              "      <td>30</td>\n",
              "      <td>5</td>\n",
              "      <td>25</td>\n",
              "    </tr>\n",
              "    <tr>\n",
              "      <th>4</th>\n",
              "      <td>IndiGo</td>\n",
              "      <td>Banglore</td>\n",
              "      <td>New Delhi</td>\n",
              "      <td>1 stop</td>\n",
              "      <td>13302</td>\n",
              "      <td>1</td>\n",
              "      <td>3</td>\n",
              "      <td>16</td>\n",
              "      <td>50</td>\n",
              "      <td>21</td>\n",
              "      <td>35</td>\n",
              "      <td>4</td>\n",
              "      <td>45</td>\n",
              "    </tr>\n",
              "  </tbody>\n",
              "</table>\n",
              "</div>"
            ],
            "text/plain": [
              "       Airline    Source  ... Duration_hours Duration_mins\n",
              "0       IndiGo  Banglore  ...              2            50\n",
              "1    Air India   Kolkata  ...              7            25\n",
              "2  Jet Airways     Delhi  ...             19             0\n",
              "3       IndiGo   Kolkata  ...              5            25\n",
              "4       IndiGo  Banglore  ...              4            45\n",
              "\n",
              "[5 rows x 13 columns]"
            ]
          },
          "metadata": {
            "tags": []
          },
          "execution_count": 35
        }
      ]
    },
    {
      "cell_type": "code",
      "metadata": {
        "id": "0W8LoOT1BCUa",
        "outputId": "7ce62764-f72a-4ee4-cae6-f903ff2f29e1",
        "colab": {
          "base_uri": "https://localhost:8080/",
          "height": 249
        }
      },
      "source": [
        "#airline one hot encoding \n",
        "\n",
        "from sklearn.preprocessing import OneHotEncoder\n",
        "Airline = train_data[[\"Airline\"]]\n",
        "\n",
        "Airline = pd.get_dummies(Airline)\n",
        "Airline.head()"
      ],
      "execution_count": null,
      "outputs": [
        {
          "output_type": "execute_result",
          "data": {
            "text/html": [
              "<div>\n",
              "<style scoped>\n",
              "    .dataframe tbody tr th:only-of-type {\n",
              "        vertical-align: middle;\n",
              "    }\n",
              "\n",
              "    .dataframe tbody tr th {\n",
              "        vertical-align: top;\n",
              "    }\n",
              "\n",
              "    .dataframe thead th {\n",
              "        text-align: right;\n",
              "    }\n",
              "</style>\n",
              "<table border=\"1\" class=\"dataframe\">\n",
              "  <thead>\n",
              "    <tr style=\"text-align: right;\">\n",
              "      <th></th>\n",
              "      <th>Airline_Air Asia</th>\n",
              "      <th>Airline_Air India</th>\n",
              "      <th>Airline_GoAir</th>\n",
              "      <th>Airline_IndiGo</th>\n",
              "      <th>Airline_Jet Airways</th>\n",
              "      <th>Airline_Jet Airways Business</th>\n",
              "      <th>Airline_Multiple carriers</th>\n",
              "      <th>Airline_Multiple carriers Premium economy</th>\n",
              "      <th>Airline_SpiceJet</th>\n",
              "      <th>Airline_Trujet</th>\n",
              "      <th>Airline_Vistara</th>\n",
              "      <th>Airline_Vistara Premium economy</th>\n",
              "    </tr>\n",
              "  </thead>\n",
              "  <tbody>\n",
              "    <tr>\n",
              "      <th>0</th>\n",
              "      <td>0</td>\n",
              "      <td>0</td>\n",
              "      <td>0</td>\n",
              "      <td>1</td>\n",
              "      <td>0</td>\n",
              "      <td>0</td>\n",
              "      <td>0</td>\n",
              "      <td>0</td>\n",
              "      <td>0</td>\n",
              "      <td>0</td>\n",
              "      <td>0</td>\n",
              "      <td>0</td>\n",
              "    </tr>\n",
              "    <tr>\n",
              "      <th>1</th>\n",
              "      <td>0</td>\n",
              "      <td>1</td>\n",
              "      <td>0</td>\n",
              "      <td>0</td>\n",
              "      <td>0</td>\n",
              "      <td>0</td>\n",
              "      <td>0</td>\n",
              "      <td>0</td>\n",
              "      <td>0</td>\n",
              "      <td>0</td>\n",
              "      <td>0</td>\n",
              "      <td>0</td>\n",
              "    </tr>\n",
              "    <tr>\n",
              "      <th>2</th>\n",
              "      <td>0</td>\n",
              "      <td>0</td>\n",
              "      <td>0</td>\n",
              "      <td>0</td>\n",
              "      <td>1</td>\n",
              "      <td>0</td>\n",
              "      <td>0</td>\n",
              "      <td>0</td>\n",
              "      <td>0</td>\n",
              "      <td>0</td>\n",
              "      <td>0</td>\n",
              "      <td>0</td>\n",
              "    </tr>\n",
              "    <tr>\n",
              "      <th>3</th>\n",
              "      <td>0</td>\n",
              "      <td>0</td>\n",
              "      <td>0</td>\n",
              "      <td>1</td>\n",
              "      <td>0</td>\n",
              "      <td>0</td>\n",
              "      <td>0</td>\n",
              "      <td>0</td>\n",
              "      <td>0</td>\n",
              "      <td>0</td>\n",
              "      <td>0</td>\n",
              "      <td>0</td>\n",
              "    </tr>\n",
              "    <tr>\n",
              "      <th>4</th>\n",
              "      <td>0</td>\n",
              "      <td>0</td>\n",
              "      <td>0</td>\n",
              "      <td>1</td>\n",
              "      <td>0</td>\n",
              "      <td>0</td>\n",
              "      <td>0</td>\n",
              "      <td>0</td>\n",
              "      <td>0</td>\n",
              "      <td>0</td>\n",
              "      <td>0</td>\n",
              "      <td>0</td>\n",
              "    </tr>\n",
              "  </tbody>\n",
              "</table>\n",
              "</div>"
            ],
            "text/plain": [
              "   Airline_Air Asia  ...  Airline_Vistara Premium economy\n",
              "0                 0  ...                                0\n",
              "1                 0  ...                                0\n",
              "2                 0  ...                                0\n",
              "3                 0  ...                                0\n",
              "4                 0  ...                                0\n",
              "\n",
              "[5 rows x 12 columns]"
            ]
          },
          "metadata": {
            "tags": []
          },
          "execution_count": 39
        }
      ]
    },
    {
      "cell_type": "code",
      "metadata": {
        "id": "GbTxTjtoBNlN",
        "outputId": "c0677a7e-4bee-4e42-d3bd-364a3bfc7626",
        "colab": {
          "base_uri": "https://localhost:8080/"
        }
      },
      "source": [
        "train_data[\"Source\"].value_counts()"
      ],
      "execution_count": null,
      "outputs": [
        {
          "output_type": "execute_result",
          "data": {
            "text/plain": [
              "Delhi       4536\n",
              "Kolkata     2871\n",
              "Banglore    2197\n",
              "Mumbai       697\n",
              "Chennai      381\n",
              "Name: Source, dtype: int64"
            ]
          },
          "metadata": {
            "tags": []
          },
          "execution_count": 37
        }
      ]
    },
    {
      "cell_type": "code",
      "metadata": {
        "id": "A4ig76uHBPr1",
        "outputId": "6fa24c21-0d48-487f-a5ac-154bc2a0f229",
        "colab": {
          "base_uri": "https://localhost:8080/",
          "height": 195
        }
      },
      "source": [
        "Source = train_data[[\"Source\"]]\n",
        "\n",
        "Source = pd.get_dummies(Source)\n",
        "\n",
        "Source.head()"
      ],
      "execution_count": null,
      "outputs": [
        {
          "output_type": "execute_result",
          "data": {
            "text/html": [
              "<div>\n",
              "<style scoped>\n",
              "    .dataframe tbody tr th:only-of-type {\n",
              "        vertical-align: middle;\n",
              "    }\n",
              "\n",
              "    .dataframe tbody tr th {\n",
              "        vertical-align: top;\n",
              "    }\n",
              "\n",
              "    .dataframe thead th {\n",
              "        text-align: right;\n",
              "    }\n",
              "</style>\n",
              "<table border=\"1\" class=\"dataframe\">\n",
              "  <thead>\n",
              "    <tr style=\"text-align: right;\">\n",
              "      <th></th>\n",
              "      <th>Source_Banglore</th>\n",
              "      <th>Source_Chennai</th>\n",
              "      <th>Source_Delhi</th>\n",
              "      <th>Source_Kolkata</th>\n",
              "      <th>Source_Mumbai</th>\n",
              "    </tr>\n",
              "  </thead>\n",
              "  <tbody>\n",
              "    <tr>\n",
              "      <th>0</th>\n",
              "      <td>1</td>\n",
              "      <td>0</td>\n",
              "      <td>0</td>\n",
              "      <td>0</td>\n",
              "      <td>0</td>\n",
              "    </tr>\n",
              "    <tr>\n",
              "      <th>1</th>\n",
              "      <td>0</td>\n",
              "      <td>0</td>\n",
              "      <td>0</td>\n",
              "      <td>1</td>\n",
              "      <td>0</td>\n",
              "    </tr>\n",
              "    <tr>\n",
              "      <th>2</th>\n",
              "      <td>0</td>\n",
              "      <td>0</td>\n",
              "      <td>1</td>\n",
              "      <td>0</td>\n",
              "      <td>0</td>\n",
              "    </tr>\n",
              "    <tr>\n",
              "      <th>3</th>\n",
              "      <td>0</td>\n",
              "      <td>0</td>\n",
              "      <td>0</td>\n",
              "      <td>1</td>\n",
              "      <td>0</td>\n",
              "    </tr>\n",
              "    <tr>\n",
              "      <th>4</th>\n",
              "      <td>1</td>\n",
              "      <td>0</td>\n",
              "      <td>0</td>\n",
              "      <td>0</td>\n",
              "      <td>0</td>\n",
              "    </tr>\n",
              "  </tbody>\n",
              "</table>\n",
              "</div>"
            ],
            "text/plain": [
              "   Source_Banglore  Source_Chennai  Source_Delhi  Source_Kolkata  Source_Mumbai\n",
              "0                1               0             0               0              0\n",
              "1                0               0             0               1              0\n",
              "2                0               0             1               0              0\n",
              "3                0               0             0               1              0\n",
              "4                1               0             0               0              0"
            ]
          },
          "metadata": {
            "tags": []
          },
          "execution_count": 40
        }
      ]
    },
    {
      "cell_type": "code",
      "metadata": {
        "id": "CdsxExuLBebg",
        "outputId": "ccc43fb9-78a8-4b33-e215-096647c439bb",
        "colab": {
          "base_uri": "https://localhost:8080/",
          "height": 195
        }
      },
      "source": [
        "from sklearn.preprocessing import OneHotEncoder\n",
        "Destination = train_data[[\"Destination\"]]\n",
        "\n",
        "Destination = pd.get_dummies(Destination)\n",
        "\n",
        "Destination.head()"
      ],
      "execution_count": null,
      "outputs": [
        {
          "output_type": "execute_result",
          "data": {
            "text/html": [
              "<div>\n",
              "<style scoped>\n",
              "    .dataframe tbody tr th:only-of-type {\n",
              "        vertical-align: middle;\n",
              "    }\n",
              "\n",
              "    .dataframe tbody tr th {\n",
              "        vertical-align: top;\n",
              "    }\n",
              "\n",
              "    .dataframe thead th {\n",
              "        text-align: right;\n",
              "    }\n",
              "</style>\n",
              "<table border=\"1\" class=\"dataframe\">\n",
              "  <thead>\n",
              "    <tr style=\"text-align: right;\">\n",
              "      <th></th>\n",
              "      <th>Destination_Banglore</th>\n",
              "      <th>Destination_Cochin</th>\n",
              "      <th>Destination_Delhi</th>\n",
              "      <th>Destination_Hyderabad</th>\n",
              "      <th>Destination_Kolkata</th>\n",
              "      <th>Destination_New Delhi</th>\n",
              "    </tr>\n",
              "  </thead>\n",
              "  <tbody>\n",
              "    <tr>\n",
              "      <th>0</th>\n",
              "      <td>0</td>\n",
              "      <td>0</td>\n",
              "      <td>0</td>\n",
              "      <td>0</td>\n",
              "      <td>0</td>\n",
              "      <td>1</td>\n",
              "    </tr>\n",
              "    <tr>\n",
              "      <th>1</th>\n",
              "      <td>1</td>\n",
              "      <td>0</td>\n",
              "      <td>0</td>\n",
              "      <td>0</td>\n",
              "      <td>0</td>\n",
              "      <td>0</td>\n",
              "    </tr>\n",
              "    <tr>\n",
              "      <th>2</th>\n",
              "      <td>0</td>\n",
              "      <td>1</td>\n",
              "      <td>0</td>\n",
              "      <td>0</td>\n",
              "      <td>0</td>\n",
              "      <td>0</td>\n",
              "    </tr>\n",
              "    <tr>\n",
              "      <th>3</th>\n",
              "      <td>1</td>\n",
              "      <td>0</td>\n",
              "      <td>0</td>\n",
              "      <td>0</td>\n",
              "      <td>0</td>\n",
              "      <td>0</td>\n",
              "    </tr>\n",
              "    <tr>\n",
              "      <th>4</th>\n",
              "      <td>0</td>\n",
              "      <td>0</td>\n",
              "      <td>0</td>\n",
              "      <td>0</td>\n",
              "      <td>0</td>\n",
              "      <td>1</td>\n",
              "    </tr>\n",
              "  </tbody>\n",
              "</table>\n",
              "</div>"
            ],
            "text/plain": [
              "   Destination_Banglore  ...  Destination_New Delhi\n",
              "0                     0  ...                      1\n",
              "1                     1  ...                      0\n",
              "2                     0  ...                      0\n",
              "3                     1  ...                      0\n",
              "4                     0  ...                      1\n",
              "\n",
              "[5 rows x 6 columns]"
            ]
          },
          "metadata": {
            "tags": []
          },
          "execution_count": 41
        }
      ]
    },
    {
      "cell_type": "code",
      "metadata": {
        "id": "X6_QD-dpBmbI",
        "outputId": "dfa31632-8c9a-4704-ff9e-1d70c4848a35",
        "colab": {
          "base_uri": "https://localhost:8080/"
        }
      },
      "source": [
        "train_data[\"Total_Stops\"].value_counts()"
      ],
      "execution_count": null,
      "outputs": [
        {
          "output_type": "execute_result",
          "data": {
            "text/plain": [
              "1 stop      5625\n",
              "non-stop    3491\n",
              "2 stops     1520\n",
              "3 stops       45\n",
              "4 stops        1\n",
              "Name: Total_Stops, dtype: int64"
            ]
          },
          "metadata": {
            "tags": []
          },
          "execution_count": 42
        }
      ]
    },
    {
      "cell_type": "code",
      "metadata": {
        "id": "0izuSXpaBnSa"
      },
      "source": [
        "#total stops label encoding\n",
        "\n",
        "from sklearn.preprocessing import LabelEncoder\n",
        "le=LabelEncoder()\n",
        "train_data[\"Total_Stops\"]=le.fit_transform(train_data[\"Total_Stops\"])"
      ],
      "execution_count": null,
      "outputs": []
    },
    {
      "cell_type": "code",
      "metadata": {
        "id": "jeF5H7QeCtNd",
        "outputId": "296cba5b-96f6-451f-9240-efbae060017a",
        "colab": {
          "base_uri": "https://localhost:8080/",
          "height": 195
        }
      },
      "source": [
        "train_data.head()"
      ],
      "execution_count": null,
      "outputs": [
        {
          "output_type": "execute_result",
          "data": {
            "text/html": [
              "<div>\n",
              "<style scoped>\n",
              "    .dataframe tbody tr th:only-of-type {\n",
              "        vertical-align: middle;\n",
              "    }\n",
              "\n",
              "    .dataframe tbody tr th {\n",
              "        vertical-align: top;\n",
              "    }\n",
              "\n",
              "    .dataframe thead th {\n",
              "        text-align: right;\n",
              "    }\n",
              "</style>\n",
              "<table border=\"1\" class=\"dataframe\">\n",
              "  <thead>\n",
              "    <tr style=\"text-align: right;\">\n",
              "      <th></th>\n",
              "      <th>Airline</th>\n",
              "      <th>Source</th>\n",
              "      <th>Destination</th>\n",
              "      <th>Total_Stops</th>\n",
              "      <th>Price</th>\n",
              "      <th>Journey_day</th>\n",
              "      <th>Journey_month</th>\n",
              "      <th>Dep_hour</th>\n",
              "      <th>Dep_min</th>\n",
              "      <th>Arrival_hour</th>\n",
              "      <th>Arrival_min</th>\n",
              "      <th>Duration_hours</th>\n",
              "      <th>Duration_mins</th>\n",
              "    </tr>\n",
              "  </thead>\n",
              "  <tbody>\n",
              "    <tr>\n",
              "      <th>0</th>\n",
              "      <td>IndiGo</td>\n",
              "      <td>Banglore</td>\n",
              "      <td>New Delhi</td>\n",
              "      <td>4</td>\n",
              "      <td>3897</td>\n",
              "      <td>24</td>\n",
              "      <td>3</td>\n",
              "      <td>22</td>\n",
              "      <td>20</td>\n",
              "      <td>1</td>\n",
              "      <td>10</td>\n",
              "      <td>2</td>\n",
              "      <td>50</td>\n",
              "    </tr>\n",
              "    <tr>\n",
              "      <th>1</th>\n",
              "      <td>Air India</td>\n",
              "      <td>Kolkata</td>\n",
              "      <td>Banglore</td>\n",
              "      <td>1</td>\n",
              "      <td>7662</td>\n",
              "      <td>1</td>\n",
              "      <td>5</td>\n",
              "      <td>5</td>\n",
              "      <td>50</td>\n",
              "      <td>13</td>\n",
              "      <td>15</td>\n",
              "      <td>7</td>\n",
              "      <td>25</td>\n",
              "    </tr>\n",
              "    <tr>\n",
              "      <th>2</th>\n",
              "      <td>Jet Airways</td>\n",
              "      <td>Delhi</td>\n",
              "      <td>Cochin</td>\n",
              "      <td>1</td>\n",
              "      <td>13882</td>\n",
              "      <td>9</td>\n",
              "      <td>6</td>\n",
              "      <td>9</td>\n",
              "      <td>25</td>\n",
              "      <td>4</td>\n",
              "      <td>25</td>\n",
              "      <td>19</td>\n",
              "      <td>0</td>\n",
              "    </tr>\n",
              "    <tr>\n",
              "      <th>3</th>\n",
              "      <td>IndiGo</td>\n",
              "      <td>Kolkata</td>\n",
              "      <td>Banglore</td>\n",
              "      <td>0</td>\n",
              "      <td>6218</td>\n",
              "      <td>12</td>\n",
              "      <td>5</td>\n",
              "      <td>18</td>\n",
              "      <td>5</td>\n",
              "      <td>23</td>\n",
              "      <td>30</td>\n",
              "      <td>5</td>\n",
              "      <td>25</td>\n",
              "    </tr>\n",
              "    <tr>\n",
              "      <th>4</th>\n",
              "      <td>IndiGo</td>\n",
              "      <td>Banglore</td>\n",
              "      <td>New Delhi</td>\n",
              "      <td>0</td>\n",
              "      <td>13302</td>\n",
              "      <td>1</td>\n",
              "      <td>3</td>\n",
              "      <td>16</td>\n",
              "      <td>50</td>\n",
              "      <td>21</td>\n",
              "      <td>35</td>\n",
              "      <td>4</td>\n",
              "      <td>45</td>\n",
              "    </tr>\n",
              "  </tbody>\n",
              "</table>\n",
              "</div>"
            ],
            "text/plain": [
              "       Airline    Source  ... Duration_hours  Duration_mins\n",
              "0       IndiGo  Banglore  ...              2             50\n",
              "1    Air India   Kolkata  ...              7             25\n",
              "2  Jet Airways     Delhi  ...             19              0\n",
              "3       IndiGo   Kolkata  ...              5             25\n",
              "4       IndiGo  Banglore  ...              4             45\n",
              "\n",
              "[5 rows x 13 columns]"
            ]
          },
          "metadata": {
            "tags": []
          },
          "execution_count": 47
        }
      ]
    },
    {
      "cell_type": "code",
      "metadata": {
        "id": "cmJF95H7CxN4"
      },
      "source": [
        "#Concatenate data frame\n",
        "data_train = pd.concat([train_data, Airline, Source, Destination], axis = 1)"
      ],
      "execution_count": null,
      "outputs": []
    },
    {
      "cell_type": "code",
      "metadata": {
        "id": "G4s1IzM4C6-K",
        "outputId": "c7fdecb5-d6ef-4ef5-b8ac-106f25c220ee",
        "colab": {
          "base_uri": "https://localhost:8080/",
          "height": 266
        }
      },
      "source": [
        "data_train.head()"
      ],
      "execution_count": null,
      "outputs": [
        {
          "output_type": "execute_result",
          "data": {
            "text/html": [
              "<div>\n",
              "<style scoped>\n",
              "    .dataframe tbody tr th:only-of-type {\n",
              "        vertical-align: middle;\n",
              "    }\n",
              "\n",
              "    .dataframe tbody tr th {\n",
              "        vertical-align: top;\n",
              "    }\n",
              "\n",
              "    .dataframe thead th {\n",
              "        text-align: right;\n",
              "    }\n",
              "</style>\n",
              "<table border=\"1\" class=\"dataframe\">\n",
              "  <thead>\n",
              "    <tr style=\"text-align: right;\">\n",
              "      <th></th>\n",
              "      <th>Airline</th>\n",
              "      <th>Source</th>\n",
              "      <th>Destination</th>\n",
              "      <th>Total_Stops</th>\n",
              "      <th>Price</th>\n",
              "      <th>Journey_day</th>\n",
              "      <th>Journey_month</th>\n",
              "      <th>Dep_hour</th>\n",
              "      <th>Dep_min</th>\n",
              "      <th>Arrival_hour</th>\n",
              "      <th>Arrival_min</th>\n",
              "      <th>Duration_hours</th>\n",
              "      <th>Duration_mins</th>\n",
              "      <th>Airline_Air Asia</th>\n",
              "      <th>Airline_Air India</th>\n",
              "      <th>Airline_GoAir</th>\n",
              "      <th>Airline_IndiGo</th>\n",
              "      <th>Airline_Jet Airways</th>\n",
              "      <th>Airline_Jet Airways Business</th>\n",
              "      <th>Airline_Multiple carriers</th>\n",
              "      <th>Airline_Multiple carriers Premium economy</th>\n",
              "      <th>Airline_SpiceJet</th>\n",
              "      <th>Airline_Trujet</th>\n",
              "      <th>Airline_Vistara</th>\n",
              "      <th>Airline_Vistara Premium economy</th>\n",
              "      <th>Source_Banglore</th>\n",
              "      <th>Source_Chennai</th>\n",
              "      <th>Source_Delhi</th>\n",
              "      <th>Source_Kolkata</th>\n",
              "      <th>Source_Mumbai</th>\n",
              "      <th>Destination_Banglore</th>\n",
              "      <th>Destination_Cochin</th>\n",
              "      <th>Destination_Delhi</th>\n",
              "      <th>Destination_Hyderabad</th>\n",
              "      <th>Destination_Kolkata</th>\n",
              "      <th>Destination_New Delhi</th>\n",
              "    </tr>\n",
              "  </thead>\n",
              "  <tbody>\n",
              "    <tr>\n",
              "      <th>0</th>\n",
              "      <td>IndiGo</td>\n",
              "      <td>Banglore</td>\n",
              "      <td>New Delhi</td>\n",
              "      <td>4</td>\n",
              "      <td>3897</td>\n",
              "      <td>24</td>\n",
              "      <td>3</td>\n",
              "      <td>22</td>\n",
              "      <td>20</td>\n",
              "      <td>1</td>\n",
              "      <td>10</td>\n",
              "      <td>2</td>\n",
              "      <td>50</td>\n",
              "      <td>0</td>\n",
              "      <td>0</td>\n",
              "      <td>0</td>\n",
              "      <td>1</td>\n",
              "      <td>0</td>\n",
              "      <td>0</td>\n",
              "      <td>0</td>\n",
              "      <td>0</td>\n",
              "      <td>0</td>\n",
              "      <td>0</td>\n",
              "      <td>0</td>\n",
              "      <td>0</td>\n",
              "      <td>1</td>\n",
              "      <td>0</td>\n",
              "      <td>0</td>\n",
              "      <td>0</td>\n",
              "      <td>0</td>\n",
              "      <td>0</td>\n",
              "      <td>0</td>\n",
              "      <td>0</td>\n",
              "      <td>0</td>\n",
              "      <td>0</td>\n",
              "      <td>1</td>\n",
              "    </tr>\n",
              "    <tr>\n",
              "      <th>1</th>\n",
              "      <td>Air India</td>\n",
              "      <td>Kolkata</td>\n",
              "      <td>Banglore</td>\n",
              "      <td>1</td>\n",
              "      <td>7662</td>\n",
              "      <td>1</td>\n",
              "      <td>5</td>\n",
              "      <td>5</td>\n",
              "      <td>50</td>\n",
              "      <td>13</td>\n",
              "      <td>15</td>\n",
              "      <td>7</td>\n",
              "      <td>25</td>\n",
              "      <td>0</td>\n",
              "      <td>1</td>\n",
              "      <td>0</td>\n",
              "      <td>0</td>\n",
              "      <td>0</td>\n",
              "      <td>0</td>\n",
              "      <td>0</td>\n",
              "      <td>0</td>\n",
              "      <td>0</td>\n",
              "      <td>0</td>\n",
              "      <td>0</td>\n",
              "      <td>0</td>\n",
              "      <td>0</td>\n",
              "      <td>0</td>\n",
              "      <td>0</td>\n",
              "      <td>1</td>\n",
              "      <td>0</td>\n",
              "      <td>1</td>\n",
              "      <td>0</td>\n",
              "      <td>0</td>\n",
              "      <td>0</td>\n",
              "      <td>0</td>\n",
              "      <td>0</td>\n",
              "    </tr>\n",
              "    <tr>\n",
              "      <th>2</th>\n",
              "      <td>Jet Airways</td>\n",
              "      <td>Delhi</td>\n",
              "      <td>Cochin</td>\n",
              "      <td>1</td>\n",
              "      <td>13882</td>\n",
              "      <td>9</td>\n",
              "      <td>6</td>\n",
              "      <td>9</td>\n",
              "      <td>25</td>\n",
              "      <td>4</td>\n",
              "      <td>25</td>\n",
              "      <td>19</td>\n",
              "      <td>0</td>\n",
              "      <td>0</td>\n",
              "      <td>0</td>\n",
              "      <td>0</td>\n",
              "      <td>0</td>\n",
              "      <td>1</td>\n",
              "      <td>0</td>\n",
              "      <td>0</td>\n",
              "      <td>0</td>\n",
              "      <td>0</td>\n",
              "      <td>0</td>\n",
              "      <td>0</td>\n",
              "      <td>0</td>\n",
              "      <td>0</td>\n",
              "      <td>0</td>\n",
              "      <td>1</td>\n",
              "      <td>0</td>\n",
              "      <td>0</td>\n",
              "      <td>0</td>\n",
              "      <td>1</td>\n",
              "      <td>0</td>\n",
              "      <td>0</td>\n",
              "      <td>0</td>\n",
              "      <td>0</td>\n",
              "    </tr>\n",
              "    <tr>\n",
              "      <th>3</th>\n",
              "      <td>IndiGo</td>\n",
              "      <td>Kolkata</td>\n",
              "      <td>Banglore</td>\n",
              "      <td>0</td>\n",
              "      <td>6218</td>\n",
              "      <td>12</td>\n",
              "      <td>5</td>\n",
              "      <td>18</td>\n",
              "      <td>5</td>\n",
              "      <td>23</td>\n",
              "      <td>30</td>\n",
              "      <td>5</td>\n",
              "      <td>25</td>\n",
              "      <td>0</td>\n",
              "      <td>0</td>\n",
              "      <td>0</td>\n",
              "      <td>1</td>\n",
              "      <td>0</td>\n",
              "      <td>0</td>\n",
              "      <td>0</td>\n",
              "      <td>0</td>\n",
              "      <td>0</td>\n",
              "      <td>0</td>\n",
              "      <td>0</td>\n",
              "      <td>0</td>\n",
              "      <td>0</td>\n",
              "      <td>0</td>\n",
              "      <td>0</td>\n",
              "      <td>1</td>\n",
              "      <td>0</td>\n",
              "      <td>1</td>\n",
              "      <td>0</td>\n",
              "      <td>0</td>\n",
              "      <td>0</td>\n",
              "      <td>0</td>\n",
              "      <td>0</td>\n",
              "    </tr>\n",
              "    <tr>\n",
              "      <th>4</th>\n",
              "      <td>IndiGo</td>\n",
              "      <td>Banglore</td>\n",
              "      <td>New Delhi</td>\n",
              "      <td>0</td>\n",
              "      <td>13302</td>\n",
              "      <td>1</td>\n",
              "      <td>3</td>\n",
              "      <td>16</td>\n",
              "      <td>50</td>\n",
              "      <td>21</td>\n",
              "      <td>35</td>\n",
              "      <td>4</td>\n",
              "      <td>45</td>\n",
              "      <td>0</td>\n",
              "      <td>0</td>\n",
              "      <td>0</td>\n",
              "      <td>1</td>\n",
              "      <td>0</td>\n",
              "      <td>0</td>\n",
              "      <td>0</td>\n",
              "      <td>0</td>\n",
              "      <td>0</td>\n",
              "      <td>0</td>\n",
              "      <td>0</td>\n",
              "      <td>0</td>\n",
              "      <td>1</td>\n",
              "      <td>0</td>\n",
              "      <td>0</td>\n",
              "      <td>0</td>\n",
              "      <td>0</td>\n",
              "      <td>0</td>\n",
              "      <td>0</td>\n",
              "      <td>0</td>\n",
              "      <td>0</td>\n",
              "      <td>0</td>\n",
              "      <td>1</td>\n",
              "    </tr>\n",
              "  </tbody>\n",
              "</table>\n",
              "</div>"
            ],
            "text/plain": [
              "       Airline    Source  ... Destination_Kolkata  Destination_New Delhi\n",
              "0       IndiGo  Banglore  ...                   0                      1\n",
              "1    Air India   Kolkata  ...                   0                      0\n",
              "2  Jet Airways     Delhi  ...                   0                      0\n",
              "3       IndiGo   Kolkata  ...                   0                      0\n",
              "4       IndiGo  Banglore  ...                   0                      1\n",
              "\n",
              "[5 rows x 36 columns]"
            ]
          },
          "metadata": {
            "tags": []
          },
          "execution_count": 49
        }
      ]
    },
    {
      "cell_type": "code",
      "metadata": {
        "id": "7a_vhU51C_Qj"
      },
      "source": [
        "data_train.drop([\"Airline\", \"Source\", \"Destination\"], axis = 1, inplace = True)"
      ],
      "execution_count": null,
      "outputs": []
    },
    {
      "cell_type": "code",
      "metadata": {
        "id": "Cs3zGSBSDFAD",
        "outputId": "8a3751d4-eb84-4a2b-c61b-b334b2601acb",
        "colab": {
          "base_uri": "https://localhost:8080/",
          "height": 249
        }
      },
      "source": [
        "data_train.head()"
      ],
      "execution_count": null,
      "outputs": [
        {
          "output_type": "execute_result",
          "data": {
            "text/html": [
              "<div>\n",
              "<style scoped>\n",
              "    .dataframe tbody tr th:only-of-type {\n",
              "        vertical-align: middle;\n",
              "    }\n",
              "\n",
              "    .dataframe tbody tr th {\n",
              "        vertical-align: top;\n",
              "    }\n",
              "\n",
              "    .dataframe thead th {\n",
              "        text-align: right;\n",
              "    }\n",
              "</style>\n",
              "<table border=\"1\" class=\"dataframe\">\n",
              "  <thead>\n",
              "    <tr style=\"text-align: right;\">\n",
              "      <th></th>\n",
              "      <th>Total_Stops</th>\n",
              "      <th>Price</th>\n",
              "      <th>Journey_day</th>\n",
              "      <th>Journey_month</th>\n",
              "      <th>Dep_hour</th>\n",
              "      <th>Dep_min</th>\n",
              "      <th>Arrival_hour</th>\n",
              "      <th>Arrival_min</th>\n",
              "      <th>Duration_hours</th>\n",
              "      <th>Duration_mins</th>\n",
              "      <th>Airline_Air Asia</th>\n",
              "      <th>Airline_Air India</th>\n",
              "      <th>Airline_GoAir</th>\n",
              "      <th>Airline_IndiGo</th>\n",
              "      <th>Airline_Jet Airways</th>\n",
              "      <th>Airline_Jet Airways Business</th>\n",
              "      <th>Airline_Multiple carriers</th>\n",
              "      <th>Airline_Multiple carriers Premium economy</th>\n",
              "      <th>Airline_SpiceJet</th>\n",
              "      <th>Airline_Trujet</th>\n",
              "      <th>Airline_Vistara</th>\n",
              "      <th>Airline_Vistara Premium economy</th>\n",
              "      <th>Source_Banglore</th>\n",
              "      <th>Source_Chennai</th>\n",
              "      <th>Source_Delhi</th>\n",
              "      <th>Source_Kolkata</th>\n",
              "      <th>Source_Mumbai</th>\n",
              "      <th>Destination_Banglore</th>\n",
              "      <th>Destination_Cochin</th>\n",
              "      <th>Destination_Delhi</th>\n",
              "      <th>Destination_Hyderabad</th>\n",
              "      <th>Destination_Kolkata</th>\n",
              "      <th>Destination_New Delhi</th>\n",
              "    </tr>\n",
              "  </thead>\n",
              "  <tbody>\n",
              "    <tr>\n",
              "      <th>0</th>\n",
              "      <td>4</td>\n",
              "      <td>3897</td>\n",
              "      <td>24</td>\n",
              "      <td>3</td>\n",
              "      <td>22</td>\n",
              "      <td>20</td>\n",
              "      <td>1</td>\n",
              "      <td>10</td>\n",
              "      <td>2</td>\n",
              "      <td>50</td>\n",
              "      <td>0</td>\n",
              "      <td>0</td>\n",
              "      <td>0</td>\n",
              "      <td>1</td>\n",
              "      <td>0</td>\n",
              "      <td>0</td>\n",
              "      <td>0</td>\n",
              "      <td>0</td>\n",
              "      <td>0</td>\n",
              "      <td>0</td>\n",
              "      <td>0</td>\n",
              "      <td>0</td>\n",
              "      <td>1</td>\n",
              "      <td>0</td>\n",
              "      <td>0</td>\n",
              "      <td>0</td>\n",
              "      <td>0</td>\n",
              "      <td>0</td>\n",
              "      <td>0</td>\n",
              "      <td>0</td>\n",
              "      <td>0</td>\n",
              "      <td>0</td>\n",
              "      <td>1</td>\n",
              "    </tr>\n",
              "    <tr>\n",
              "      <th>1</th>\n",
              "      <td>1</td>\n",
              "      <td>7662</td>\n",
              "      <td>1</td>\n",
              "      <td>5</td>\n",
              "      <td>5</td>\n",
              "      <td>50</td>\n",
              "      <td>13</td>\n",
              "      <td>15</td>\n",
              "      <td>7</td>\n",
              "      <td>25</td>\n",
              "      <td>0</td>\n",
              "      <td>1</td>\n",
              "      <td>0</td>\n",
              "      <td>0</td>\n",
              "      <td>0</td>\n",
              "      <td>0</td>\n",
              "      <td>0</td>\n",
              "      <td>0</td>\n",
              "      <td>0</td>\n",
              "      <td>0</td>\n",
              "      <td>0</td>\n",
              "      <td>0</td>\n",
              "      <td>0</td>\n",
              "      <td>0</td>\n",
              "      <td>0</td>\n",
              "      <td>1</td>\n",
              "      <td>0</td>\n",
              "      <td>1</td>\n",
              "      <td>0</td>\n",
              "      <td>0</td>\n",
              "      <td>0</td>\n",
              "      <td>0</td>\n",
              "      <td>0</td>\n",
              "    </tr>\n",
              "    <tr>\n",
              "      <th>2</th>\n",
              "      <td>1</td>\n",
              "      <td>13882</td>\n",
              "      <td>9</td>\n",
              "      <td>6</td>\n",
              "      <td>9</td>\n",
              "      <td>25</td>\n",
              "      <td>4</td>\n",
              "      <td>25</td>\n",
              "      <td>19</td>\n",
              "      <td>0</td>\n",
              "      <td>0</td>\n",
              "      <td>0</td>\n",
              "      <td>0</td>\n",
              "      <td>0</td>\n",
              "      <td>1</td>\n",
              "      <td>0</td>\n",
              "      <td>0</td>\n",
              "      <td>0</td>\n",
              "      <td>0</td>\n",
              "      <td>0</td>\n",
              "      <td>0</td>\n",
              "      <td>0</td>\n",
              "      <td>0</td>\n",
              "      <td>0</td>\n",
              "      <td>1</td>\n",
              "      <td>0</td>\n",
              "      <td>0</td>\n",
              "      <td>0</td>\n",
              "      <td>1</td>\n",
              "      <td>0</td>\n",
              "      <td>0</td>\n",
              "      <td>0</td>\n",
              "      <td>0</td>\n",
              "    </tr>\n",
              "    <tr>\n",
              "      <th>3</th>\n",
              "      <td>0</td>\n",
              "      <td>6218</td>\n",
              "      <td>12</td>\n",
              "      <td>5</td>\n",
              "      <td>18</td>\n",
              "      <td>5</td>\n",
              "      <td>23</td>\n",
              "      <td>30</td>\n",
              "      <td>5</td>\n",
              "      <td>25</td>\n",
              "      <td>0</td>\n",
              "      <td>0</td>\n",
              "      <td>0</td>\n",
              "      <td>1</td>\n",
              "      <td>0</td>\n",
              "      <td>0</td>\n",
              "      <td>0</td>\n",
              "      <td>0</td>\n",
              "      <td>0</td>\n",
              "      <td>0</td>\n",
              "      <td>0</td>\n",
              "      <td>0</td>\n",
              "      <td>0</td>\n",
              "      <td>0</td>\n",
              "      <td>0</td>\n",
              "      <td>1</td>\n",
              "      <td>0</td>\n",
              "      <td>1</td>\n",
              "      <td>0</td>\n",
              "      <td>0</td>\n",
              "      <td>0</td>\n",
              "      <td>0</td>\n",
              "      <td>0</td>\n",
              "    </tr>\n",
              "    <tr>\n",
              "      <th>4</th>\n",
              "      <td>0</td>\n",
              "      <td>13302</td>\n",
              "      <td>1</td>\n",
              "      <td>3</td>\n",
              "      <td>16</td>\n",
              "      <td>50</td>\n",
              "      <td>21</td>\n",
              "      <td>35</td>\n",
              "      <td>4</td>\n",
              "      <td>45</td>\n",
              "      <td>0</td>\n",
              "      <td>0</td>\n",
              "      <td>0</td>\n",
              "      <td>1</td>\n",
              "      <td>0</td>\n",
              "      <td>0</td>\n",
              "      <td>0</td>\n",
              "      <td>0</td>\n",
              "      <td>0</td>\n",
              "      <td>0</td>\n",
              "      <td>0</td>\n",
              "      <td>0</td>\n",
              "      <td>1</td>\n",
              "      <td>0</td>\n",
              "      <td>0</td>\n",
              "      <td>0</td>\n",
              "      <td>0</td>\n",
              "      <td>0</td>\n",
              "      <td>0</td>\n",
              "      <td>0</td>\n",
              "      <td>0</td>\n",
              "      <td>0</td>\n",
              "      <td>1</td>\n",
              "    </tr>\n",
              "  </tbody>\n",
              "</table>\n",
              "</div>"
            ],
            "text/plain": [
              "   Total_Stops  Price  ...  Destination_Kolkata  Destination_New Delhi\n",
              "0            4   3897  ...                    0                      1\n",
              "1            1   7662  ...                    0                      0\n",
              "2            1  13882  ...                    0                      0\n",
              "3            0   6218  ...                    0                      0\n",
              "4            0  13302  ...                    0                      1\n",
              "\n",
              "[5 rows x 33 columns]"
            ]
          },
          "metadata": {
            "tags": []
          },
          "execution_count": 51
        }
      ]
    },
    {
      "cell_type": "code",
      "metadata": {
        "id": "cOeITW8HDHed",
        "outputId": "5185662d-c0ab-4331-f05c-7d32ff0b9408",
        "colab": {
          "base_uri": "https://localhost:8080/"
        }
      },
      "source": [
        "data_train.shape"
      ],
      "execution_count": null,
      "outputs": [
        {
          "output_type": "execute_result",
          "data": {
            "text/plain": [
              "(10682, 33)"
            ]
          },
          "metadata": {
            "tags": []
          },
          "execution_count": 52
        }
      ]
    },
    {
      "cell_type": "code",
      "metadata": {
        "id": "fG985e6hEFb2",
        "outputId": "50f539b5-7605-419e-f04c-6cf389f9d8e3",
        "colab": {
          "base_uri": "https://localhost:8080/"
        }
      },
      "source": [
        "data_train.columns"
      ],
      "execution_count": null,
      "outputs": [
        {
          "output_type": "execute_result",
          "data": {
            "text/plain": [
              "Index(['Total_Stops', 'Price', 'Journey_day', 'Journey_month', 'Dep_hour',\n",
              "       'Dep_min', 'Arrival_hour', 'Arrival_min', 'Duration_hours',\n",
              "       'Duration_mins', 'Airline_Air Asia', 'Airline_Air India',\n",
              "       'Airline_GoAir', 'Airline_IndiGo', 'Airline_Jet Airways',\n",
              "       'Airline_Jet Airways Business', 'Airline_Multiple carriers',\n",
              "       'Airline_Multiple carriers Premium economy', 'Airline_SpiceJet',\n",
              "       'Airline_Trujet', 'Airline_Vistara', 'Airline_Vistara Premium economy',\n",
              "       'Source_Banglore', 'Source_Chennai', 'Source_Delhi', 'Source_Kolkata',\n",
              "       'Source_Mumbai', 'Destination_Banglore', 'Destination_Cochin',\n",
              "       'Destination_Delhi', 'Destination_Hyderabad', 'Destination_Kolkata',\n",
              "       'Destination_New Delhi'],\n",
              "      dtype='object')"
            ]
          },
          "metadata": {
            "tags": []
          },
          "execution_count": 58
        }
      ]
    },
    {
      "cell_type": "code",
      "metadata": {
        "id": "KfHkqXvxEHJ3",
        "outputId": "e8da5019-974a-40e8-da33-26782e9fb97e",
        "colab": {
          "base_uri": "https://localhost:8080/",
          "height": 249
        }
      },
      "source": [
        "X=data_train[['Total_Stops', 'Journey_day', 'Journey_month', 'Dep_hour',\n",
        "       'Dep_min', 'Arrival_hour', 'Arrival_min', 'Duration_hours',\n",
        "       'Duration_mins', 'Airline_Air India', 'Airline_GoAir', 'Airline_IndiGo',\n",
        "       'Airline_Jet Airways', 'Airline_Jet Airways Business',\n",
        "       'Airline_Multiple carriers',\n",
        "       'Airline_Multiple carriers Premium economy', 'Airline_SpiceJet',\n",
        "       'Airline_Trujet', 'Airline_Vistara', 'Airline_Vistara Premium economy',\n",
        "       'Source_Chennai', 'Source_Delhi', 'Source_Kolkata', 'Source_Mumbai',\n",
        "       'Destination_Cochin', 'Destination_Delhi', 'Destination_Hyderabad',\n",
        "       'Destination_Kolkata', 'Destination_New Delhi']]\n",
        "X.head()"
      ],
      "execution_count": null,
      "outputs": [
        {
          "output_type": "execute_result",
          "data": {
            "text/html": [
              "<div>\n",
              "<style scoped>\n",
              "    .dataframe tbody tr th:only-of-type {\n",
              "        vertical-align: middle;\n",
              "    }\n",
              "\n",
              "    .dataframe tbody tr th {\n",
              "        vertical-align: top;\n",
              "    }\n",
              "\n",
              "    .dataframe thead th {\n",
              "        text-align: right;\n",
              "    }\n",
              "</style>\n",
              "<table border=\"1\" class=\"dataframe\">\n",
              "  <thead>\n",
              "    <tr style=\"text-align: right;\">\n",
              "      <th></th>\n",
              "      <th>Total_Stops</th>\n",
              "      <th>Journey_day</th>\n",
              "      <th>Journey_month</th>\n",
              "      <th>Dep_hour</th>\n",
              "      <th>Dep_min</th>\n",
              "      <th>Arrival_hour</th>\n",
              "      <th>Arrival_min</th>\n",
              "      <th>Duration_hours</th>\n",
              "      <th>Duration_mins</th>\n",
              "      <th>Airline_Air India</th>\n",
              "      <th>Airline_GoAir</th>\n",
              "      <th>Airline_IndiGo</th>\n",
              "      <th>Airline_Jet Airways</th>\n",
              "      <th>Airline_Jet Airways Business</th>\n",
              "      <th>Airline_Multiple carriers</th>\n",
              "      <th>Airline_Multiple carriers Premium economy</th>\n",
              "      <th>Airline_SpiceJet</th>\n",
              "      <th>Airline_Trujet</th>\n",
              "      <th>Airline_Vistara</th>\n",
              "      <th>Airline_Vistara Premium economy</th>\n",
              "      <th>Source_Chennai</th>\n",
              "      <th>Source_Delhi</th>\n",
              "      <th>Source_Kolkata</th>\n",
              "      <th>Source_Mumbai</th>\n",
              "      <th>Destination_Cochin</th>\n",
              "      <th>Destination_Delhi</th>\n",
              "      <th>Destination_Hyderabad</th>\n",
              "      <th>Destination_Kolkata</th>\n",
              "      <th>Destination_New Delhi</th>\n",
              "    </tr>\n",
              "  </thead>\n",
              "  <tbody>\n",
              "    <tr>\n",
              "      <th>0</th>\n",
              "      <td>4</td>\n",
              "      <td>24</td>\n",
              "      <td>3</td>\n",
              "      <td>22</td>\n",
              "      <td>20</td>\n",
              "      <td>1</td>\n",
              "      <td>10</td>\n",
              "      <td>2</td>\n",
              "      <td>50</td>\n",
              "      <td>0</td>\n",
              "      <td>0</td>\n",
              "      <td>1</td>\n",
              "      <td>0</td>\n",
              "      <td>0</td>\n",
              "      <td>0</td>\n",
              "      <td>0</td>\n",
              "      <td>0</td>\n",
              "      <td>0</td>\n",
              "      <td>0</td>\n",
              "      <td>0</td>\n",
              "      <td>0</td>\n",
              "      <td>0</td>\n",
              "      <td>0</td>\n",
              "      <td>0</td>\n",
              "      <td>0</td>\n",
              "      <td>0</td>\n",
              "      <td>0</td>\n",
              "      <td>0</td>\n",
              "      <td>1</td>\n",
              "    </tr>\n",
              "    <tr>\n",
              "      <th>1</th>\n",
              "      <td>1</td>\n",
              "      <td>1</td>\n",
              "      <td>5</td>\n",
              "      <td>5</td>\n",
              "      <td>50</td>\n",
              "      <td>13</td>\n",
              "      <td>15</td>\n",
              "      <td>7</td>\n",
              "      <td>25</td>\n",
              "      <td>1</td>\n",
              "      <td>0</td>\n",
              "      <td>0</td>\n",
              "      <td>0</td>\n",
              "      <td>0</td>\n",
              "      <td>0</td>\n",
              "      <td>0</td>\n",
              "      <td>0</td>\n",
              "      <td>0</td>\n",
              "      <td>0</td>\n",
              "      <td>0</td>\n",
              "      <td>0</td>\n",
              "      <td>0</td>\n",
              "      <td>1</td>\n",
              "      <td>0</td>\n",
              "      <td>0</td>\n",
              "      <td>0</td>\n",
              "      <td>0</td>\n",
              "      <td>0</td>\n",
              "      <td>0</td>\n",
              "    </tr>\n",
              "    <tr>\n",
              "      <th>2</th>\n",
              "      <td>1</td>\n",
              "      <td>9</td>\n",
              "      <td>6</td>\n",
              "      <td>9</td>\n",
              "      <td>25</td>\n",
              "      <td>4</td>\n",
              "      <td>25</td>\n",
              "      <td>19</td>\n",
              "      <td>0</td>\n",
              "      <td>0</td>\n",
              "      <td>0</td>\n",
              "      <td>0</td>\n",
              "      <td>1</td>\n",
              "      <td>0</td>\n",
              "      <td>0</td>\n",
              "      <td>0</td>\n",
              "      <td>0</td>\n",
              "      <td>0</td>\n",
              "      <td>0</td>\n",
              "      <td>0</td>\n",
              "      <td>0</td>\n",
              "      <td>1</td>\n",
              "      <td>0</td>\n",
              "      <td>0</td>\n",
              "      <td>1</td>\n",
              "      <td>0</td>\n",
              "      <td>0</td>\n",
              "      <td>0</td>\n",
              "      <td>0</td>\n",
              "    </tr>\n",
              "    <tr>\n",
              "      <th>3</th>\n",
              "      <td>0</td>\n",
              "      <td>12</td>\n",
              "      <td>5</td>\n",
              "      <td>18</td>\n",
              "      <td>5</td>\n",
              "      <td>23</td>\n",
              "      <td>30</td>\n",
              "      <td>5</td>\n",
              "      <td>25</td>\n",
              "      <td>0</td>\n",
              "      <td>0</td>\n",
              "      <td>1</td>\n",
              "      <td>0</td>\n",
              "      <td>0</td>\n",
              "      <td>0</td>\n",
              "      <td>0</td>\n",
              "      <td>0</td>\n",
              "      <td>0</td>\n",
              "      <td>0</td>\n",
              "      <td>0</td>\n",
              "      <td>0</td>\n",
              "      <td>0</td>\n",
              "      <td>1</td>\n",
              "      <td>0</td>\n",
              "      <td>0</td>\n",
              "      <td>0</td>\n",
              "      <td>0</td>\n",
              "      <td>0</td>\n",
              "      <td>0</td>\n",
              "    </tr>\n",
              "    <tr>\n",
              "      <th>4</th>\n",
              "      <td>0</td>\n",
              "      <td>1</td>\n",
              "      <td>3</td>\n",
              "      <td>16</td>\n",
              "      <td>50</td>\n",
              "      <td>21</td>\n",
              "      <td>35</td>\n",
              "      <td>4</td>\n",
              "      <td>45</td>\n",
              "      <td>0</td>\n",
              "      <td>0</td>\n",
              "      <td>1</td>\n",
              "      <td>0</td>\n",
              "      <td>0</td>\n",
              "      <td>0</td>\n",
              "      <td>0</td>\n",
              "      <td>0</td>\n",
              "      <td>0</td>\n",
              "      <td>0</td>\n",
              "      <td>0</td>\n",
              "      <td>0</td>\n",
              "      <td>0</td>\n",
              "      <td>0</td>\n",
              "      <td>0</td>\n",
              "      <td>0</td>\n",
              "      <td>0</td>\n",
              "      <td>0</td>\n",
              "      <td>0</td>\n",
              "      <td>1</td>\n",
              "    </tr>\n",
              "  </tbody>\n",
              "</table>\n",
              "</div>"
            ],
            "text/plain": [
              "   Total_Stops  Journey_day  ...  Destination_Kolkata  Destination_New Delhi\n",
              "0            4           24  ...                    0                      1\n",
              "1            1            1  ...                    0                      0\n",
              "2            1            9  ...                    0                      0\n",
              "3            0           12  ...                    0                      0\n",
              "4            0            1  ...                    0                      1\n",
              "\n",
              "[5 rows x 29 columns]"
            ]
          },
          "metadata": {
            "tags": []
          },
          "execution_count": 60
        }
      ]
    },
    {
      "cell_type": "code",
      "metadata": {
        "id": "f8q-ccJ3Ed3J",
        "outputId": "cbfe1aaf-418c-4aa1-f6b3-d3f1edc67ab3",
        "colab": {
          "base_uri": "https://localhost:8080/"
        }
      },
      "source": [
        "y=data_train['Price']\n",
        "y.head()"
      ],
      "execution_count": null,
      "outputs": [
        {
          "output_type": "execute_result",
          "data": {
            "text/plain": [
              "0     3897\n",
              "1     7662\n",
              "2    13882\n",
              "3     6218\n",
              "4    13302\n",
              "Name: Price, dtype: int64"
            ]
          },
          "metadata": {
            "tags": []
          },
          "execution_count": 61
        }
      ]
    },
    {
      "cell_type": "code",
      "metadata": {
        "id": "R0-HPsY0EuMf",
        "outputId": "80c52622-a55f-4698-9f24-bc0ea04bc73a",
        "colab": {
          "base_uri": "https://localhost:8080/",
          "height": 1000
        }
      },
      "source": [
        "#heatmap \n",
        "plt.figure(figsize = (18,18))\n",
        "sns.heatmap(train_data.corr(), annot = True, cmap = \"RdYlGn\")\n",
        "\n",
        "plt.show()"
      ],
      "execution_count": null,
      "outputs": [
        {
          "output_type": "display_data",
          "data": {
            "image/png": "[encoded data removed]",
            "text/plain": [
              "<Figure size 1296x1296 with 2 Axes>"
            ]
          },
          "metadata": {
            "tags": [],
            "needs_background": "light"
          }
        }
      ]
    },
    {
      "cell_type": "code",
      "metadata": {
        "id": "R8WjLlI4Ez3q"
      },
      "source": [
        "#splitting into train and test data \n",
        "\n",
        "from sklearn.model_selection import train_test_split\n",
        "X_train, X_test, y_train, y_test = train_test_split(X, y, test_size = 0.2, random_state = 42)"
      ],
      "execution_count": null,
      "outputs": []
    },
    {
      "cell_type": "code",
      "metadata": {
        "id": "jj5MXDlFFg5D",
        "outputId": "ccf55916-cbd7-4d54-b9d6-91955e43b48c",
        "colab": {
          "base_uri": "https://localhost:8080/"
        }
      },
      "source": [
        "X_train.shape"
      ],
      "execution_count": null,
      "outputs": [
        {
          "output_type": "execute_result",
          "data": {
            "text/plain": [
              "(8545, 29)"
            ]
          },
          "metadata": {
            "tags": []
          },
          "execution_count": 64
        }
      ]
    },
    {
      "cell_type": "code",
      "metadata": {
        "id": "RJiGGCFqFiUp",
        "outputId": "11d62890-3e48-4a8f-f03a-bf1e7a3895bd",
        "colab": {
          "base_uri": "https://localhost:8080/"
        }
      },
      "source": [
        "X_test.shape"
      ],
      "execution_count": null,
      "outputs": [
        {
          "output_type": "execute_result",
          "data": {
            "text/plain": [
              "(2137, 29)"
            ]
          },
          "metadata": {
            "tags": []
          },
          "execution_count": 65
        }
      ]
    },
    {
      "cell_type": "code",
      "metadata": {
        "id": "plRbsd_eFTk2",
        "outputId": "512c1476-0615-4b73-9634-86623543d5a2",
        "colab": {
          "base_uri": "https://localhost:8080/"
        }
      },
      "source": [
        "#RandomForest\n",
        "\n",
        "from sklearn.ensemble import RandomForestRegressor\n",
        "reg_rf = RandomForestRegressor()\n",
        "reg_rf.fit(X_train, y_train)\n",
        "\n",
        "y_pred = reg_rf.predict(X_test)\n",
        "\n",
        "from sklearn import metrics\n",
        "\n",
        "print('MAE:', metrics.mean_absolute_error(y_test, y_pred))\n",
        "print('MSE:', metrics.mean_squared_error(y_test, y_pred))\n",
        "print('RMSE:', np.sqrt(metrics.mean_squared_error(y_test, y_pred)))\n",
        "print('R2 score:',metrics.r2_score(y_test, y_pred))"
      ],
      "execution_count": null,
      "outputs": [
        {
          "output_type": "stream",
          "text": [
            "MAE: 1179.6084027857962\n",
            "MSE: 4398696.694843687\n",
            "RMSE: 2097.307010154614\n",
            "R2 score: 0.795998274528453\n"
          ],
          "name": "stdout"
        }
      ]
    },
    {
      "cell_type": "code",
      "metadata": {
        "id": "c98jEqdaGJGU"
      },
      "source": [
        "#Hyperparameter tuning\n",
        "\n",
        "#Randomised Search CV\n",
        "from sklearn.model_selection import RandomizedSearchCV"
      ],
      "execution_count": null,
      "outputs": []
    },
    {
      "cell_type": "code",
      "metadata": {
        "id": "FBcd9IAJHq1S"
      },
      "source": [
        "# Number of trees in random forest\n",
        "n_estimators = [int(x) for x in np.linspace(start = 100, stop = 1200, num = 12)]\n",
        "# Number of features to consider at every split\n",
        "max_features = ['auto', 'sqrt']\n",
        "# Maximum number of levels in tree\n",
        "max_depth = [int(x) for x in np.linspace(5, 30, num = 6)]\n",
        "# Minimum number of samples required to split a node\n",
        "min_samples_split = [2, 5, 10, 15, 100]\n",
        "# Minimum number of samples required at each leaf node\n",
        "min_samples_leaf = [1, 2, 5, 10]"
      ],
      "execution_count": null,
      "outputs": []
    },
    {
      "cell_type": "code",
      "metadata": {
        "id": "Oa-ohINZPiNM"
      },
      "source": [
        "# Create the random grid\n",
        "\n",
        "random_grid = {'n_estimators': n_estimators,\n",
        "               'max_features': max_features,\n",
        "               'max_depth': max_depth,\n",
        "               'min_samples_split': min_samples_split,\n",
        "               'min_samples_leaf': min_samples_leaf}"
      ],
      "execution_count": null,
      "outputs": []
    },
    {
      "cell_type": "code",
      "metadata": {
        "id": "2F8wq1uZPmy_"
      },
      "source": [
        "# Random search of parameters, using 5 fold cross validation, \n",
        "# search across 100 different combinations\n",
        "rf_random = RandomizedSearchCV(estimator = reg_rf, param_distributions = random_grid,scoring='neg_mean_squared_error', n_iter = 10, cv = 5, verbose=2, random_state=42, n_jobs = 1)"
      ],
      "execution_count": null,
      "outputs": []
    },
    {
      "cell_type": "code",
      "metadata": {
        "id": "EhZuMZm4PwS1",
        "outputId": "c6f324c2-46f7-41a3-d844-92d0c2305496",
        "colab": {
          "base_uri": "https://localhost:8080/"
        }
      },
      "source": [
        "rf_random.fit(X_train,y_train)"
      ],
      "execution_count": null,
      "outputs": [
        {
          "output_type": "stream",
          "text": [
            "Fitting 5 folds for each of 10 candidates, totalling 50 fits\n",
            "[CV] n_estimators=900, min_samples_split=5, min_samples_leaf=5, max_features=sqrt, max_depth=10 \n"
          ],
          "name": "stdout"
        },
        {
          "output_type": "stream",
          "text": [
            "[Parallel(n_jobs=1)]: Using backend SequentialBackend with 1 concurrent workers.\n"
          ],
          "name": "stderr"
        },
        {
          "output_type": "stream",
          "text": [
            "[CV]  n_estimators=900, min_samples_split=5, min_samples_leaf=5, max_features=sqrt, max_depth=10, total=   4.1s\n",
            "[CV] n_estimators=900, min_samples_split=5, min_samples_leaf=5, max_features=sqrt, max_depth=10 \n"
          ],
          "name": "stdout"
        },
        {
          "output_type": "stream",
          "text": [
            "[Parallel(n_jobs=1)]: Done   1 out of   1 | elapsed:    4.1s remaining:    0.0s\n"
          ],
          "name": "stderr"
        },
        {
          "output_type": "stream",
          "text": [
            "[CV]  n_estimators=900, min_samples_split=5, min_samples_leaf=5, max_features=sqrt, max_depth=10, total=   4.0s\n",
            "[CV] n_estimators=900, min_samples_split=5, min_samples_leaf=5, max_features=sqrt, max_depth=10 \n",
            "[CV]  n_estimators=900, min_samples_split=5, min_samples_leaf=5, max_features=sqrt, max_depth=10, total=   4.1s\n",
            "[CV] n_estimators=900, min_samples_split=5, min_samples_leaf=5, max_features=sqrt, max_depth=10 \n",
            "[CV]  n_estimators=900, min_samples_split=5, min_samples_leaf=5, max_features=sqrt, max_depth=10, total=   4.0s\n",
            "[CV] n_estimators=900, min_samples_split=5, min_samples_leaf=5, max_features=sqrt, max_depth=10 \n",
            "[CV]  n_estimators=900, min_samples_split=5, min_samples_leaf=5, max_features=sqrt, max_depth=10, total=   4.0s\n",
            "[CV] n_estimators=1100, min_samples_split=10, min_samples_leaf=2, max_features=sqrt, max_depth=15 \n",
            "[CV]  n_estimators=1100, min_samples_split=10, min_samples_leaf=2, max_features=sqrt, max_depth=15, total=   6.2s\n",
            "[CV] n_estimators=1100, min_samples_split=10, min_samples_leaf=2, max_features=sqrt, max_depth=15 \n",
            "[CV]  n_estimators=1100, min_samples_split=10, min_samples_leaf=2, max_features=sqrt, max_depth=15, total=   6.3s\n",
            "[CV] n_estimators=1100, min_samples_split=10, min_samples_leaf=2, max_features=sqrt, max_depth=15 \n",
            "[CV]  n_estimators=1100, min_samples_split=10, min_samples_leaf=2, max_features=sqrt, max_depth=15, total=   6.1s\n",
            "[CV] n_estimators=1100, min_samples_split=10, min_samples_leaf=2, max_features=sqrt, max_depth=15 \n",
            "[CV]  n_estimators=1100, min_samples_split=10, min_samples_leaf=2, max_features=sqrt, max_depth=15, total=   6.1s\n",
            "[CV] n_estimators=1100, min_samples_split=10, min_samples_leaf=2, max_features=sqrt, max_depth=15 \n",
            "[CV]  n_estimators=1100, min_samples_split=10, min_samples_leaf=2, max_features=sqrt, max_depth=15, total=   6.1s\n",
            "[CV] n_estimators=300, min_samples_split=100, min_samples_leaf=5, max_features=auto, max_depth=15 \n",
            "[CV]  n_estimators=300, min_samples_split=100, min_samples_leaf=5, max_features=auto, max_depth=15, total=   3.9s\n",
            "[CV] n_estimators=300, min_samples_split=100, min_samples_leaf=5, max_features=auto, max_depth=15 \n",
            "[CV]  n_estimators=300, min_samples_split=100, min_samples_leaf=5, max_features=auto, max_depth=15, total=   3.9s\n",
            "[CV] n_estimators=300, min_samples_split=100, min_samples_leaf=5, max_features=auto, max_depth=15 \n",
            "[CV]  n_estimators=300, min_samples_split=100, min_samples_leaf=5, max_features=auto, max_depth=15, total=   3.8s\n",
            "[CV] n_estimators=300, min_samples_split=100, min_samples_leaf=5, max_features=auto, max_depth=15 \n",
            "[CV]  n_estimators=300, min_samples_split=100, min_samples_leaf=5, max_features=auto, max_depth=15, total=   3.8s\n",
            "[CV] n_estimators=300, min_samples_split=100, min_samples_leaf=5, max_features=auto, max_depth=15 \n",
            "[CV]  n_estimators=300, min_samples_split=100, min_samples_leaf=5, max_features=auto, max_depth=15, total=   4.0s\n",
            "[CV] n_estimators=400, min_samples_split=5, min_samples_leaf=5, max_features=auto, max_depth=15 \n",
            "[CV]  n_estimators=400, min_samples_split=5, min_samples_leaf=5, max_features=auto, max_depth=15, total=   7.1s\n",
            "[CV] n_estimators=400, min_samples_split=5, min_samples_leaf=5, max_features=auto, max_depth=15 \n",
            "[CV]  n_estimators=400, min_samples_split=5, min_samples_leaf=5, max_features=auto, max_depth=15, total=   7.1s\n",
            "[CV] n_estimators=400, min_samples_split=5, min_samples_leaf=5, max_features=auto, max_depth=15 \n",
            "[CV]  n_estimators=400, min_samples_split=5, min_samples_leaf=5, max_features=auto, max_depth=15, total=   7.0s\n",
            "[CV] n_estimators=400, min_samples_split=5, min_samples_leaf=5, max_features=auto, max_depth=15 \n",
            "[CV]  n_estimators=400, min_samples_split=5, min_samples_leaf=5, max_features=auto, max_depth=15, total=   7.0s\n",
            "[CV] n_estimators=400, min_samples_split=5, min_samples_leaf=5, max_features=auto, max_depth=15 \n",
            "[CV]  n_estimators=400, min_samples_split=5, min_samples_leaf=5, max_features=auto, max_depth=15, total=   7.1s\n",
            "[CV] n_estimators=700, min_samples_split=5, min_samples_leaf=10, max_features=auto, max_depth=20 \n",
            "[CV]  n_estimators=700, min_samples_split=5, min_samples_leaf=10, max_features=auto, max_depth=20, total=  11.1s\n",
            "[CV] n_estimators=700, min_samples_split=5, min_samples_leaf=10, max_features=auto, max_depth=20 \n",
            "[CV]  n_estimators=700, min_samples_split=5, min_samples_leaf=10, max_features=auto, max_depth=20, total=  10.9s\n",
            "[CV] n_estimators=700, min_samples_split=5, min_samples_leaf=10, max_features=auto, max_depth=20 \n",
            "[CV]  n_estimators=700, min_samples_split=5, min_samples_leaf=10, max_features=auto, max_depth=20, total=  10.9s\n",
            "[CV] n_estimators=700, min_samples_split=5, min_samples_leaf=10, max_features=auto, max_depth=20 \n",
            "[CV]  n_estimators=700, min_samples_split=5, min_samples_leaf=10, max_features=auto, max_depth=20, total=  10.9s\n",
            "[CV] n_estimators=700, min_samples_split=5, min_samples_leaf=10, max_features=auto, max_depth=20 \n",
            "[CV]  n_estimators=700, min_samples_split=5, min_samples_leaf=10, max_features=auto, max_depth=20, total=  10.9s\n",
            "[CV] n_estimators=1000, min_samples_split=2, min_samples_leaf=1, max_features=sqrt, max_depth=25 \n",
            "[CV]  n_estimators=1000, min_samples_split=2, min_samples_leaf=1, max_features=sqrt, max_depth=25, total=   9.6s\n",
            "[CV] n_estimators=1000, min_samples_split=2, min_samples_leaf=1, max_features=sqrt, max_depth=25 \n",
            "[CV]  n_estimators=1000, min_samples_split=2, min_samples_leaf=1, max_features=sqrt, max_depth=25, total=   9.3s\n",
            "[CV] n_estimators=1000, min_samples_split=2, min_samples_leaf=1, max_features=sqrt, max_depth=25 \n",
            "[CV]  n_estimators=1000, min_samples_split=2, min_samples_leaf=1, max_features=sqrt, max_depth=25, total=   9.2s\n",
            "[CV] n_estimators=1000, min_samples_split=2, min_samples_leaf=1, max_features=sqrt, max_depth=25 \n",
            "[CV]  n_estimators=1000, min_samples_split=2, min_samples_leaf=1, max_features=sqrt, max_depth=25, total=   9.4s\n",
            "[CV] n_estimators=1000, min_samples_split=2, min_samples_leaf=1, max_features=sqrt, max_depth=25 \n",
            "[CV]  n_estimators=1000, min_samples_split=2, min_samples_leaf=1, max_features=sqrt, max_depth=25, total=   9.3s\n",
            "[CV] n_estimators=1100, min_samples_split=15, min_samples_leaf=10, max_features=sqrt, max_depth=5 \n",
            "[CV]  n_estimators=1100, min_samples_split=15, min_samples_leaf=10, max_features=sqrt, max_depth=5, total=   3.2s\n",
            "[CV] n_estimators=1100, min_samples_split=15, min_samples_leaf=10, max_features=sqrt, max_depth=5 \n",
            "[CV]  n_estimators=1100, min_samples_split=15, min_samples_leaf=10, max_features=sqrt, max_depth=5, total=   3.2s\n",
            "[CV] n_estimators=1100, min_samples_split=15, min_samples_leaf=10, max_features=sqrt, max_depth=5 \n",
            "[CV]  n_estimators=1100, min_samples_split=15, min_samples_leaf=10, max_features=sqrt, max_depth=5, total=   3.2s\n",
            "[CV] n_estimators=1100, min_samples_split=15, min_samples_leaf=10, max_features=sqrt, max_depth=5 \n",
            "[CV]  n_estimators=1100, min_samples_split=15, min_samples_leaf=10, max_features=sqrt, max_depth=5, total=   3.2s\n",
            "[CV] n_estimators=1100, min_samples_split=15, min_samples_leaf=10, max_features=sqrt, max_depth=5 \n",
            "[CV]  n_estimators=1100, min_samples_split=15, min_samples_leaf=10, max_features=sqrt, max_depth=5, total=   3.2s\n",
            "[CV] n_estimators=300, min_samples_split=15, min_samples_leaf=1, max_features=sqrt, max_depth=15 \n",
            "[CV]  n_estimators=300, min_samples_split=15, min_samples_leaf=1, max_features=sqrt, max_depth=15, total=   1.6s\n",
            "[CV] n_estimators=300, min_samples_split=15, min_samples_leaf=1, max_features=sqrt, max_depth=15 \n",
            "[CV]  n_estimators=300, min_samples_split=15, min_samples_leaf=1, max_features=sqrt, max_depth=15, total=   1.6s\n",
            "[CV] n_estimators=300, min_samples_split=15, min_samples_leaf=1, max_features=sqrt, max_depth=15 \n",
            "[CV]  n_estimators=300, min_samples_split=15, min_samples_leaf=1, max_features=sqrt, max_depth=15, total=   1.6s\n",
            "[CV] n_estimators=300, min_samples_split=15, min_samples_leaf=1, max_features=sqrt, max_depth=15 \n",
            "[CV]  n_estimators=300, min_samples_split=15, min_samples_leaf=1, max_features=sqrt, max_depth=15, total=   1.6s\n",
            "[CV] n_estimators=300, min_samples_split=15, min_samples_leaf=1, max_features=sqrt, max_depth=15 \n",
            "[CV]  n_estimators=300, min_samples_split=15, min_samples_leaf=1, max_features=sqrt, max_depth=15, total=   1.6s\n",
            "[CV] n_estimators=700, min_samples_split=10, min_samples_leaf=2, max_features=sqrt, max_depth=5 \n",
            "[CV]  n_estimators=700, min_samples_split=10, min_samples_leaf=2, max_features=sqrt, max_depth=5, total=   2.1s\n",
            "[CV] n_estimators=700, min_samples_split=10, min_samples_leaf=2, max_features=sqrt, max_depth=5 \n",
            "[CV]  n_estimators=700, min_samples_split=10, min_samples_leaf=2, max_features=sqrt, max_depth=5, total=   2.1s\n",
            "[CV] n_estimators=700, min_samples_split=10, min_samples_leaf=2, max_features=sqrt, max_depth=5 \n",
            "[CV]  n_estimators=700, min_samples_split=10, min_samples_leaf=2, max_features=sqrt, max_depth=5, total=   2.0s\n",
            "[CV] n_estimators=700, min_samples_split=10, min_samples_leaf=2, max_features=sqrt, max_depth=5 \n",
            "[CV]  n_estimators=700, min_samples_split=10, min_samples_leaf=2, max_features=sqrt, max_depth=5, total=   2.1s\n",
            "[CV] n_estimators=700, min_samples_split=10, min_samples_leaf=2, max_features=sqrt, max_depth=5 \n",
            "[CV]  n_estimators=700, min_samples_split=10, min_samples_leaf=2, max_features=sqrt, max_depth=5, total=   2.0s\n",
            "[CV] n_estimators=700, min_samples_split=15, min_samples_leaf=1, max_features=auto, max_depth=20 \n",
            "[CV]  n_estimators=700, min_samples_split=15, min_samples_leaf=1, max_features=auto, max_depth=20, total=  13.2s\n",
            "[CV] n_estimators=700, min_samples_split=15, min_samples_leaf=1, max_features=auto, max_depth=20 \n",
            "[CV]  n_estimators=700, min_samples_split=15, min_samples_leaf=1, max_features=auto, max_depth=20, total=  13.3s\n",
            "[CV] n_estimators=700, min_samples_split=15, min_samples_leaf=1, max_features=auto, max_depth=20 \n",
            "[CV]  n_estimators=700, min_samples_split=15, min_samples_leaf=1, max_features=auto, max_depth=20, total=  13.0s\n",
            "[CV] n_estimators=700, min_samples_split=15, min_samples_leaf=1, max_features=auto, max_depth=20 \n",
            "[CV]  n_estimators=700, min_samples_split=15, min_samples_leaf=1, max_features=auto, max_depth=20, total=  13.2s\n",
            "[CV] n_estimators=700, min_samples_split=15, min_samples_leaf=1, max_features=auto, max_depth=20 \n",
            "[CV]  n_estimators=700, min_samples_split=15, min_samples_leaf=1, max_features=auto, max_depth=20, total=  13.4s\n"
          ],
          "name": "stdout"
        },
        {
          "output_type": "stream",
          "text": [
            "[Parallel(n_jobs=1)]: Done  50 out of  50 | elapsed:  5.1min finished\n"
          ],
          "name": "stderr"
        },
        {
          "output_type": "execute_result",
          "data": {
            "text/plain": [
              "RandomizedSearchCV(cv=5, error_score=nan,\n",
              "                   estimator=RandomForestRegressor(bootstrap=True,\n",
              "                                                   ccp_alpha=0.0,\n",
              "                                                   criterion='mse',\n",
              "                                                   max_depth=None,\n",
              "                                                   max_features='auto',\n",
              "                                                   max_leaf_nodes=None,\n",
              "                                                   max_samples=None,\n",
              "                                                   min_impurity_decrease=0.0,\n",
              "                                                   min_impurity_split=None,\n",
              "                                                   min_samples_leaf=1,\n",
              "                                                   min_samples_split=2,\n",
              "                                                   min_weight_fraction_leaf=0.0,\n",
              "                                                   n_estimators=100,\n",
              "                                                   n_jobs=None, oob_score=Fals...\n",
              "                   iid='deprecated', n_iter=10, n_jobs=1,\n",
              "                   param_distributions={'max_depth': [5, 10, 15, 20, 25, 30],\n",
              "                                        'max_features': ['auto', 'sqrt'],\n",
              "                                        'min_samples_leaf': [1, 2, 5, 10],\n",
              "                                        'min_samples_split': [2, 5, 10, 15,\n",
              "                                                              100],\n",
              "                                        'n_estimators': [100, 200, 300, 400,\n",
              "                                                         500, 600, 700, 800,\n",
              "                                                         900, 1000, 1100,\n",
              "                                                         1200]},\n",
              "                   pre_dispatch='2*n_jobs', random_state=42, refit=True,\n",
              "                   return_train_score=False, scoring='neg_mean_squared_error',\n",
              "                   verbose=2)"
            ]
          },
          "metadata": {
            "tags": []
          },
          "execution_count": 72
        }
      ]
    },
    {
      "cell_type": "code",
      "metadata": {
        "id": "0-U3GA-nRcXn",
        "outputId": "e4b248f4-49d4-4a52-f4d2-e5700ba43035",
        "colab": {
          "base_uri": "https://localhost:8080/"
        }
      },
      "source": [
        "rf_random.best_params_"
      ],
      "execution_count": null,
      "outputs": [
        {
          "output_type": "execute_result",
          "data": {
            "text/plain": [
              "{'max_depth': 20,\n",
              " 'max_features': 'auto',\n",
              " 'min_samples_leaf': 1,\n",
              " 'min_samples_split': 15,\n",
              " 'n_estimators': 700}"
            ]
          },
          "metadata": {
            "tags": []
          },
          "execution_count": 73
        }
      ]
    },
    {
      "cell_type": "code",
      "metadata": {
        "id": "A8UPODoARhme"
      },
      "source": [
        "prediction = rf_random.predict(X_test)"
      ],
      "execution_count": null,
      "outputs": []
    },
    {
      "cell_type": "code",
      "metadata": {
        "id": "Ud7iqlS1RkKa",
        "outputId": "5b4095f0-f0c8-434d-d5ff-bd0276489901",
        "colab": {
          "base_uri": "https://localhost:8080/",
          "height": 550
        }
      },
      "source": [
        "plt.figure(figsize = (8,8))\n",
        "sns.distplot(y_test-prediction)\n",
        "plt.show()"
      ],
      "execution_count": null,
      "outputs": [
        {
          "output_type": "stream",
          "text": [
            "/usr/local/lib/python3.6/dist-packages/seaborn/distributions.py:2551: FutureWarning: `distplot` is a deprecated function and will be removed in a future version. Please adapt your code to use either `displot` (a figure-level function with similar flexibility) or `histplot` (an axes-level function for histograms).\n",
            "  warnings.warn(msg, FutureWarning)\n"
          ],
          "name": "stderr"
        },
        {
          "output_type": "display_data",
          "data": {
            "image/png": "[encoded data removed]",
            "text/plain": [
              "<Figure size 576x576 with 1 Axes>"
            ]
          },
          "metadata": {
            "tags": [],
            "needs_background": "light"
          }
        }
      ]
    },
    {
      "cell_type": "code",
      "metadata": {
        "id": "4Q6vuDTnRzSP",
        "outputId": "d95d2fb6-3d9e-4e19-a970-4e9e1992a132",
        "colab": {
          "base_uri": "https://localhost:8080/",
          "height": 497
        }
      },
      "source": [
        "plt.figure(figsize = (8,8))\n",
        "plt.scatter(y_test, prediction, alpha = 0.5)\n",
        "plt.xlabel(\"y_test\")\n",
        "plt.ylabel(\"y_pred\")\n",
        "plt.show()"
      ],
      "execution_count": null,
      "outputs": [
        {
          "output_type": "display_data",
          "data": {
            "image/png": "[encoded data removed]",
            "text/plain": [
              "<Figure size 576x576 with 1 Axes>"
            ]
          },
          "metadata": {
            "tags": [],
            "needs_background": "light"
          }
        }
      ]
    },
    {
      "cell_type": "code",
      "metadata": {
        "id": "AkaYLuA7R5rO",
        "outputId": "c49f0212-dec7-4ead-c9d3-ea95072db39b",
        "colab": {
          "base_uri": "https://localhost:8080/"
        }
      },
      "source": [
        "print('MAE:', metrics.mean_absolute_error(y_test, prediction))\n",
        "print('MSE:', metrics.mean_squared_error(y_test, prediction))\n",
        "print('RMSE:', np.sqrt(metrics.mean_squared_error(y_test, prediction)))\n",
        "print('R2 score:',metrics.r2_score(y_test, y_pred))"
      ],
      "execution_count": null,
      "outputs": [
        {
          "output_type": "stream",
          "text": [
            "MAE: 1164.1579073688624\n",
            "MSE: 4054673.8492568554\n",
            "RMSE: 2013.622072102125\n",
            "R2 score: 0.795998274528453\n"
          ],
          "name": "stdout"
        }
      ]
    },
    {
      "cell_type": "code",
      "metadata": {
        "id": "_IXsyKzWR-O-"
      },
      "source": [
        "#Saving model\n",
        "\n",
        "import pickle\n",
        "# open a file, where you ant to store the data\n",
        "file = open('flight_rf.pkl', 'wb')\n",
        "\n",
        "# dump information to that file\n",
        "pickle.dump(reg_rf, file)"
      ],
      "execution_count": null,
      "outputs": []
    },
    {
      "cell_type": "code",
      "metadata": {
        "id": "NVqeVz8hSNoi",
        "outputId": "23ef0ad2-4ebd-4135-d976-90798bbf7b19",
        "colab": {
          "base_uri": "https://localhost:8080/"
        }
      },
      "source": [
        "#Opening model\n",
        "\n",
        "model = open('flight_rf.pkl','rb')\n",
        "forest = pickle.load(model)\n",
        "print(forest)"
      ],
      "execution_count": null,
      "outputs": [
        {
          "output_type": "stream",
          "text": [
            "RandomForestRegressor(bootstrap=True, ccp_alpha=0.0, criterion='mse',\n",
            "                      max_depth=None, max_features='auto', max_leaf_nodes=None,\n",
            "                      max_samples=None, min_impurity_decrease=0.0,\n",
            "                      min_impurity_split=None, min_samples_leaf=1,\n",
            "                      min_samples_split=2, min_weight_fraction_leaf=0.0,\n",
            "                      n_estimators=100, n_jobs=None, oob_score=False,\n",
            "                      random_state=None, verbose=0, warm_start=False)\n"
          ],
          "name": "stdout"
        }
      ]
    }
  ]
}